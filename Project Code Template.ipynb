{
  "cells": [
    {
      "cell_type": "raw",
      "id": "33dd6c4c",
      "metadata": {
        "id": "33dd6c4c"
      },
      "source": [
        "---\n",
        "title: \"Project Code\"\n",
        "subtitle: Team name\n",
        "author: Author 1, Author 2, Author 3, and Author 4 \n",
        "date: 05/23/2023\n",
        "number-sections: true\n",
        "abstract: _This file contains the code for the project on <>, as part of the STAT303-3 course in Spring 2023_.\n",
        "format: \n",
        "  html:\n",
        "    toc: true\n",
        "    toc-title: Contents\n",
        "    self-contained: true\n",
        "    font-size: 100%\n",
        "    toc-depth: 4\n",
        "    mainfont: serif\n",
        "jupyter: python3\n",
        "---"
      ]
    },
    {
      "attachments": {},
      "cell_type": "markdown",
      "id": "fe7ea9bb",
      "metadata": {
        "id": "fe7ea9bb"
      },
      "source": [
        "## Data quality check / cleaning / preparation \n",
        "\n",
        "Put code with comments. The comments should explain the code such that it can be easily understood. You may put text *(in a markdown cell)* before a large chunk of code to explain the overall purpose of the code, if it is not intuitive. **Put the name of the person / persons who contributed to each code chunk / set of code chunks.** An example is given below."
      ]
    },
    {
      "cell_type": "code",
      "execution_count": 1,
      "id": "b77c5032",
      "metadata": {
        "id": "b77c5032"
      },
      "outputs": [],
      "source": [
        "import pandas as pd\n",
        "import seaborn as sns\n",
        "import numpy as np\n",
        "import sklearn as sk\n",
        "from sklearn import impute\n",
        "import itertools as it\n",
        "\n",
        "from sklearn.tree import DecisionTreeClassifier\n",
        "from sklearn.metrics import roc_curve, precision_recall_curve, auc, make_scorer, recall_score, \\\n",
        "accuracy_score, precision_score, confusion_matrix, mean_squared_error, r2_score, mean_absolute_error\n",
        "from sklearn.model_selection import KFold, GridSearchCV, RandomizedSearchCV, ParameterGrid, cross_val_predict, cross_val_score, cross_validate\n",
        "import matplotlib.pyplot as plt\n",
        "import xgboost as xgb\n",
        "from sklearn.ensemble import StackingClassifier, AdaBoostClassifier, GradientBoostingClassifier, RandomForestClassifier, VotingClassifier\n",
        "from sklearn.linear_model import LogisticRegression\n",
        "import time\n",
        "from catboost import CatBoostClassifier"
      ]
    },
    {
      "attachments": {},
      "cell_type": "markdown",
      "id": "371a5a4a",
      "metadata": {
        "id": "371a5a4a"
      },
      "source": [
        "### Initial Data cleaning\n",
        "*By Margaret Pirozzolo*"
      ]
    },
    {
      "cell_type": "code",
      "execution_count": null,
      "id": "b868f6b5",
      "metadata": {
        "id": "b868f6b5",
        "outputId": "0639b4f2-76b8-4c1a-ccac-bddb446e677d"
      },
      "outputs": [
        {
          "name": "stderr",
          "output_type": "stream",
          "text": [
            "/var/folders/kq/x88bqfhj3yb4k2h4w6khqk8m0000gn/T/ipykernel_40937/3665773467.py:2: DtypeWarning: Columns (10) have mixed types. Specify dtype option on import or set low_memory=False.\n",
            "  meta = pd.read_csv('movies_metadata.csv')\n"
          ]
        }
      ],
      "source": [
        "# reading all three datasets\n",
        "meta = pd.read_csv('movies_metadata.csv')\n",
        "credits = pd.read_csv('credits.csv')\n",
        "keywords = pd.read_csv('keywords.csv')"
      ]
    },
    {
      "cell_type": "code",
      "execution_count": null,
      "id": "20678e7f",
      "metadata": {
        "id": "20678e7f"
      },
      "outputs": [],
      "source": [
        "# turning the ID columns into numbers\n",
        "def id_to_int(string):\n",
        "    try:\n",
        "        return int(string)\n",
        "    except:\n",
        "        return np.nan\n",
        "\n",
        "meta.id = meta.id.apply(id_to_int)\n",
        "\n",
        "# merging the datasets \n",
        "drop = pd.merge(meta, credits, on = 'id')\n",
        "drop = pd.merge(drop, keywords, on = 'id')\n",
        "\n",
        "# dropping columns that are recorded after the movie is released and hyper-specific columns\n",
        "drop = drop.drop(labels = ['id','imdb_id','overview','poster_path','popularity',\n",
        "                            'vote_average','vote_count', 'title','original_title'], axis = 1)\n",
        "\n",
        "clean = drop.copy()"
      ]
    },
    {
      "cell_type": "code",
      "execution_count": null,
      "id": "0efdd945",
      "metadata": {
        "id": "0efdd945"
      },
      "outputs": [],
      "source": [
        "# fills nans with 0 and 1 to make binary variable\n",
        "def filled(string):\n",
        "    if string is np.nan:\n",
        "        string = 0\n",
        "    else:\n",
        "        string = 1\n",
        "    return string\n",
        "\n",
        "# turns bools into numbers\n",
        "def vid(boo):\n",
        "    try:\n",
        "        boo = int(boo)\n",
        "    except:\n",
        "        boo = False\n",
        "    return boo"
      ]
    },
    {
      "cell_type": "code",
      "execution_count": null,
      "id": "dc09299d",
      "metadata": {
        "id": "dc09299d"
      },
      "outputs": [],
      "source": [
        "# functions to turn strange dictionary strings into readable data\n",
        "def get_genre(string):\n",
        "    try:\n",
        "    # remove the curly braces from the string\n",
        "        string = string.strip('[]')\n",
        "        string = string.strip('{}')\n",
        " \n",
        "    # split the string into key-value pairs\n",
        "        pairs = string.split(', ')\n",
        "        pairs = pairs[1]\n",
        "        pairs = pairs.strip('}')\n",
        "    \n",
        "        return pairs[9:-1]\n",
        "    except:\n",
        "        return np.nan\n",
        "\n",
        "def get_company(string):\n",
        "    try:\n",
        "    # remove the curly braces from the string\n",
        "        string = string.strip('[]')\n",
        "        string = string.strip('{}')\n",
        " \n",
        "    # split the string into key-value pairs\n",
        "        pairs = string.split(', ')\n",
        "        pairs = pairs[0]\n",
        "        pairs = pairs.strip('}')\n",
        "    \n",
        "        return pairs[9:-1]\n",
        "    except:\n",
        "        return np.nan\n",
        "    \n",
        "def get_country(string):\n",
        "    try:\n",
        "    # remove the curly braces from the string\n",
        "        string = string.strip('[]')\n",
        "        string = string.strip('{}')\n",
        " \n",
        "    # split the string into key-value pairs\n",
        "        pairs = string.split(', ')\n",
        "        pairs = pairs[0]\n",
        "        pairs = pairs.strip('}')\n",
        "    \n",
        "        return pairs[15:-1]\n",
        "    except:\n",
        "        return np.nan\n",
        "    \n",
        "def get_month(string):\n",
        "    try:\n",
        "        return str(string[5:7])\n",
        "    except:\n",
        "        return str(5)\n",
        "    \n",
        "def get_language(string):\n",
        "    try:\n",
        "    # remove the curly braces from the string\n",
        "        string = string.strip('[]')\n",
        "        string = string.strip('{}')\n",
        " \n",
        "    # split the string into key-value pairs\n",
        "        pairs = string.split(', ')\n",
        "        pairs = pairs[0]\n",
        "        pairs = pairs.strip('}')\n",
        "    \n",
        "        return pairs[14:-1]\n",
        "    except:\n",
        "        return np.nan\n",
        "\n",
        "def get_person(string):\n",
        "    try:\n",
        "    # remove the curly braces from the string\n",
        "        string = string.strip('[]')\n",
        "        string = string.strip('{}')\n",
        " \n",
        "    # split the string into key-value pairs\n",
        "        pairs = string.split(', ')\n",
        "        pairs = pairs[5]\n",
        "    \n",
        "        return pairs[9:-1]\n",
        "    except:\n",
        "        return np.nan\n",
        "    \n",
        "def get_actor(string):\n",
        "    try:\n",
        "    # remove the curly braces from the string\n",
        "        string = string.strip('[]')\n",
        "        string = string.strip('{}')\n",
        " \n",
        "    # split the string into key-value pairs\n",
        "        pairs = string.split(', ')\n",
        "        pairs = pairs[5]\n",
        "    \n",
        "        return pairs[9:-1]\n",
        "    except:\n",
        "        return np.nan\n",
        "    \n",
        "def get_keyword(string):\n",
        "    try:\n",
        "    # remove the curly braces from the string\n",
        "        string = string.strip('[]')\n",
        "        string = string.strip('{}')\n",
        " \n",
        "    # split the string into key-value pairs\n",
        "        pairs = string.split(', ')\n",
        "        pairs = pairs[1]\n",
        "        pairs = pairs.strip('}')\n",
        "    \n",
        "        return pairs[9:-1]\n",
        "    except:\n",
        "        return np.nan\n",
        "\n"
      ]
    },
    {
      "cell_type": "code",
      "execution_count": null,
      "id": "7b3287fa",
      "metadata": {
        "id": "7b3287fa"
      },
      "outputs": [],
      "source": [
        "# applying all the functions\n",
        "clean.genres = drop.genres.apply(get_genre)\n",
        "clean.belongs_to_collection = drop.belongs_to_collection.apply(filled)\n",
        "clean.homepage = drop.homepage.apply(filled)\n",
        "clean.tagline = drop.tagline.apply(filled)\n",
        "clean.video = drop.video.apply(vid)\n",
        "clean.production_companies = drop.production_companies.apply(get_company)\n",
        "clean.production_countries = drop.production_countries.apply(get_country)\n",
        "clean['release_month'] = drop.release_date.apply(get_month)\n",
        "clean.spoken_languages = drop.spoken_languages.apply(get_language)\n",
        "clean['top_crew'] = drop.crew.apply(get_person)\n",
        "clean['top_cast'] = drop.cast.apply(get_actor)\n",
        "clean['top_keyword'] = drop.keywords.apply(get_keyword)\n",
        "clean = clean.drop(labels = ['cast','crew','keywords'], axis = 1)"
      ]
    },
    {
      "cell_type": "code",
      "execution_count": null,
      "id": "597b9f80",
      "metadata": {
        "id": "597b9f80"
      },
      "outputs": [],
      "source": [
        "# turning budget into float\n",
        "def budget_to_float(string):\n",
        "    try:\n",
        "        return float(string)\n",
        "    except:\n",
        "        return np.nan\n",
        "    \n",
        "clean.budget = clean.budget.apply(budget_to_float)\n",
        "\n",
        "#creating profit column\n",
        "clean['profit'] = clean.revenue - clean.budget"
      ]
    },
    {
      "cell_type": "code",
      "execution_count": null,
      "id": "8152e150",
      "metadata": {
        "id": "8152e150"
      },
      "outputs": [],
      "source": [
        "def profitable(number):\n",
        "    if number > 0.0:\n",
        "        number = 1\n",
        "    else:\n",
        "        number = 0\n",
        "    return number\n",
        "\n",
        "#creating profitable binary column\n",
        "clean['profitable'] = clean.profit\n",
        "clean.profitable = clean.profitable.apply(profitable)\n",
        "# dropping the columns to get there and exporting as a csv file\n",
        "clean = clean.drop([\"profit\",'revenue'], axis = 1)\n",
        "clean.to_csv('clean.csv')"
      ]
    },
    {
      "attachments": {},
      "cell_type": "markdown",
      "id": "ff6b5e83",
      "metadata": {
        "id": "ff6b5e83"
      },
      "source": [
        "### Data Preparation/EDA\n",
        "*By Margaret Pirozzolo*"
      ]
    },
    {
      "cell_type": "code",
      "execution_count": null,
      "id": "25ddf4d3",
      "metadata": {
        "id": "25ddf4d3",
        "outputId": "ad342e01-de00-4522-c7bd-a58820dbe59d"
      },
      "outputs": [
        {
          "data": {
            "text/html": [
              "<div>\n",
              "<style scoped>\n",
              "    .dataframe tbody tr th:only-of-type {\n",
              "        vertical-align: middle;\n",
              "    }\n",
              "\n",
              "    .dataframe tbody tr th {\n",
              "        vertical-align: top;\n",
              "    }\n",
              "\n",
              "    .dataframe thead th {\n",
              "        text-align: right;\n",
              "    }\n",
              "</style>\n",
              "<table border=\"1\" class=\"dataframe\">\n",
              "  <thead>\n",
              "    <tr style=\"text-align: right;\">\n",
              "      <th></th>\n",
              "      <th>Unnamed: 0</th>\n",
              "      <th>belongs_to_collection</th>\n",
              "      <th>budget</th>\n",
              "      <th>homepage</th>\n",
              "      <th>runtime</th>\n",
              "      <th>tagline</th>\n",
              "      <th>release_month</th>\n",
              "      <th>profitable</th>\n",
              "    </tr>\n",
              "  </thead>\n",
              "  <tbody>\n",
              "    <tr>\n",
              "      <th>count</th>\n",
              "      <td>46628.000000</td>\n",
              "      <td>46628.000000</td>\n",
              "      <td>4.662800e+04</td>\n",
              "      <td>46628.000000</td>\n",
              "      <td>46360.000000</td>\n",
              "      <td>46628.000000</td>\n",
              "      <td>46628.000000</td>\n",
              "      <td>46628.000000</td>\n",
              "    </tr>\n",
              "    <tr>\n",
              "      <th>mean</th>\n",
              "      <td>23313.500000</td>\n",
              "      <td>0.098096</td>\n",
              "      <td>4.163636e+06</td>\n",
              "      <td>0.171764</td>\n",
              "      <td>94.086885</td>\n",
              "      <td>0.445719</td>\n",
              "      <td>6.452518</td>\n",
              "      <td>0.126190</td>\n",
              "    </tr>\n",
              "    <tr>\n",
              "      <th>std</th>\n",
              "      <td>13460.488513</td>\n",
              "      <td>0.297447</td>\n",
              "      <td>1.727426e+07</td>\n",
              "      <td>0.377179</td>\n",
              "      <td>38.454015</td>\n",
              "      <td>0.497050</td>\n",
              "      <td>3.632411</td>\n",
              "      <td>0.332067</td>\n",
              "    </tr>\n",
              "    <tr>\n",
              "      <th>min</th>\n",
              "      <td>0.000000</td>\n",
              "      <td>0.000000</td>\n",
              "      <td>0.000000e+00</td>\n",
              "      <td>0.000000</td>\n",
              "      <td>0.000000</td>\n",
              "      <td>0.000000</td>\n",
              "      <td>1.000000</td>\n",
              "      <td>0.000000</td>\n",
              "    </tr>\n",
              "    <tr>\n",
              "      <th>25%</th>\n",
              "      <td>11656.750000</td>\n",
              "      <td>0.000000</td>\n",
              "      <td>0.000000e+00</td>\n",
              "      <td>0.000000</td>\n",
              "      <td>85.000000</td>\n",
              "      <td>0.000000</td>\n",
              "      <td>3.000000</td>\n",
              "      <td>0.000000</td>\n",
              "    </tr>\n",
              "    <tr>\n",
              "      <th>50%</th>\n",
              "      <td>23313.500000</td>\n",
              "      <td>0.000000</td>\n",
              "      <td>0.000000e+00</td>\n",
              "      <td>0.000000</td>\n",
              "      <td>95.000000</td>\n",
              "      <td>0.000000</td>\n",
              "      <td>7.000000</td>\n",
              "      <td>0.000000</td>\n",
              "    </tr>\n",
              "    <tr>\n",
              "      <th>75%</th>\n",
              "      <td>34970.250000</td>\n",
              "      <td>0.000000</td>\n",
              "      <td>0.000000e+00</td>\n",
              "      <td>0.000000</td>\n",
              "      <td>107.000000</td>\n",
              "      <td>1.000000</td>\n",
              "      <td>10.000000</td>\n",
              "      <td>0.000000</td>\n",
              "    </tr>\n",
              "    <tr>\n",
              "      <th>max</th>\n",
              "      <td>46627.000000</td>\n",
              "      <td>1.000000</td>\n",
              "      <td>3.800000e+08</td>\n",
              "      <td>1.000000</td>\n",
              "      <td>1256.000000</td>\n",
              "      <td>1.000000</td>\n",
              "      <td>12.000000</td>\n",
              "      <td>1.000000</td>\n",
              "    </tr>\n",
              "  </tbody>\n",
              "</table>\n",
              "</div>"
            ],
            "text/plain": [
              "         Unnamed: 0  belongs_to_collection        budget      homepage  \\\n",
              "count  46628.000000           46628.000000  4.662800e+04  46628.000000   \n",
              "mean   23313.500000               0.098096  4.163636e+06      0.171764   \n",
              "std    13460.488513               0.297447  1.727426e+07      0.377179   \n",
              "min        0.000000               0.000000  0.000000e+00      0.000000   \n",
              "25%    11656.750000               0.000000  0.000000e+00      0.000000   \n",
              "50%    23313.500000               0.000000  0.000000e+00      0.000000   \n",
              "75%    34970.250000               0.000000  0.000000e+00      0.000000   \n",
              "max    46627.000000               1.000000  3.800000e+08      1.000000   \n",
              "\n",
              "            runtime       tagline  release_month    profitable  \n",
              "count  46360.000000  46628.000000   46628.000000  46628.000000  \n",
              "mean      94.086885      0.445719       6.452518      0.126190  \n",
              "std       38.454015      0.497050       3.632411      0.332067  \n",
              "min        0.000000      0.000000       1.000000      0.000000  \n",
              "25%       85.000000      0.000000       3.000000      0.000000  \n",
              "50%       95.000000      0.000000       7.000000      0.000000  \n",
              "75%      107.000000      1.000000      10.000000      0.000000  \n",
              "max     1256.000000      1.000000      12.000000      1.000000  "
            ]
          },
          "execution_count": 53,
          "metadata": {},
          "output_type": "execute_result"
        }
      ],
      "source": [
        "data = pd.read_csv('clean.csv')\n",
        "# looking at distribution of data\n",
        "data.describe()"
      ]
    },
    {
      "cell_type": "code",
      "execution_count": null,
      "id": "e14fbf03",
      "metadata": {
        "id": "e14fbf03",
        "outputId": "5a9fc87d-9634-4552-ecde-9c742079d1c6"
      },
      "outputs": [
        {
          "name": "stderr",
          "output_type": "stream",
          "text": [
            "/Users/margaretpirozzolo/opt/anaconda3/lib/python3.9/site-packages/seaborn/_decorators.py:36: FutureWarning: Pass the following variable as a keyword arg: x. From version 0.12, the only valid positional argument will be `data`, and passing other arguments without an explicit keyword will result in an error or misinterpretation.\n",
            "  warnings.warn(\n"
          ]
        },
        {
          "data": {
            "text/plain": [
              "<AxesSubplot:xlabel='profitable', ylabel='count'>"
            ]
          },
          "execution_count": 54,
          "metadata": {},
          "output_type": "execute_result"
        },
        {
          "data": {
            "image/png": "[encoded data removed]",
            "text/plain": [
              "<Figure size 432x288 with 1 Axes>"
            ]
          },
          "metadata": {
            "needs_background": "light"
          },
          "output_type": "display_data"
        }
      ],
      "source": [
        "# looking at distribution of outcome variable\n",
        "sns.countplot(data.profitable)"
      ]
    },
    {
      "cell_type": "code",
      "execution_count": null,
      "id": "46741740",
      "metadata": {
        "id": "46741740",
        "outputId": "ef6bf72d-2ba2-427f-a8fd-978a79616807"
      },
      "outputs": [
        {
          "data": {
            "text/plain": [
              "0.5"
            ]
          },
          "execution_count": 55,
          "metadata": {},
          "output_type": "execute_result"
        }
      ],
      "source": [
        "# undersampling the data to make it balanced\n",
        "sample = pd.concat([data.loc[data.profitable == 0, :].sample(\n",
        "    n=data['profitable'].sum(), replace = False, random_state=50), data.loc[data.profitable == 1, :]], axis=0)\n",
        "\n",
        "\n",
        "sample = sample.drop(['Unnamed: 0'], axis = 1)\n",
        "\n",
        "\n",
        "sample.profitable = sample.profitable.astype(int)\n",
        "sample.profitable.sum()/len(sample)\n",
        "\n"
      ]
    },
    {
      "cell_type": "code",
      "execution_count": null,
      "id": "9176ee6e",
      "metadata": {
        "id": "9176ee6e",
        "outputId": "a54904c7-905e-45c2-9485-a540c9b5f503"
      },
      "outputs": [
        {
          "name": "stderr",
          "output_type": "stream",
          "text": [
            "/Users/margaretpirozzolo/opt/anaconda3/lib/python3.9/site-packages/seaborn/_decorators.py:36: FutureWarning: Pass the following variable as a keyword arg: x. From version 0.12, the only valid positional argument will be `data`, and passing other arguments without an explicit keyword will result in an error or misinterpretation.\n",
            "  warnings.warn(\n"
          ]
        },
        {
          "data": {
            "text/plain": [
              "<AxesSubplot:xlabel='profitable', ylabel='count'>"
            ]
          },
          "execution_count": 56,
          "metadata": {},
          "output_type": "execute_result"
        },
        {
          "data": {
            "image/png": "[encoded data removed]",
            "text/plain": [
              "<Figure size 432x288 with 1 Axes>"
            ]
          },
          "metadata": {
            "needs_background": "light"
          },
          "output_type": "display_data"
        }
      ],
      "source": [
        "sns.countplot(sample.profitable)"
      ]
    },
    {
      "attachments": {},
      "cell_type": "markdown",
      "id": "8611912e",
      "metadata": {
        "id": "8611912e"
      },
      "source": [
        "We tried to run some eda on all the columns, but after we created dummy variables, there were just far too many columns. We ended up dropping the hyper-specific columns with more than 100 unique values."
      ]
    },
    {
      "cell_type": "code",
      "execution_count": null,
      "id": "85ba120d",
      "metadata": {
        "id": "85ba120d",
        "outputId": "e87e4b3d-fee6-4233-ba18-edd972fe19ae",
        "scrolled": true
      },
      "outputs": [
        {
          "name": "stdout",
          "output_type": "stream",
          "text": [
            "21\n",
            "6877\n",
            "62\n",
            "86\n",
            "2229\n",
            "5940\n",
            "3568\n"
          ]
        },
        {
          "data": {
            "text/plain": [
              "Index(['adult', 'belongs_to_collection', 'budget', 'genres', 'homepage',\n",
              "       'original_language', 'production_countries', 'runtime',\n",
              "       'spoken_languages', 'status', 'tagline', 'video', 'release_month',\n",
              "       'profitable'],\n",
              "      dtype='object')"
            ]
          },
          "execution_count": 57,
          "metadata": {},
          "output_type": "execute_result"
        }
      ],
      "source": [
        "print(len(pd.unique(sample['genres'])))\n",
        "\n",
        "print(len(pd.unique(sample['top_crew'])))\n",
        "\n",
        "print(len(pd.unique(sample['original_language'])))\n",
        "\n",
        "print(len(pd.unique(sample['spoken_languages'])))\n",
        "\n",
        "print(len(pd.unique(sample['top_keyword'])))\n",
        "\n",
        "print(len(pd.unique(sample['top_cast'])))\n",
        "\n",
        "print(len(pd.unique(sample['production_companies'])))\n",
        "\n",
        "sample = sample.drop(['top_crew','top_cast','top_keyword','release_date','production_companies'], axis = 1)\n",
        "\n",
        "sample.columns"
      ]
    },
    {
      "cell_type": "code",
      "execution_count": null,
      "id": "39bd89f2",
      "metadata": {
        "id": "39bd89f2"
      },
      "outputs": [],
      "source": [
        "# imputing numeric columns\n",
        "\n",
        "num_cols = sample._get_numeric_data().columns\n",
        "num_sample = sample.loc[:,num_cols]\n",
        "\n",
        "scaler = sk.preprocessing.MinMaxScaler()\n",
        "scaled_train = pd.DataFrame(scaler.fit_transform(num_sample))\n",
        "\n",
        "imputer = impute.KNNImputer(n_neighbors=2)\n",
        "imputed_arr_train = imputer.fit_transform(scaled_train)\n",
        "\n",
        "unscaled_train = scaler.inverse_transform(imputed_arr_train)\n",
        "\n",
        "imputed_sample = pd.DataFrame(unscaled_train)\n",
        "imputed_sample.columns = num_sample.columns"
      ]
    },
    {
      "cell_type": "code",
      "execution_count": null,
      "id": "a16398c9",
      "metadata": {
        "id": "a16398c9"
      },
      "outputs": [],
      "source": [
        "sample['belongs_to_collection'] = imputed_sample['belongs_to_collection']\n",
        "sample['budget'] = imputed_sample['budget']\n",
        "sample['homepage'] = imputed_sample['homepage']\n",
        "sample['runtime'] = imputed_sample['runtime']\n",
        "sample['profitable'] = imputed_sample['profitable']"
      ]
    },
    {
      "cell_type": "code",
      "execution_count": null,
      "id": "684d97ad",
      "metadata": {
        "id": "684d97ad"
      },
      "outputs": [],
      "source": [
        "# imputing categorical columns\n",
        "sample = sample.fillna(method = 'ffill')"
      ]
    },
    {
      "cell_type": "code",
      "execution_count": null,
      "id": "e1118051",
      "metadata": {
        "id": "e1118051"
      },
      "outputs": [],
      "source": [
        "# splitting the data into train and test\n",
        "from sklearn.model_selection import train_test_split\n",
        "X_train, X_test, y_train, y_test = train_test_split(\n",
        "    sample.drop(\"profitable\", axis=1),\n",
        "    sample.profitable,\n",
        "    test_size=0.15,\n",
        "    random_state=50)"
      ]
    },
    {
      "cell_type": "code",
      "execution_count": null,
      "id": "415deca0",
      "metadata": {
        "id": "415deca0",
        "scrolled": true
      },
      "outputs": [],
      "source": [
        "X_train_dummy = pd.get_dummies(X_train)\n",
        "X_test_dummy = pd.get_dummies(X_test)"
      ]
    },
    {
      "cell_type": "code",
      "execution_count": null,
      "id": "9aa0e8cb",
      "metadata": {
        "id": "9aa0e8cb"
      },
      "outputs": [],
      "source": [
        "# using lasso to select features\n",
        "\n",
        "from sklearn.preprocessing import StandardScaler \n",
        "from sklearn.linear_model import Ridge, RidgeCV, Lasso, LassoCV\n",
        "#standardizing the variables\n",
        "scaler = StandardScaler()\n",
        "scaler.fit(X_train_dummy)\n",
        "Xstd = scaler.transform(X_train_dummy)\n",
        "\n",
        "alphas = 10**np.linspace(1,-3,100)*0.5\n",
        "lasso = Lasso(max_iter = 10000)\n",
        "coefs = []\n",
        "\n",
        "for a in alphas:\n",
        "    lasso.set_params(alpha=a)\n",
        "    lasso.fit(Xstd, y_train)\n",
        "    coefs.append(lasso.coef_)\n",
        "\n",
        "lassocv = LassoCV(alphas = alphas, cv = 10, max_iter = 100000)\n",
        "lassocv.fit(Xstd, y_train)\n",
        "\n",
        "#Optimal value of the tuning parameter - lamda\n",
        "lassocv.alpha_\n",
        "\n",
        "lasso = Lasso(alpha =  lassocv.alpha_)\n",
        "lasso.fit(Xstd, y_train)\n",
        "lasso.coef_\n",
        "\n",
        "from sklearn.feature_selection import SelectFromModel\n",
        "\n",
        "sel_ = SelectFromModel(Lasso(alpha=lassocv.alpha_))\n",
        "sel_.fit(np.array(X_train_dummy), y_train)\n",
        "\n",
        "# make a list with the selected features and print the outputs\n",
        "selected_features = X_train_dummy.columns[(sel_.get_support())]"
      ]
    },
    {
      "cell_type": "code",
      "execution_count": null,
      "id": "25ce1faa",
      "metadata": {
        "id": "25ce1faa",
        "outputId": "ba590b1e-34e4-4a8e-f58d-ad57a5666ab0"
      },
      "outputs": [
        {
          "name": "stdout",
          "output_type": "stream",
          "text": [
            "Index(['belongs_to_collection', 'homepage', 'runtime', 'tagline',\n",
            "       'release_month', 'genres_Action', 'genres_Comedy', 'genres_Documentary',\n",
            "       'genres_Drama', 'genres_Horror', 'production_countries_IN',\n",
            "       'production_countries_US', 'spoken_languages_en'],\n",
            "      dtype='object')\n"
          ]
        }
      ],
      "source": [
        "print(selected_features)"
      ]
    },
    {
      "cell_type": "code",
      "execution_count": null,
      "id": "a77b520c",
      "metadata": {
        "id": "a77b520c"
      },
      "outputs": [],
      "source": [
        "X_train = X_train_dummy[selected_features]\n",
        "X_test = X_test_dummy[selected_features]"
      ]
    },
    {
      "attachments": {},
      "cell_type": "markdown",
      "id": "acab331a",
      "metadata": {
        "id": "acab331a"
      },
      "source": [
        "## Developing the model: Hyperparameter tuning"
      ]
    },
    {
      "attachments": {},
      "cell_type": "markdown",
      "id": "ae5ec4c9",
      "metadata": {
        "id": "ae5ec4c9"
      },
      "source": [
        "Put code with comments. The comments should explain the code such that it can be easily understood. You may put text *(in a markdown cell)* before a large chunk of code to explain the overall purpose of the code, if it is not intuitive. **Put the name of the person / persons who contributed to each code chunk / set of code chunks.**\n",
        "\n",
        "Put each model in a section of its name and mention the name of the team-member tuning the model. Below is an example:"
      ]
    },
    {
      "cell_type": "code",
      "execution_count": 6,
      "id": "9b756a9f-eb7f-4b4e-bb4e-fd13e57362c4",
      "metadata": {
        "id": "9b756a9f-eb7f-4b4e-bb4e-fd13e57362c4"
      },
      "outputs": [],
      "source": [
        "X_train = pd.read_csv('X_train.csv')\n",
        "X_test = pd.read_csv('X_test.csv')\n",
        "y_train = pd.read_csv('y_train.csv')\n",
        "y_test = pd.read_csv('y_test.csv')"
      ]
    },
    {
      "cell_type": "code",
      "execution_count": 7,
      "id": "91e4265f-0c67-4594-9d05-bbd1054c765c",
      "metadata": {
        "id": "91e4265f-0c67-4594-9d05-bbd1054c765c"
      },
      "outputs": [],
      "source": [
        "X_train = X_train.drop(['Unnamed: 0'], axis = 1)\n",
        "X_test = X_test.drop(['Unnamed: 0'], axis = 1)\n",
        "y_train = y_train.drop(['Unnamed: 0'], axis = 1)\n",
        "y_test = y_test.drop(['Unnamed: 0'], axis = 1)"
      ]
    },
    {
      "attachments": {},
      "cell_type": "markdown",
      "id": "21bc9dcc",
      "metadata": {
        "id": "21bc9dcc",
        "tags": []
      },
      "source": [
        "### Random Forest\n",
        "*By Lena Choe*"
      ]
    },
    {
      "attachments": {},
      "cell_type": "markdown",
      "id": "79d80aa5",
      "metadata": {},
      "source": [
        "I developed a random forest model, tuning the hyperparameters that I thought were most important for the performance of this model."
      ]
    },
    {
      "cell_type": "code",
      "execution_count": null,
      "id": "0dc53ddc",
      "metadata": {},
      "outputs": [
        {
          "name": "stdout",
          "output_type": "stream",
          "text": [
            "time taken =  51.60229480266571  minutes\n",
            "max accuracy =  0.7809438112377525\n",
            "params=  (1500, 3, 8, 58)\n"
          ]
        }
      ],
      "source": [
        "start_time = time.time()\n",
        "\n",
        "params = {'n_estimators': [1000, 1500],\n",
        "          'max_features': range(1,9),\n",
        "          'max_depth': range(8, 20, 4),\n",
        "          'max_leaf_nodes': range(30, 60, 4)\n",
        "         }\n",
        "\n",
        "param_list=list(it.product(*(params[Name] for Name in list(params.keys()))))\n",
        "oob_accuracy = [0]*len(param_list)\n",
        "\n",
        "i=0\n",
        "for pr in param_list:\n",
        "    model = RandomForestClassifier(random_state=1,\n",
        "                                   oob_score=True,\n",
        "                                   verbose=False,\n",
        "                                   n_estimators = pr[0],\n",
        "                                   max_features=pr[1], \n",
        "                                   max_depth=pr[2], \n",
        "                                   max_leaf_nodes=pr[3], \n",
        "                                   n_jobs=-1).fit(X_train,y_train)\n",
        "    oob_accuracy[i] = model.oob_score_\n",
        "    i=i+1\n",
        "    \n",
        "end_time = time.time()\n",
        "print(\"time taken = \", (end_time-start_time)/60, \" minutes\")\n",
        "print(\"max accuracy = \", np.max(oob_accuracy))\n",
        "print(\"params= \", param_list[np.argmax(oob_recall)])"
      ]
    },
    {
      "cell_type": "code",
      "execution_count": 8,
      "id": "0afbcd20-3e41-44c9-8549-7efb0145dca6",
      "metadata": {
        "id": "0afbcd20-3e41-44c9-8549-7efb0145dca6"
      },
      "outputs": [],
      "source": [
        "# random Forest\n",
        "model_rf = RandomForestClassifier(random_state=1,\n",
        "                                   oob_score=True,\n",
        "                                   verbose=False,\n",
        "                                   n_estimators = 1500,\n",
        "                                   max_features=3, \n",
        "                                   max_depth=8, \n",
        "                                   max_leaf_nodes=58, \n",
        "                                   n_jobs=-1).fit(X_train,y_train.values.ravel())\n",
        "# 0.65664355"
      ]
    },
    {
      "cell_type": "code",
      "execution_count": null,
      "id": "01e2186c-6e93-4885-908e-7d345054da3f",
      "metadata": {
        "id": "01e2186c-6e93-4885-908e-7d345054da3f",
        "outputId": "85c9f67a-41f6-4e75-e6ee-b1ff38612b3a"
      },
      "outputs": [
        {
          "data": {
            "text/html": [
              "<div>\n",
              "<style scoped>\n",
              "    .dataframe tbody tr th:only-of-type {\n",
              "        vertical-align: middle;\n",
              "    }\n",
              "\n",
              "    .dataframe tbody tr th {\n",
              "        vertical-align: top;\n",
              "    }\n",
              "\n",
              "    .dataframe thead th {\n",
              "        text-align: right;\n",
              "    }\n",
              "</style>\n",
              "<table border=\"1\" class=\"dataframe\">\n",
              "  <thead>\n",
              "    <tr style=\"text-align: right;\">\n",
              "      <th></th>\n",
              "      <th>Feature</th>\n",
              "      <th>importance</th>\n",
              "    </tr>\n",
              "  </thead>\n",
              "  <tbody>\n",
              "    <tr>\n",
              "      <th>1</th>\n",
              "      <td>budget</td>\n",
              "      <td>0.472273</td>\n",
              "    </tr>\n",
              "    <tr>\n",
              "      <th>4</th>\n",
              "      <td>tagline</td>\n",
              "      <td>0.200072</td>\n",
              "    </tr>\n",
              "    <tr>\n",
              "      <th>3</th>\n",
              "      <td>runtime</td>\n",
              "      <td>0.144662</td>\n",
              "    </tr>\n",
              "    <tr>\n",
              "      <th>0</th>\n",
              "      <td>belongs_to_collection</td>\n",
              "      <td>0.051776</td>\n",
              "    </tr>\n",
              "    <tr>\n",
              "      <th>2</th>\n",
              "      <td>homepage</td>\n",
              "      <td>0.039504</td>\n",
              "    </tr>\n",
              "    <tr>\n",
              "      <th>12</th>\n",
              "      <td>production_countries_US</td>\n",
              "      <td>0.026053</td>\n",
              "    </tr>\n",
              "    <tr>\n",
              "      <th>13</th>\n",
              "      <td>spoken_languages_en</td>\n",
              "      <td>0.019441</td>\n",
              "    </tr>\n",
              "    <tr>\n",
              "      <th>5</th>\n",
              "      <td>release_month</td>\n",
              "      <td>0.017205</td>\n",
              "    </tr>\n",
              "    <tr>\n",
              "      <th>8</th>\n",
              "      <td>genres_Documentary</td>\n",
              "      <td>0.008131</td>\n",
              "    </tr>\n",
              "    <tr>\n",
              "      <th>11</th>\n",
              "      <td>production_countries_IN</td>\n",
              "      <td>0.005834</td>\n",
              "    </tr>\n",
              "    <tr>\n",
              "      <th>10</th>\n",
              "      <td>genres_Horror</td>\n",
              "      <td>0.004879</td>\n",
              "    </tr>\n",
              "    <tr>\n",
              "      <th>6</th>\n",
              "      <td>genres_Action</td>\n",
              "      <td>0.003924</td>\n",
              "    </tr>\n",
              "    <tr>\n",
              "      <th>7</th>\n",
              "      <td>genres_Comedy</td>\n",
              "      <td>0.003547</td>\n",
              "    </tr>\n",
              "    <tr>\n",
              "      <th>9</th>\n",
              "      <td>genres_Drama</td>\n",
              "      <td>0.002697</td>\n",
              "    </tr>\n",
              "  </tbody>\n",
              "</table>\n",
              "</div>"
            ],
            "text/plain": [
              "                    Feature  importance\n",
              "1                    budget    0.472273\n",
              "4                   tagline    0.200072\n",
              "3                   runtime    0.144662\n",
              "0     belongs_to_collection    0.051776\n",
              "2                  homepage    0.039504\n",
              "12  production_countries_US    0.026053\n",
              "13      spoken_languages_en    0.019441\n",
              "5             release_month    0.017205\n",
              "8        genres_Documentary    0.008131\n",
              "11  production_countries_IN    0.005834\n",
              "10            genres_Horror    0.004879\n",
              "6             genres_Action    0.003924\n",
              "7             genres_Comedy    0.003547\n",
              "9              genres_Drama    0.002697"
            ]
          },
          "execution_count": 80,
          "metadata": {},
          "output_type": "execute_result"
        }
      ],
      "source": [
        "importances_rf = model_rf.feature_importances_\n",
        "importances = pd.DataFrame({'Feature':X_train.columns,'importance':importances_rf})\n",
        "importances.sort_values('importance', ascending = False)"
      ]
    },
    {
      "cell_type": "code",
      "execution_count": null,
      "id": "8bf07082",
      "metadata": {},
      "outputs": [
        {
          "data": {
            "image/png": "[encoded data removed]",
            "text/plain": [
              "<Figure size 800x800 with 1 Axes>"
            ]
          },
          "metadata": {},
          "output_type": "display_data"
        }
      ],
      "source": [
        "y_pred_prob = model.oob_decision_function_[:,1]\n",
        "p, r, thresholds = precision_recall_curve(y_train, y_pred_prob)\n",
        "acc = np.ndarray(shape = (len(thresholds),))\n",
        "i = 0\n",
        "for th in thresholds:\n",
        "    y_pred = y_pred_prob > th\n",
        "    y_pred = y_pred.astype(int)\n",
        "    acc[i] = accuracy_score(y_pred, y_train)\n",
        "    i = i + 1\n",
        "def plot_precision_recall_vs_threshold(precisions, recalls, thresholds):\n",
        "    plt.figure(figsize=(8, 8))\n",
        "    plt.title(\"Precision and Recall Scores as a function of the decision threshold\")\n",
        "    plt.plot(thresholds, precisions[:-1], \"b--\", label=\"Precision\")\n",
        "    plt.plot(thresholds, recalls[:-1], \"g-\", label=\"Recall\")\n",
        "    plt.plot(thresholds, acc, \"r-\", label=\"Accuracy\")\n",
        "    plt.plot(thresholds, precisions[:-1], \"o\", color = 'blue')\n",
        "    plt.plot(thresholds, recalls[:-1], \"o\", color = 'green')\n",
        "    plt.plot(thresholds, acc, \"o\", color = 'red')\n",
        "    plt.ylabel(\"Score\")\n",
        "    plt.xlabel(\"Decision Threshold\")\n",
        "    plt.legend(loc='best')\n",
        "    plt.legend()\n",
        "plot_precision_recall_vs_threshold(p, r, thresholds)"
      ]
    },
    {
      "cell_type": "code",
      "execution_count": null,
      "id": "fd156c8f",
      "metadata": {},
      "outputs": [
        {
          "data": {
            "text/plain": [
              "array([0.65664355, 0.75794841, 0.60003994])"
            ]
          },
          "metadata": {},
          "output_type": "display_data"
        }
      ],
      "source": [
        "# Thresholds with precision and recall\n",
        "all_thresholds = np.concatenate([thresholds.reshape(-1,1), acc.reshape(-1,1), r[:-1].reshape(-1,1)], axis = 1)\n",
        "recall_more_than_60 = all_thresholds[all_thresholds[:,2]>0.6,:]\n",
        "# As the values in 'recall_more_than_80' are arranged in decreasing order of recall and increasing threshold,\n",
        "# the last value will provide the maximum threshold probabiltiy for the recall to be more than 80%\n",
        "# We wish to find the maximum threshold probability to obtain the maximum possible precision\n",
        "recall_more_than_60[recall_more_than_60.shape[0]-1]"
      ]
    },
    {
      "cell_type": "code",
      "execution_count": null,
      "id": "40a298ee",
      "metadata": {},
      "outputs": [
        {
          "name": "stdout",
          "output_type": "stream",
          "text": [
            "Accuracy:  76.76464707058588\n",
            "ROC-AUC:  0.8731209480130151\n",
            "Precision:  0.8923976608187134\n",
            "Recall:  0.6094249201277955\n"
          ]
        },
        {
          "data": {
            "image/png": "[encoded data removed]",
            "text/plain": [
              "<Figure size 640x480 with 2 Axes>"
            ]
          },
          "metadata": {},
          "output_type": "display_data"
        }
      ],
      "source": [
        "# train\n",
        "\n",
        "# Performance metrics computation for the optimum decision threshold probability\n",
        "desired_threshold = 0.65664355\n",
        "\n",
        "y_pred_prob = model.predict_proba(X_train)[:,1] \n",
        "\n",
        "# Classifying observations in the positive class (y = 1) if the predicted probability is greater\n",
        "# than the desired decision threshold probability\n",
        "y_pred = y_pred_prob > desired_threshold\n",
        "y_pred = y_pred.astype(int)\n",
        "\n",
        "#Computing the accuracy\n",
        "print(\"Accuracy: \",accuracy_score(y_pred, y_train)*100)  \n",
        "\n",
        "#Computing the ROC-AUC\n",
        "fpr, tpr, auc_thresholds = roc_curve(y_train, y_pred_prob)\n",
        "print(\"ROC-AUC: \",auc(fpr, tpr))# AUC of ROC\n",
        "\n",
        "#Computing the precision and recall\n",
        "print(\"Precision: \", precision_score(y_train, y_pred))\n",
        "print(\"Recall: \", recall_score(y_train, y_pred))\n",
        "\n",
        "#Confusion matrix\n",
        "cm = pd.DataFrame(confusion_matrix(y_train, y_pred), \n",
        "                  columns=['Predicted 0', 'Predicted 1'], index = ['Actual 0', 'Actual 1'])\n",
        "sns.heatmap(cm, annot=True, cmap='Blues', fmt='g');"
      ]
    },
    {
      "cell_type": "code",
      "execution_count": null,
      "id": "89ec61a2",
      "metadata": {},
      "outputs": [
        {
          "name": "stdout",
          "output_type": "stream",
          "text": [
            "Accuracy:  76.16081540203851\n",
            "ROC-AUC:  0.8614552870555641\n",
            "Precision:  0.8942807625649913\n",
            "Recall:  0.589041095890411\n"
          ]
        },
        {
          "data": {
            "image/png": "[encoded data removed]",
            "text/plain": [
              "<Figure size 640x480 with 2 Axes>"
            ]
          },
          "metadata": {},
          "output_type": "display_data"
        }
      ],
      "source": [
        "# test\n",
        "\n",
        "y_pred_prob = model.predict_proba(X_test)[:,1] \n",
        "\n",
        "# Classifying observations in the positive class (y = 1) if the predicted probability is greater\n",
        "# than the desired decision threshold probability\n",
        "y_pred = y_pred_prob > desired_threshold\n",
        "y_pred = y_pred.astype(int)\n",
        "\n",
        "#Computing the accuracy\n",
        "print(\"Accuracy: \",accuracy_score(y_pred, y_test)*100)  \n",
        "\n",
        "#Computing the ROC-AUC\n",
        "fpr, tpr, auc_thresholds = roc_curve(y_test, y_pred_prob)\n",
        "print(\"ROC-AUC: \",auc(fpr, tpr))# AUC of ROC\n",
        "\n",
        "#Computing the precision and recall\n",
        "print(\"Precision: \", precision_score(y_test, y_pred))\n",
        "print(\"Recall: \", recall_score(y_test, y_pred))\n",
        "\n",
        "#Confusion matrix\n",
        "cm = pd.DataFrame(confusion_matrix(y_test, y_pred), \n",
        "                  columns=['Predicted 0', 'Predicted 1'], index = ['Actual 0', 'Actual 1'])\n",
        "sns.heatmap(cm, annot=True, cmap='Blues', fmt='g');"
      ]
    },
    {
      "attachments": {},
      "cell_type": "markdown",
      "id": "a67c9ff7",
      "metadata": {
        "id": "a67c9ff7",
        "tags": []
      },
      "source": [
        "### Adaptive Boosting\n",
        "*By Sean Park*"
      ]
    },
    {
      "cell_type": "code",
      "execution_count": null,
      "id": "a8fab20c-7592-4e02-87fe-74092de576ab",
      "metadata": {
        "id": "a8fab20c-7592-4e02-87fe-74092de576ab"
      },
      "outputs": [],
      "source": [
        "# adaptive Boosting\n",
        "model_ada = AdaBoostClassifier(random_state=1,base_estimator = DecisionTreeClassifier(max_depth=2),learning_rate=0.08,\n",
        "                          n_estimators=900).fit(X_train,y_train.values.ravel())"
      ]
    },
    {
      "cell_type": "code",
      "execution_count": null,
      "id": "ab3f5eee-9105-466f-a0e3-4c4f848130c1",
      "metadata": {
        "id": "ab3f5eee-9105-466f-a0e3-4c4f848130c1",
        "outputId": "534e8bee-ac53-404c-becf-c9f2a101976b"
      },
      "outputs": [
        {
          "data": {
            "text/html": [
              "<div>\n",
              "<style scoped>\n",
              "    .dataframe tbody tr th:only-of-type {\n",
              "        vertical-align: middle;\n",
              "    }\n",
              "\n",
              "    .dataframe tbody tr th {\n",
              "        vertical-align: top;\n",
              "    }\n",
              "\n",
              "    .dataframe thead th {\n",
              "        text-align: right;\n",
              "    }\n",
              "</style>\n",
              "<table border=\"1\" class=\"dataframe\">\n",
              "  <thead>\n",
              "    <tr style=\"text-align: right;\">\n",
              "      <th></th>\n",
              "      <th>Feature</th>\n",
              "      <th>importance</th>\n",
              "    </tr>\n",
              "  </thead>\n",
              "  <tbody>\n",
              "    <tr>\n",
              "      <th>3</th>\n",
              "      <td>runtime</td>\n",
              "      <td>0.345209</td>\n",
              "    </tr>\n",
              "    <tr>\n",
              "      <th>1</th>\n",
              "      <td>budget</td>\n",
              "      <td>0.329511</td>\n",
              "    </tr>\n",
              "    <tr>\n",
              "      <th>5</th>\n",
              "      <td>release_month</td>\n",
              "      <td>0.122461</td>\n",
              "    </tr>\n",
              "    <tr>\n",
              "      <th>12</th>\n",
              "      <td>production_countries_US</td>\n",
              "      <td>0.031989</td>\n",
              "    </tr>\n",
              "    <tr>\n",
              "      <th>0</th>\n",
              "      <td>belongs_to_collection</td>\n",
              "      <td>0.022286</td>\n",
              "    </tr>\n",
              "    <tr>\n",
              "      <th>6</th>\n",
              "      <td>genres_Action</td>\n",
              "      <td>0.021387</td>\n",
              "    </tr>\n",
              "    <tr>\n",
              "      <th>2</th>\n",
              "      <td>homepage</td>\n",
              "      <td>0.020696</td>\n",
              "    </tr>\n",
              "    <tr>\n",
              "      <th>13</th>\n",
              "      <td>spoken_languages_en</td>\n",
              "      <td>0.020636</td>\n",
              "    </tr>\n",
              "    <tr>\n",
              "      <th>11</th>\n",
              "      <td>production_countries_IN</td>\n",
              "      <td>0.016929</td>\n",
              "    </tr>\n",
              "    <tr>\n",
              "      <th>4</th>\n",
              "      <td>tagline</td>\n",
              "      <td>0.016096</td>\n",
              "    </tr>\n",
              "    <tr>\n",
              "      <th>10</th>\n",
              "      <td>genres_Horror</td>\n",
              "      <td>0.015549</td>\n",
              "    </tr>\n",
              "    <tr>\n",
              "      <th>7</th>\n",
              "      <td>genres_Comedy</td>\n",
              "      <td>0.015343</td>\n",
              "    </tr>\n",
              "    <tr>\n",
              "      <th>9</th>\n",
              "      <td>genres_Drama</td>\n",
              "      <td>0.013196</td>\n",
              "    </tr>\n",
              "    <tr>\n",
              "      <th>8</th>\n",
              "      <td>genres_Documentary</td>\n",
              "      <td>0.008714</td>\n",
              "    </tr>\n",
              "  </tbody>\n",
              "</table>\n",
              "</div>"
            ],
            "text/plain": [
              "                    Feature  importance\n",
              "3                   runtime    0.345209\n",
              "1                    budget    0.329511\n",
              "5             release_month    0.122461\n",
              "12  production_countries_US    0.031989\n",
              "0     belongs_to_collection    0.022286\n",
              "6             genres_Action    0.021387\n",
              "2                  homepage    0.020696\n",
              "13      spoken_languages_en    0.020636\n",
              "11  production_countries_IN    0.016929\n",
              "4                   tagline    0.016096\n",
              "10            genres_Horror    0.015549\n",
              "7             genres_Comedy    0.015343\n",
              "9              genres_Drama    0.013196\n",
              "8        genres_Documentary    0.008714"
            ]
          },
          "execution_count": 78,
          "metadata": {},
          "output_type": "execute_result"
        }
      ],
      "source": [
        "importances_ada = model_ada.feature_importances_\n",
        "importances = pd.DataFrame({'Feature':X_train.columns,'importance':importances_ada})\n",
        "importances.sort_values('importance', ascending = False)"
      ]
    },
    {
      "attachments": {},
      "cell_type": "markdown",
      "id": "017ca069",
      "metadata": {
        "id": "017ca069",
        "tags": []
      },
      "source": [
        "### Gradient Boosting\n",
        "*By Mehmet Ali Mehmetzade*"
      ]
    },
    {
      "cell_type": "code",
      "execution_count": null,
      "id": "30c14820-ccf2-478c-ae29-6ee6e7d4d48a",
      "metadata": {
        "id": "30c14820-ccf2-478c-ae29-6ee6e7d4d48a"
      },
      "outputs": [],
      "source": [
        "# gradient Boosting\n",
        "model_gb = GradientBoostingClassifier(random_state=1,max_depth=2,learning_rate=0.1,subsample=1,\n",
        "                          n_estimators=500).fit(X_train, y_train.values.ravel())\n",
        "# 0.425721729088532"
      ]
    },
    {
      "cell_type": "code",
      "execution_count": null,
      "id": "378ef426-2cd9-4158-8475-5fd6b93fe244",
      "metadata": {
        "id": "378ef426-2cd9-4158-8475-5fd6b93fe244",
        "outputId": "5405c154-f803-45ec-9734-2dc5caf4e37d"
      },
      "outputs": [
        {
          "data": {
            "text/html": [
              "<div>\n",
              "<style scoped>\n",
              "    .dataframe tbody tr th:only-of-type {\n",
              "        vertical-align: middle;\n",
              "    }\n",
              "\n",
              "    .dataframe tbody tr th {\n",
              "        vertical-align: top;\n",
              "    }\n",
              "\n",
              "    .dataframe thead th {\n",
              "        text-align: right;\n",
              "    }\n",
              "</style>\n",
              "<table border=\"1\" class=\"dataframe\">\n",
              "  <thead>\n",
              "    <tr style=\"text-align: right;\">\n",
              "      <th></th>\n",
              "      <th>Feature</th>\n",
              "      <th>importance</th>\n",
              "    </tr>\n",
              "  </thead>\n",
              "  <tbody>\n",
              "    <tr>\n",
              "      <th>1</th>\n",
              "      <td>budget</td>\n",
              "      <td>0.688318</td>\n",
              "    </tr>\n",
              "    <tr>\n",
              "      <th>3</th>\n",
              "      <td>runtime</td>\n",
              "      <td>0.118158</td>\n",
              "    </tr>\n",
              "    <tr>\n",
              "      <th>4</th>\n",
              "      <td>tagline</td>\n",
              "      <td>0.107053</td>\n",
              "    </tr>\n",
              "    <tr>\n",
              "      <th>0</th>\n",
              "      <td>belongs_to_collection</td>\n",
              "      <td>0.026426</td>\n",
              "    </tr>\n",
              "    <tr>\n",
              "      <th>2</th>\n",
              "      <td>homepage</td>\n",
              "      <td>0.017191</td>\n",
              "    </tr>\n",
              "    <tr>\n",
              "      <th>12</th>\n",
              "      <td>production_countries_US</td>\n",
              "      <td>0.013256</td>\n",
              "    </tr>\n",
              "    <tr>\n",
              "      <th>5</th>\n",
              "      <td>release_month</td>\n",
              "      <td>0.011512</td>\n",
              "    </tr>\n",
              "    <tr>\n",
              "      <th>10</th>\n",
              "      <td>genres_Horror</td>\n",
              "      <td>0.005411</td>\n",
              "    </tr>\n",
              "    <tr>\n",
              "      <th>7</th>\n",
              "      <td>genres_Comedy</td>\n",
              "      <td>0.005194</td>\n",
              "    </tr>\n",
              "    <tr>\n",
              "      <th>11</th>\n",
              "      <td>production_countries_IN</td>\n",
              "      <td>0.004000</td>\n",
              "    </tr>\n",
              "    <tr>\n",
              "      <th>13</th>\n",
              "      <td>spoken_languages_en</td>\n",
              "      <td>0.001911</td>\n",
              "    </tr>\n",
              "    <tr>\n",
              "      <th>9</th>\n",
              "      <td>genres_Drama</td>\n",
              "      <td>0.000848</td>\n",
              "    </tr>\n",
              "    <tr>\n",
              "      <th>8</th>\n",
              "      <td>genres_Documentary</td>\n",
              "      <td>0.000428</td>\n",
              "    </tr>\n",
              "    <tr>\n",
              "      <th>6</th>\n",
              "      <td>genres_Action</td>\n",
              "      <td>0.000294</td>\n",
              "    </tr>\n",
              "  </tbody>\n",
              "</table>\n",
              "</div>"
            ],
            "text/plain": [
              "                    Feature  importance\n",
              "1                    budget    0.688318\n",
              "3                   runtime    0.118158\n",
              "4                   tagline    0.107053\n",
              "0     belongs_to_collection    0.026426\n",
              "2                  homepage    0.017191\n",
              "12  production_countries_US    0.013256\n",
              "5             release_month    0.011512\n",
              "10            genres_Horror    0.005411\n",
              "7             genres_Comedy    0.005194\n",
              "11  production_countries_IN    0.004000\n",
              "13      spoken_languages_en    0.001911\n",
              "9              genres_Drama    0.000848\n",
              "8        genres_Documentary    0.000428\n",
              "6             genres_Action    0.000294"
            ]
          },
          "execution_count": 79,
          "metadata": {},
          "output_type": "execute_result"
        }
      ],
      "source": [
        "importances_gb = model_gb.feature_importances_\n",
        "importances = pd.DataFrame({'Feature':X_train.columns,'importance':importances_gb})\n",
        "importances.sort_values('importance', ascending = False)"
      ]
    },
    {
      "attachments": {},
      "cell_type": "markdown",
      "id": "8182968b",
      "metadata": {
        "id": "8182968b"
      },
      "source": [
        "### XGBoost\n",
        "*By Margaret Pirozzolo*"
      ]
    },
    {
      "attachments": {},
      "cell_type": "markdown",
      "id": "53523fdf",
      "metadata": {
        "id": "53523fdf"
      },
      "source": [
        "Initially, I tried splitting the data by budget (if it had one or not), and tried training different XGBoost models on the two datasets, then combining them like we did in the prediction problem. However, this led to overfitting and poor performance. "
      ]
    },
    {
      "cell_type": "code",
      "execution_count": null,
      "id": "a270bfbc",
      "metadata": {
        "id": "a270bfbc"
      },
      "outputs": [],
      "source": [
        "X_train_trivial = X_train[X_train.budget == 0]\n",
        "X_test_trivial = X_test[X_test.budget == 0]\n",
        "\n",
        "train_triv_indeces = X_train_trivial.index\n",
        "test_triv_indeces = X_test_trivial.index\n",
        "\n",
        "y_train_trivial = y_train.iloc[train_triv_indeces]\n",
        "y_test_trivial = y_test.iloc[test_triv_indeces]\n",
        "\n",
        "X_train_nontrivial = X_train[X_train.budget != 0]\n",
        "X_test_nontrivial = X_test[X_test.budget != 0]\n",
        "\n",
        "train_indeces = X_train_nontrivial.index\n",
        "test_indeces = X_test_nontrivial.index\n",
        "\n",
        "y_train_nontrivial = y_train.iloc[train_indeces]\n",
        "y_test_nontrivial = y_test.iloc[test_indeces]\n"
      ]
    },
    {
      "cell_type": "code",
      "execution_count": null,
      "id": "656f791d-b848-406c-9a1a-b45c0d7b6df9",
      "metadata": {
        "id": "656f791d-b848-406c-9a1a-b45c0d7b6df9",
        "outputId": "f423e3e2-a5f4-4ec5-cd16-11dfa5d043a5"
      },
      "outputs": [
        {
          "name": "stdout",
          "output_type": "stream",
          "text": [
            "Fitting 5 folds for each of 200 candidates, totalling 1000 fits\n",
            "0.9938456797439847 {'subsample': 1.0, 'reg_lambda': 10, 'n_estimators': 1100, 'max_depth': 6, 'learning_rate': 0.01, 'gamma': 9}\n"
          ]
        }
      ],
      "source": [
        "parameters = {'max_depth':[4,5,6,7,8,9,10,11,12],\n",
        "              'n_estimators':range(100,7000,200), \n",
        "              'learning_rate':[0.01, 0.05, 0.1, 0.15, 0.2,0.25, 0.3, 0.35, 0.4, 0.45, 0.5, 0.9], \n",
        "              'subsample':[0.1,0.2,0.3,0.4,0.5,0.6, 0.7, 0.8, 0.9,1.0], \n",
        "              'reg_lambda':[0,1,2,3,4,5,6,7,8,9,10], \n",
        "              'gamma':[0,1,2,3,4,5,6,7,8,9,10]}\n",
        "model = RandomizedSearchCV(xgb.XGBClassifier(random_state=45), param_distributions = parameters, n_iter = 200, \n",
        "                           n_jobs=-1, verbose=1, cv=5, scoring=['accuracy','recall'], refit=\"recall\")\n",
        "model.fit(X_train_nontrivial, y_train_nontrivial)\n",
        "print (model.best_score_, model.best_params_) "
      ]
    },
    {
      "cell_type": "code",
      "execution_count": null,
      "id": "2e2204cf-7502-4f1a-8e8d-59b511408331",
      "metadata": {
        "id": "2e2204cf-7502-4f1a-8e8d-59b511408331",
        "outputId": "896c3493-14d2-4a30-920d-ada512aa4ef6",
        "tags": []
      },
      "outputs": [
        {
          "name": "stdout",
          "output_type": "stream",
          "text": [
            "Fitting 5 folds for each of 200 candidates, totalling 1000 fits\n"
          ]
        },
        {
          "name": "stderr",
          "output_type": "stream",
          "text": [
            "/opt/conda/lib/python3.7/site-packages/joblib/externals/loky/process_executor.py:703: UserWarning: A worker stopped while some jobs were given to the executor. This can be caused by a too short worker timeout or by a memory leak.\n",
            "  \"timeout or by a memory leak.\", UserWarning\n"
          ]
        },
        {
          "name": "stdout",
          "output_type": "stream",
          "text": [
            "0.44286939911939915 {'subsample': 0.3, 'reg_lambda': 0, 'n_estimators': 4500, 'max_depth': 10, 'learning_rate': 0.5, 'gamma': 3}\n"
          ]
        }
      ],
      "source": [
        "parameters = {'max_depth':[4,5,6,7,8,9,10,11,12],\n",
        "              'n_estimators':range(100,7000,200), \n",
        "              'learning_rate':[0.01, 0.05, 0.1, 0.15, 0.2,0.25, 0.3, 0.35, 0.4, 0.45, 0.5, 0.9], \n",
        "              'subsample':[0.1,0.2,0.3,0.4,0.5,0.6, 0.7, 0.8, 0.9,1.0], \n",
        "              'reg_lambda':[0,1,2,3,4,5,6,7,8,9,10], \n",
        "              'gamma':[0,1,2,3,4,5,6,7,8,9,10]}\n",
        "model_triv = RandomizedSearchCV(xgb.XGBClassifier(random_state=45), param_distributions = parameters, n_iter = 200, \n",
        "                           n_jobs=-1, verbose=1, cv=5, scoring=['accuracy','recall'], refit=\"recall\")\n",
        "model_triv.fit(X_train_trivial, y_train_trivial)\n",
        "print (model_triv.best_score_, model_triv.best_params_)"
      ]
    },
    {
      "cell_type": "code",
      "execution_count": null,
      "id": "7392b577",
      "metadata": {
        "id": "7392b577",
        "outputId": "87ac7640-4241-4641-e44e-156d5315896b"
      },
      "outputs": [
        {
          "name": "stderr",
          "output_type": "stream",
          "text": [
            "/opt/conda/lib/python3.7/site-packages/sklearn/preprocessing/_label.py:115: DataConversionWarning: A column-vector y was passed when a 1d array was expected. Please change the shape of y to (n_samples, ), for example using ravel().\n",
            "  y = column_or_1d(y, warn=True)\n"
          ]
        }
      ],
      "source": [
        "from sklearn.preprocessing import LabelEncoder\n",
        "le = LabelEncoder()\n",
        "y_train_le = le.fit_transform(y_train_nontrivial)"
      ]
    },
    {
      "cell_type": "code",
      "execution_count": null,
      "id": "529b1eff-8046-44a6-a09a-fc4f69d0a640",
      "metadata": {
        "id": "529b1eff-8046-44a6-a09a-fc4f69d0a640"
      },
      "outputs": [],
      "source": [
        "model_class = xgb.XGBClassifier(random_state=45, max_depth = 6 , n_estimators = 1100, \n",
        "                                  learning_rate = 0.01, subsample = 1, reg_lambda = 10, gamma = 9)\n",
        "nontrivial_ypred = cross_val_predict(model_class, X_train_nontrivial.values, y_train_le, cv = 5, method = 'predict_proba')"
      ]
    },
    {
      "cell_type": "code",
      "execution_count": null,
      "id": "90d12064-c76a-4de4-8501-d65c37c0a69d",
      "metadata": {
        "id": "90d12064-c76a-4de4-8501-d65c37c0a69d",
        "outputId": "9819c46b-f236-41f1-f83f-1ca10e398393"
      },
      "outputs": [
        {
          "data": {
            "image/png": "[encoded data removed]",
            "text/plain": [
              "<Figure size 800x800 with 1 Axes>"
            ]
          },
          "metadata": {},
          "output_type": "display_data"
        }
      ],
      "source": [
        "\n",
        "accuracies = []\n",
        "recalls = []\n",
        "\n",
        "thresholds = np.arange(0,1.01,0.01)\n",
        "for threshold in thresholds:\n",
        "    predicted_class = nontrivial_ypred[:,1] > threshold\n",
        "    predicted_class = predicted_class.astype(int)\n",
        "    accuracy = accuracy_score(y_train_nontrivial, predicted_class)\n",
        "    accuracies.append(accuracy)\n",
        "    recall = recall_score(y_train_nontrivial, predicted_class)\n",
        "    recalls.append(recall)\n",
        "\n",
        "\n",
        "def plot_accuracy_recall_vs_threshold(accuracies, recalls, thresholds):\n",
        "    plt.figure(figsize=(8, 8))\n",
        "    plt.title(\"Accuracy and Recall Scores as a function of the decision threshold\")\n",
        "    plt.plot(thresholds, accuracies, \"b--\", label=\"Accuracy\")\n",
        "    plt.plot(thresholds, recalls, \"g-\", label=\"Recall\")\n",
        "    plt.plot(thresholds, accuracies, \"o\", color = 'blue')\n",
        "    plt.plot(thresholds, recalls, \"o\", color = 'green')\n",
        "    plt.ylabel(\"Score\")\n",
        "    plt.xlabel(\"Decision Threshold\")\n",
        "    plt.legend(loc='best')\n",
        "    plt.legend()\n",
        "plot_accuracy_recall_vs_threshold(accuracies, recalls, thresholds)"
      ]
    },
    {
      "cell_type": "code",
      "execution_count": null,
      "id": "b80ff825-a918-4fbf-b6d7-6ae0fb06121c",
      "metadata": {
        "id": "b80ff825-a918-4fbf-b6d7-6ae0fb06121c"
      },
      "outputs": [],
      "source": [
        "model_xg = model_class.fit(X_train_nontrivial, y_train_nontrivial)\n",
        "model_triv = xgb.XGBClassifier(random_state=45, max_depth = 12 , n_estimators = 2700, \n",
        "                                learning_rate = 0.5, subsample = 0.3, \n",
        "                               reg_lambda = 0, gamma = 2).fit(X_train_trivial, y_train_trivial)"
      ]
    },
    {
      "cell_type": "code",
      "execution_count": null,
      "id": "2ff788df-c992-482e-8322-d413d9368555",
      "metadata": {
        "id": "2ff788df-c992-482e-8322-d413d9368555",
        "outputId": "9278f232-e01d-498d-f732-3f4b3f6efe85"
      },
      "outputs": [
        {
          "name": "stdout",
          "output_type": "stream",
          "text": [
            "Total train accuracy:  90.78184363127374\n",
            "Total train Recall:  94.02955271565496\n"
          ]
        },
        {
          "name": "stderr",
          "output_type": "stream",
          "text": [
            "/opt/conda/lib/python3.7/site-packages/ipykernel_launcher.py:16: SettingWithCopyWarning: \n",
            "A value is trying to be set on a copy of a slice from a DataFrame\n",
            "\n",
            "See the caveats in the documentation: https://pandas.pydata.org/pandas-docs/stable/user_guide/indexing.html#returning-a-view-versus-a-copy\n",
            "  \n",
            "/opt/conda/lib/python3.7/site-packages/ipykernel_launcher.py:17: SettingWithCopyWarning: \n",
            "A value is trying to be set on a copy of a slice from a DataFrame\n",
            "\n",
            "See the caveats in the documentation: https://pandas.pydata.org/pandas-docs/stable/user_guide/indexing.html#returning-a-view-versus-a-copy\n",
            "  app.launch_new_instance()\n"
          ]
        }
      ],
      "source": [
        "optimal_threshold = 0.6\n",
        "predicted_probability = model_xg.predict_proba(X_train_nontrivial)[:,1]\n",
        "predicted_class = predicted_probability > optimal_threshold\n",
        "nontrivial_pred = predicted_class.astype(int)\n",
        "\n",
        "predicted_probability_triv = model_triv.predict_proba(X_train_trivial)[:,1]\n",
        "predicted_class_triv = predicted_probability_triv > optimal_threshold\n",
        "trivial_pred = predicted_class_triv.astype(int)\n",
        "\n",
        "train_nontrivial_indeces = X_train_nontrivial.index\n",
        "train_trivial_indeces = X_train_trivial.index\n",
        "total_test_indeces = X_train.index\n",
        "X_train_xg = X_train.copy()\n",
        "X_train_xg['pred'] = [0]*10002\n",
        "\n",
        "\n",
        "X_train_xg['pred'][train_nontrivial_indeces] = nontrivial_pred\n",
        "X_train_xg['pred'][train_trivial_indeces] = trivial_pred\n",
        "\n",
        "\n",
        "ac = accuracy_score(y_train,X_train_xg.pred)*100\n",
        "rs = recall_score(y_train, X_train_xg.pred)*100\n",
        "\n",
        "print('Total train accuracy: ', ac)\n",
        "print('Total train Recall: ', rs)"
      ]
    },
    {
      "cell_type": "code",
      "execution_count": null,
      "id": "c596dbfa-447d-417c-bd50-5c033aa4305b",
      "metadata": {
        "id": "c596dbfa-447d-417c-bd50-5c033aa4305b",
        "outputId": "4d86a3e2-4aa1-4b79-d1af-8999a6c7e352"
      },
      "outputs": [
        {
          "name": "stdout",
          "output_type": "stream",
          "text": [
            "Total Test accuracy:  71.85730464326161\n",
            "Total Test Recall:  76.48401826484019\n"
          ]
        },
        {
          "name": "stderr",
          "output_type": "stream",
          "text": [
            "/opt/conda/lib/python3.7/site-packages/ipykernel_launcher.py:16: SettingWithCopyWarning: \n",
            "A value is trying to be set on a copy of a slice from a DataFrame\n",
            "\n",
            "See the caveats in the documentation: https://pandas.pydata.org/pandas-docs/stable/user_guide/indexing.html#returning-a-view-versus-a-copy\n",
            "  \n",
            "/opt/conda/lib/python3.7/site-packages/ipykernel_launcher.py:17: SettingWithCopyWarning: \n",
            "A value is trying to be set on a copy of a slice from a DataFrame\n",
            "\n",
            "See the caveats in the documentation: https://pandas.pydata.org/pandas-docs/stable/user_guide/indexing.html#returning-a-view-versus-a-copy\n",
            "  app.launch_new_instance()\n"
          ]
        }
      ],
      "source": [
        "predicted_probability = model_xg.predict_proba(X_test_nontrivial)[:,1]\n",
        "predicted_class = predicted_probability > optimal_threshold\n",
        "nontrivial_pred = predicted_class.astype(int)\n",
        "\n",
        "predicted_probability_triv = model_triv.predict_proba(X_test_trivial)[:,1]\n",
        "predicted_class_triv = predicted_probability_triv > optimal_threshold\n",
        "trivial_pred = predicted_class_triv.astype(int)\n",
        "\n",
        "test_nontrivial_indeces = X_test_nontrivial.index\n",
        "test_trivial_indeces = X_test_trivial.index\n",
        "total_test_indeces = X_test.index\n",
        "X_test_xg = X_test.copy()\n",
        "X_test_xg['pred'] = [0]*1766\n",
        "\n",
        "X_test_xg['pred'][test_nontrivial_indeces] = nontrivial_pred\n",
        "X_test_xg['pred'][test_trivial_indeces] = trivial_pred\n",
        "\n",
        "ac = accuracy_score(y_test,X_test_xg.pred)*100\n",
        "rs = recall_score(y_test, X_test_xg.pred)*100\n",
        "\n",
        "print('Total Test accuracy: ', ac)\n",
        "print('Total Test Recall: ', rs)"
      ]
    },
    {
      "attachments": {},
      "cell_type": "markdown",
      "id": "9121fabc",
      "metadata": {
        "id": "9121fabc"
      },
      "source": [
        "After seeing this overfitting, I decided to just train on the whole dataset, and got better performance. "
      ]
    },
    {
      "cell_type": "code",
      "execution_count": null,
      "id": "2a6c9707-a966-4e9b-9775-3b957a174870",
      "metadata": {
        "id": "2a6c9707-a966-4e9b-9775-3b957a174870",
        "outputId": "44b8c934-6e69-4295-b2fd-6e79466113ed"
      },
      "outputs": [
        {
          "name": "stdout",
          "output_type": "stream",
          "text": [
            "Fitting 5 folds for each of 200 candidates, totalling 1000 fits\n"
          ]
        },
        {
          "name": "stderr",
          "output_type": "stream",
          "text": [
            "/opt/conda/lib/python3.7/site-packages/joblib/externals/loky/process_executor.py:703: UserWarning: A worker stopped while some jobs were given to the executor. This can be caused by a too short worker timeout or by a memory leak.\n",
            "  \"timeout or by a memory leak.\", UserWarning\n"
          ]
        },
        {
          "name": "stdout",
          "output_type": "stream",
          "text": [
            "0.7522014911236468 {'subsample': 0.6, 'reg_lambda': 8, 'n_estimators': 1100, 'max_depth': 9, 'learning_rate': 0.01, 'gamma': 0}\n"
          ]
        }
      ],
      "source": [
        "parameters = {'max_depth':[4,5,6,7,8,9,10,11,12],\n",
        "              'n_estimators':range(100,7000,200), \n",
        "              'learning_rate':[0.01, 0.05, 0.1, 0.15, 0.2,0.25, 0.3, 0.35, 0.4, 0.45, 0.5, 0.9], \n",
        "              'subsample':[0.1,0.2,0.3,0.4,0.5,0.6, 0.7, 0.8, 0.9,1.0], \n",
        "              'reg_lambda':[0,1,2,3,4,5,6,7,8,9,10], \n",
        "              'gamma':[0,1,2,3,4,5,6,7,8,9,10]}\n",
        "model = RandomizedSearchCV(xgb.XGBClassifier(random_state=45), param_distributions = parameters, n_iter = 200, \n",
        "                           n_jobs=-1, verbose=1, cv=5, scoring=['accuracy','recall'], refit=\"recall\")\n",
        "model.fit(X_train, y_train)\n",
        "print (model.best_score_, model.best_params_) "
      ]
    },
    {
      "cell_type": "code",
      "execution_count": null,
      "id": "274d4dc5-ba7d-4e6e-bb52-3f2db5d8d0d0",
      "metadata": {
        "id": "274d4dc5-ba7d-4e6e-bb52-3f2db5d8d0d0",
        "outputId": "ed359cdd-dc70-4499-8d18-e3b7d9df2e89"
      },
      "outputs": [
        {
          "name": "stderr",
          "output_type": "stream",
          "text": [
            "/opt/conda/lib/python3.7/site-packages/sklearn/preprocessing/_label.py:115: DataConversionWarning: A column-vector y was passed when a 1d array was expected. Please change the shape of y to (n_samples, ), for example using ravel().\n",
            "  y = column_or_1d(y, warn=True)\n"
          ]
        }
      ],
      "source": [
        "from sklearn.preprocessing import LabelEncoder\n",
        "le = LabelEncoder()\n",
        "y_train_le_total = le.fit_transform(y_train)"
      ]
    },
    {
      "cell_type": "code",
      "execution_count": null,
      "id": "ac598778-1485-4837-8983-793a1ac0254f",
      "metadata": {
        "id": "ac598778-1485-4837-8983-793a1ac0254f"
      },
      "outputs": [],
      "source": [
        "model_xgb = xgb.XGBClassifier(random_state=45, max_depth = 8 , n_estimators = 1100, \n",
        "                                  learning_rate = 0.01, subsample = 0.6, reg_lambda = 8, gamma = 0)\n",
        "cross_val_ypred = cross_val_predict(model_xgb, X_train.values, y_train_le_total, cv = 5, method = 'predict_proba')"
      ]
    },
    {
      "cell_type": "code",
      "execution_count": null,
      "id": "9ea467c9-3a91-44d3-adfd-0ee9bddfc55a",
      "metadata": {
        "id": "9ea467c9-3a91-44d3-adfd-0ee9bddfc55a",
        "outputId": "d9dc6fb7-325b-4a3b-f95e-c92cd1252786"
      },
      "outputs": [
        {
          "data": {
            "image/png": "[encoded data removed]",
            "text/plain": [
              "<Figure size 800x800 with 1 Axes>"
            ]
          },
          "metadata": {},
          "output_type": "display_data"
        }
      ],
      "source": [
        "\n",
        "accuracies = []\n",
        "recalls = []\n",
        "\n",
        "thresholds = np.arange(0,1.01,0.01)\n",
        "for threshold in thresholds:\n",
        "    predicted_class = cross_val_ypred[:,1] > threshold\n",
        "    predicted_class = predicted_class.astype(int)\n",
        "    accuracy = accuracy_score(y_train, predicted_class)\n",
        "    accuracies.append(accuracy)\n",
        "    recall = recall_score(y_train, predicted_class)\n",
        "    recalls.append(recall)\n",
        "\n",
        "\n",
        "def plot_accuracy_recall_vs_threshold(accuracies, recalls, thresholds):\n",
        "    plt.figure(figsize=(8, 8))\n",
        "    plt.title(\"Accuracy and Recall Scores as a function of the decision threshold\")\n",
        "    plt.plot(thresholds, accuracies, \"b--\", label=\"Accuracy\")\n",
        "    plt.plot(thresholds, recalls, \"g-\", label=\"Recall\")\n",
        "    plt.plot(thresholds, accuracies, \"o\", color = 'blue')\n",
        "    plt.plot(thresholds, recalls, \"o\", color = 'green')\n",
        "    plt.ylabel(\"Score\")\n",
        "    plt.xlabel(\"Decision Threshold\")\n",
        "    plt.legend(loc='best')\n",
        "    plt.legend()\n",
        "plot_accuracy_recall_vs_threshold(accuracies, recalls, thresholds)"
      ]
    },
    {
      "cell_type": "code",
      "execution_count": null,
      "id": "a41742ac-eef6-4ee3-ba35-f67c37da1445",
      "metadata": {
        "id": "a41742ac-eef6-4ee3-ba35-f67c37da1445"
      },
      "outputs": [],
      "source": [
        "#train\n",
        "model_xgb = model_xgb.fit(X_train, y_train)"
      ]
    },
    {
      "cell_type": "code",
      "execution_count": null,
      "id": "b0790aae-ff2a-43be-8366-2d8d0f4714f3",
      "metadata": {
        "id": "b0790aae-ff2a-43be-8366-2d8d0f4714f3",
        "outputId": "ad61f3d9-c69e-485e-c236-bce3bdf32131"
      },
      "outputs": [
        {
          "name": "stdout",
          "output_type": "stream",
          "text": [
            "Train accuracy:  83.04339132173565\n",
            "Train Recall:  83.04712460063898\n"
          ]
        }
      ],
      "source": [
        "predicted_probability = model_xgb.predict_proba(X_train)[:,1]\n",
        "\n",
        "optimal_threshold = 0.46\n",
        "\n",
        "predicted_class = predicted_probability > optimal_threshold\n",
        "predicted_class = predicted_class.astype(int)\n",
        "\n",
        "    #Computing the accuracy\n",
        "ac = accuracy_score(y_train, predicted_class)*100\n",
        "rs = recall_score(y_train, predicted_class)*100\n",
        "   \n",
        "\n",
        "print('Train accuracy: ', ac)\n",
        "print('Train Recall: ', rs)"
      ]
    },
    {
      "cell_type": "code",
      "execution_count": null,
      "id": "d6f78cc4-3d95-4ace-b419-eb3b9cdd8c69",
      "metadata": {
        "id": "d6f78cc4-3d95-4ace-b419-eb3b9cdd8c69",
        "outputId": "0cbf24c3-0387-45c9-b976-c4e7474e6e25"
      },
      "outputs": [
        {
          "name": "stdout",
          "output_type": "stream",
          "text": [
            "Test accuracy:  78.14269535673839\n",
            "Test Recall:  77.3972602739726\n"
          ]
        }
      ],
      "source": [
        "predicted_probability = model_xgb.predict_proba(X_test)[:,1]\n",
        "\n",
        "predicted_class = predicted_probability > optimal_threshold\n",
        "predicted_class = predicted_class.astype(int)\n",
        "\n",
        "#Computing the accuracy and recall\n",
        "ac = accuracy_score(y_test,predicted_class)*100\n",
        "rs = recall_score(y_test, predicted_class)*100\n",
        "\n",
        "print('Test accuracy: ', ac)\n",
        "print('Test Recall: ', rs)"
      ]
    },
    {
      "cell_type": "code",
      "execution_count": null,
      "id": "5a8fba7c-c241-4ad4-ba38-19ad8b3c38c5",
      "metadata": {
        "id": "5a8fba7c-c241-4ad4-ba38-19ad8b3c38c5",
        "outputId": "09492861-ff2d-47ba-f53d-2ebd65d8cdf3"
      },
      "outputs": [
        {
          "data": {
            "text/html": [
              "<div>\n",
              "<style scoped>\n",
              "    .dataframe tbody tr th:only-of-type {\n",
              "        vertical-align: middle;\n",
              "    }\n",
              "\n",
              "    .dataframe tbody tr th {\n",
              "        vertical-align: top;\n",
              "    }\n",
              "\n",
              "    .dataframe thead th {\n",
              "        text-align: right;\n",
              "    }\n",
              "</style>\n",
              "<table border=\"1\" class=\"dataframe\">\n",
              "  <thead>\n",
              "    <tr style=\"text-align: right;\">\n",
              "      <th></th>\n",
              "      <th>0</th>\n",
              "    </tr>\n",
              "  </thead>\n",
              "  <tbody>\n",
              "    <tr>\n",
              "      <th>runtime</th>\n",
              "      <td>32239.0</td>\n",
              "    </tr>\n",
              "    <tr>\n",
              "      <th>release_month</th>\n",
              "      <td>17903.0</td>\n",
              "    </tr>\n",
              "    <tr>\n",
              "      <th>budget</th>\n",
              "      <td>16013.0</td>\n",
              "    </tr>\n",
              "    <tr>\n",
              "      <th>production_countries_US</th>\n",
              "      <td>3875.0</td>\n",
              "    </tr>\n",
              "    <tr>\n",
              "      <th>homepage</th>\n",
              "      <td>3509.0</td>\n",
              "    </tr>\n",
              "    <tr>\n",
              "      <th>genres_Comedy</th>\n",
              "      <td>3113.0</td>\n",
              "    </tr>\n",
              "    <tr>\n",
              "      <th>spoken_languages_en</th>\n",
              "      <td>3099.0</td>\n",
              "    </tr>\n",
              "    <tr>\n",
              "      <th>tagline</th>\n",
              "      <td>3010.0</td>\n",
              "    </tr>\n",
              "    <tr>\n",
              "      <th>belongs_to_collection</th>\n",
              "      <td>2829.0</td>\n",
              "    </tr>\n",
              "    <tr>\n",
              "      <th>genres_Drama</th>\n",
              "      <td>2696.0</td>\n",
              "    </tr>\n",
              "    <tr>\n",
              "      <th>genres_Action</th>\n",
              "      <td>2690.0</td>\n",
              "    </tr>\n",
              "    <tr>\n",
              "      <th>genres_Horror</th>\n",
              "      <td>1583.0</td>\n",
              "    </tr>\n",
              "    <tr>\n",
              "      <th>genres_Documentary</th>\n",
              "      <td>1317.0</td>\n",
              "    </tr>\n",
              "    <tr>\n",
              "      <th>production_countries_IN</th>\n",
              "      <td>835.0</td>\n",
              "    </tr>\n",
              "  </tbody>\n",
              "</table>\n",
              "</div>"
            ],
            "text/plain": [
              "                               0\n",
              "runtime                  32239.0\n",
              "release_month            17903.0\n",
              "budget                   16013.0\n",
              "production_countries_US   3875.0\n",
              "homepage                  3509.0\n",
              "genres_Comedy             3113.0\n",
              "spoken_languages_en       3099.0\n",
              "tagline                   3010.0\n",
              "belongs_to_collection     2829.0\n",
              "genres_Drama              2696.0\n",
              "genres_Action             2690.0\n",
              "genres_Horror             1583.0\n",
              "genres_Documentary        1317.0\n",
              "production_countries_IN    835.0"
            ]
          },
          "execution_count": 85,
          "metadata": {},
          "output_type": "execute_result"
        }
      ],
      "source": [
        "booster = model_xgb.get_booster()\n",
        "importances_xg = booster.get_score()\n",
        "importances = pd.DataFrame.from_dict(data=importances_xg, \n",
        "                                       orient='index')\n",
        "\n",
        "importances.sort_values(0, ascending = False)"
      ]
    },
    {
      "attachments": {},
      "cell_type": "markdown",
      "id": "a221dcc6",
      "metadata": {
        "id": "a221dcc6"
      },
      "source": [
        "## Model Ensemble "
      ]
    },
    {
      "attachments": {},
      "cell_type": "markdown",
      "id": "9dc8b3d9",
      "metadata": {
        "id": "9dc8b3d9"
      },
      "source": [
        "Put code with comments. The comments should explain the code such that it can be easily understood. You may put text *(in a markdown cell)* before a large chunk of code to explain the overall purpose of the code, if it is not intuitive. **Put the name of the person / persons who contributed to each code chunk / set of code chunks.**\n"
      ]
    },
    {
      "attachments": {},
      "cell_type": "markdown",
      "id": "961bcb1d",
      "metadata": {
        "id": "961bcb1d"
      },
      "source": [
        "### Voting ensemble"
      ]
    },
    {
      "cell_type": "code",
      "execution_count": null,
      "id": "c33fe720",
      "metadata": {
        "id": "c33fe720",
        "outputId": "248bff5b-77af-4e6f-c70e-8138a8b571db"
      },
      "outputs": [
        {
          "data": {
            "text/plain": [
              "0.7740656851642129"
            ]
          },
          "execution_count": 18,
          "metadata": {},
          "output_type": "execute_result"
        }
      ],
      "source": [
        "# hard voting ensemble (Margaret)\n",
        "hv_model = VotingClassifier(estimators=[('ada',model_ada),('rf',model_rf),('gb',model_gb),('xgb',model_xgb)])\n",
        "hv_model.fit(X_train,y_train.values.ravel())\n",
        "hv_model.score(X_test, y_test.values.ravel())"
      ]
    },
    {
      "cell_type": "code",
      "execution_count": null,
      "id": "38be525e-11fb-4fed-af3a-28a3137c2cc5",
      "metadata": {
        "id": "38be525e-11fb-4fed-af3a-28a3137c2cc5",
        "outputId": "e5a4227b-485c-4663-b2c7-ac59289d5116"
      },
      "outputs": [
        {
          "data": {
            "text/plain": [
              "0.7774631936579841"
            ]
          },
          "execution_count": 23,
          "metadata": {},
          "output_type": "execute_result"
        }
      ],
      "source": [
        "# soft voting ensemble (Margaret)\n",
        "sv_model = VotingClassifier(estimators=[('ada',model_ada),('rf',model_rf),('gb',model_gb),('xgb',model_xgb)],\n",
        "                                 voting = 'soft')\n",
        "sv_model.fit(X_train,y_train.values.ravel())\n",
        "sv_model.score(X_test, y_test.values.ravel())"
      ]
    },
    {
      "attachments": {},
      "cell_type": "markdown",
      "id": "ca651ba0",
      "metadata": {
        "id": "ca651ba0"
      },
      "source": [
        "### Stacking ensemble(s)"
      ]
    },
    {
      "cell_type": "code",
      "execution_count": null,
      "id": "1326e02a",
      "metadata": {
        "id": "1326e02a",
        "outputId": "083c6e20-8f74-4e1b-8636-3a6bf6c0b5a4"
      },
      "outputs": [
        {
          "data": {
            "text/plain": [
              "0.782559456398641"
            ]
          },
          "execution_count": 31,
          "metadata": {},
          "output_type": "execute_result"
        }
      ],
      "source": [
        "#Using Logistic regression as the meta model (final_estimator) (Margaret)\n",
        "logstack_model = StackingClassifier(estimators=[('ada',model_ada),('rf',model_rf),('gb',model_gb),('xgb',model_xgb)],\n",
        "                                   final_estimator=LogisticRegression(random_state=1,max_iter=10000),n_jobs=-1,\n",
        "                                   cv = 5)\n",
        "logstack_model.fit(X_train,y_train.values.ravel())\n",
        "logstack_model.score(X_test, y_test.values.ravel())"
      ]
    },
    {
      "cell_type": "code",
      "execution_count": null,
      "id": "2e6ae4af-ffe6-404b-9b6c-37827ed9d404",
      "metadata": {
        "id": "2e6ae4af-ffe6-404b-9b6c-37827ed9d404"
      },
      "outputs": [],
      "source": [
        "cross_val_ypred = cross_val_predict(logstack_model, X_train.values, y_train_le_total, cv = 5, method = 'predict_proba')"
      ]
    },
    {
      "cell_type": "code",
      "execution_count": null,
      "id": "811e39f3-b183-4cb7-a1ff-1eb1edb83da5",
      "metadata": {
        "id": "811e39f3-b183-4cb7-a1ff-1eb1edb83da5",
        "outputId": "d0410b16-b4b0-4281-a7fd-a7a66cdd57f3"
      },
      "outputs": [
        {
          "data": {
            "image/png": "[encoded data removed]",
            "text/plain": [
              "<Figure size 800x800 with 1 Axes>"
            ]
          },
          "metadata": {},
          "output_type": "display_data"
        }
      ],
      "source": [
        "accuracies = []\n",
        "recalls = []\n",
        "\n",
        "thresholds = np.arange(0,1.01,0.01)\n",
        "for threshold in thresholds:\n",
        "    predicted_class = cross_val_ypred[:,1] > threshold\n",
        "    predicted_class = predicted_class.astype(int)\n",
        "    accuracy = accuracy_score(y_train, predicted_class)\n",
        "    accuracies.append(accuracy)\n",
        "    recall = recall_score(y_train, predicted_class)\n",
        "    recalls.append(recall)\n",
        "\n",
        "\n",
        "def plot_accuracy_recall_vs_threshold(accuracies, recalls, thresholds):\n",
        "    plt.figure(figsize=(8, 8))\n",
        "    plt.title(\"Accuracy and Recall Scores as a function of the decision threshold\")\n",
        "    plt.plot(thresholds, accuracies, \"b--\", label=\"Accuracy\")\n",
        "    plt.plot(thresholds, recalls, \"g-\", label=\"Recall\")\n",
        "    plt.plot(thresholds, accuracies, \"o\", color = 'blue')\n",
        "    plt.plot(thresholds, recalls, \"o\", color = 'green')\n",
        "    plt.ylabel(\"Score\")\n",
        "    plt.xlabel(\"Decision Threshold\")\n",
        "    plt.legend(loc='best')\n",
        "    plt.legend()\n",
        "plot_accuracy_recall_vs_threshold(accuracies, recalls, thresholds)"
      ]
    },
    {
      "cell_type": "code",
      "execution_count": null,
      "id": "ce59185d-626a-4d80-b139-2a3134c4dbc2",
      "metadata": {
        "collapsed": true,
        "id": "ce59185d-626a-4d80-b139-2a3134c4dbc2",
        "jupyter": {
          "outputs_hidden": true
        },
        "outputId": "699b559a-b636-44ba-ea48-12c5d40e1ac2",
        "tags": []
      },
      "outputs": [
        {
          "data": {
            "text/plain": [
              "array([[0.        , 0.50069986, 1.        ],\n",
              "       [0.01      , 0.50069986, 1.        ],\n",
              "       [0.02      , 0.50069986, 1.        ],\n",
              "       [0.03      , 0.50069986, 1.        ],\n",
              "       [0.04      , 0.50069986, 1.        ],\n",
              "       [0.05      , 0.50069986, 1.        ],\n",
              "       [0.06      , 0.50069986, 1.        ],\n",
              "       [0.07      , 0.50069986, 1.        ],\n",
              "       [0.08      , 0.52359528, 0.99880192],\n",
              "       [0.09      , 0.54689062, 0.99740415],\n",
              "       [0.1       , 0.55958808, 0.99640575],\n",
              "       [0.11      , 0.57738452, 0.99221246],\n",
              "       [0.12      , 0.5994801 , 0.98682109],\n",
              "       [0.13      , 0.61687662, 0.97903355],\n",
              "       [0.14      , 0.63337333, 0.97344249],\n",
              "       [0.15      , 0.65096981, 0.96765176],\n",
              "       [0.16      , 0.66636673, 0.96265974],\n",
              "       [0.17      , 0.67976405, 0.95327476],\n",
              "       [0.18      , 0.68936213, 0.9466853 ],\n",
              "       [0.19      , 0.69956009, 0.94029553],\n",
              "       [0.2       , 0.70625875, 0.93390575],\n",
              "       [0.21      , 0.71495701, 0.92771565],\n",
              "       [0.22      , 0.72085583, 0.92132588],\n",
              "       [0.23      , 0.72765447, 0.91473642],\n",
              "       [0.24      , 0.73405319, 0.90874601],\n",
              "       [0.25      , 0.73935213, 0.90275559],\n",
              "       [0.26      , 0.74415117, 0.89796326],\n",
              "       [0.27      , 0.74705059, 0.89077476],\n",
              "       [0.28      , 0.75094981, 0.88498403],\n",
              "       [0.29      , 0.75394921, 0.87759585],\n",
              "       [0.3       , 0.75644871, 0.87140575],\n",
              "       [0.31      , 0.76024795, 0.86641374],\n",
              "       [0.32      , 0.76214757, 0.85942492],\n",
              "       [0.33      , 0.76444711, 0.85383387],\n",
              "       [0.34      , 0.76774645, 0.84604633],\n",
              "       [0.35      , 0.76994601, 0.84005591],\n",
              "       [0.36      , 0.77164567, 0.83426518],\n",
              "       [0.37      , 0.77214557, 0.82587859],\n",
              "       [0.38      , 0.77284543, 0.8196885 ],\n",
              "       [0.39      , 0.77334533, 0.81329872],\n",
              "       [0.4       , 0.77334533, 0.80650958],\n",
              "       [0.41      , 0.77434513, 0.80171725],\n",
              "       [0.42      , 0.77664467, 0.79892173],\n",
              "       [0.43      , 0.77664467, 0.79273163],\n",
              "       [0.44      , 0.77724455, 0.78654153],\n",
              "       [0.45      , 0.77654469, 0.7797524 ],\n",
              "       [0.46      , 0.77724455, 0.77176518],\n",
              "       [0.47      , 0.77714457, 0.76577476],\n",
              "       [0.48      , 0.77854429, 0.76138179],\n",
              "       [0.49      , 0.77954409, 0.75658946],\n",
              "       [0.5       , 0.78104379, 0.75219649],\n",
              "       [0.51      , 0.78174365, 0.74420927],\n",
              "       [0.52      , 0.78224355, 0.73801917],\n",
              "       [0.53      , 0.78254349, 0.73222843],\n",
              "       [0.54      , 0.78234353, 0.72503994],\n",
              "       [0.55      , 0.78214357, 0.71884984],\n",
              "       [0.56      , 0.78144371, 0.71285942],\n",
              "       [0.57      , 0.78134373, 0.70846645],\n",
              "       [0.58      , 0.78124375, 0.70167732],\n",
              "       [0.59      , 0.78164367, 0.69808307],\n",
              "       [0.6       , 0.78064387, 0.69109425],\n",
              "       [0.61      , 0.78074385, 0.68550319],\n",
              "       [0.62      , 0.77824435, 0.67611821],\n",
              "       [0.63      , 0.77644471, 0.66833067],\n",
              "       [0.64      , 0.77494501, 0.66034345],\n",
              "       [0.65      , 0.77394521, 0.65515176],\n",
              "       [0.66      , 0.77174565, 0.64736422],\n",
              "       [0.67      , 0.77014597, 0.6413738 ],\n",
              "       [0.68      , 0.76934613, 0.63558307],\n",
              "       [0.69      , 0.76814637, 0.62979233],\n",
              "       [0.7       , 0.76654669, 0.62480032],\n",
              "       [0.71      , 0.76474705, 0.61861022],\n",
              "       [0.72      , 0.76304739, 0.61281949],\n",
              "       [0.73      , 0.76174765, 0.60623003],\n",
              "       [0.74      , 0.76074785, 0.60063898],\n",
              "       [0.75      , 0.75864827, 0.59365016],\n",
              "       [0.76      , 0.75664867, 0.58765974],\n",
              "       [0.77      , 0.75454909, 0.58087061],\n",
              "       [0.78      , 0.75404919, 0.57527955],\n",
              "       [0.79      , 0.75024995, 0.56429712],\n",
              "       [0.8       , 0.74835033, 0.55710863],\n",
              "       [0.81      , 0.74405119, 0.54532748],\n",
              "       [0.82      , 0.73885223, 0.5317492 ],\n",
              "       [0.83      , 0.73445311, 0.51857029],\n",
              "       [0.84      , 0.72925415, 0.50439297],\n",
              "       [0.85      , 0.72375525, 0.48941693],\n",
              "       [0.86      , 0.71635673, 0.47144569],\n",
              "       [0.87      , 0.70655869, 0.44688498],\n",
              "       [0.88      , 0.69196161, 0.41413738],\n",
              "       [0.89      , 0.67806439, 0.38178914],\n",
              "       [0.9       , 0.65466907, 0.32767572],\n",
              "       [0.91      , 0.62507499, 0.26138179],\n",
              "       [0.92      , 0.58688262, 0.1793131 ],\n",
              "       [0.93      , 0.5419916 , 0.0870607 ],\n",
              "       [0.94      , 0.50859828, 0.01857029],\n",
              "       [0.95      , 0.50089982, 0.00319489],\n",
              "       [0.96      , 0.49930014, 0.        ],\n",
              "       [0.97      , 0.49930014, 0.        ],\n",
              "       [0.98      , 0.49930014, 0.        ],\n",
              "       [0.99      , 0.49930014, 0.        ],\n",
              "       [1.        , 0.49930014, 0.        ]])"
            ]
          },
          "execution_count": 34,
          "metadata": {},
          "output_type": "execute_result"
        }
      ],
      "source": [
        "np.column_stack([thresholds,accuracies,recalls])"
      ]
    },
    {
      "cell_type": "code",
      "execution_count": null,
      "id": "9f9b0e1b-6118-4f82-9ff5-5b070668b32d",
      "metadata": {
        "id": "9f9b0e1b-6118-4f82-9ff5-5b070668b32d",
        "outputId": "6a324b14-ccfa-46b1-ff3f-cc4e0be7cc84"
      },
      "outputs": [
        {
          "name": "stdout",
          "output_type": "stream",
          "text": [
            "Train accuracy:  80.36392721455708\n",
            "Train Recall:  77.27635782747603\n"
          ]
        }
      ],
      "source": [
        "predicted_probability = logstack_model.predict_proba(X_train)[:,1]\n",
        "\n",
        "optimal_threshold = 0.51\n",
        "\n",
        "predicted_class = predicted_probability > optimal_threshold\n",
        "predicted_class = predicted_class.astype(int)\n",
        "\n",
        "    #Computing the accuracy\n",
        "ac = accuracy_score(y_train, predicted_class)*100\n",
        "rs = recall_score(y_train, predicted_class)*100\n",
        "   \n",
        "\n",
        "print('Train accuracy: ', ac)\n",
        "print('Train Recall: ', rs)"
      ]
    },
    {
      "cell_type": "code",
      "execution_count": null,
      "id": "0d8e2b97-5342-4f5f-a3c0-17746ebba6df",
      "metadata": {
        "id": "0d8e2b97-5342-4f5f-a3c0-17746ebba6df",
        "outputId": "2e273d62-606d-4cc9-e5af-1385b16a720a"
      },
      "outputs": [
        {
          "name": "stdout",
          "output_type": "stream",
          "text": [
            "Test accuracy:  78.2559456398641\n",
            "Test Recall:  74.20091324200914\n"
          ]
        }
      ],
      "source": [
        "predicted_probability = logstack_model.predict_proba(X_test)[:,1]\n",
        "\n",
        "predicted_class = predicted_probability > optimal_threshold\n",
        "predicted_class = predicted_class.astype(int)\n",
        "\n",
        "#Computing the accuracy and recall\n",
        "ac = accuracy_score(y_test,predicted_class)*100\n",
        "rs = recall_score(y_test, predicted_class)*100\n",
        "\n",
        "print('Test accuracy: ', ac)\n",
        "print('Test Recall: ', rs)"
      ]
    },
    {
      "cell_type": "code",
      "execution_count": null,
      "id": "d622e2aa",
      "metadata": {
        "id": "d622e2aa",
        "outputId": "77fde506-cbee-4d39-8a55-15ce9367f77e"
      },
      "outputs": [
        {
          "data": {
            "text/plain": [
              "0.7684031710079275"
            ]
          },
          "execution_count": 52,
          "metadata": {},
          "output_type": "execute_result"
        }
      ],
      "source": [
        "#Using random forests as the meta model (final_estimator). (Margaret)\n",
        "rfstack_model = StackingClassifier(estimators=[('ada',model_ada),('rf',model_rf),('gb',model_gb),('xgb',model_xgb)],\n",
        "                                   final_estimator=RandomForestClassifier(n_estimators=700, max_features=1,\n",
        "                                                                          random_state=1,oob_score=True),n_jobs=-1,\n",
        "                                   cv = 5)\n",
        "rfstack_model.fit(X_train,y_train.values.ravel())\n",
        "rfstack_model.score(X_test, y_test.values.ravel())"
      ]
    },
    {
      "cell_type": "code",
      "execution_count": null,
      "id": "9ebbca85-5d08-4700-8900-eb0e0188751e",
      "metadata": {
        "id": "9ebbca85-5d08-4700-8900-eb0e0188751e"
      },
      "outputs": [],
      "source": [
        "cross_val_ypred = cross_val_predict(rfstack_model, X_train.values, y_train_le_total, cv = 5, method = 'predict_proba')"
      ]
    },
    {
      "cell_type": "code",
      "execution_count": null,
      "id": "09b6ee7e-539d-4c82-a09d-ac1922fbe932",
      "metadata": {
        "id": "09b6ee7e-539d-4c82-a09d-ac1922fbe932",
        "outputId": "ee150c1b-a32e-49d1-b62a-bca868b2e7a1"
      },
      "outputs": [
        {
          "data": {
            "image/png": "[encoded data removed]",
            "text/plain": [
              "<Figure size 800x800 with 1 Axes>"
            ]
          },
          "metadata": {},
          "output_type": "display_data"
        }
      ],
      "source": [
        "accuracies = []\n",
        "recalls = []\n",
        "\n",
        "thresholds = np.arange(0,1.01,0.01)\n",
        "for threshold in thresholds:\n",
        "    predicted_class = cross_val_ypred[:,1] > threshold\n",
        "    predicted_class = predicted_class.astype(int)\n",
        "    accuracy = accuracy_score(y_train, predicted_class)\n",
        "    accuracies.append(accuracy)\n",
        "    recall = recall_score(y_train, predicted_class)\n",
        "    recalls.append(recall)\n",
        "\n",
        "\n",
        "def plot_accuracy_recall_vs_threshold(accuracies, recalls, thresholds):\n",
        "    plt.figure(figsize=(8, 8))\n",
        "    plt.title(\"Accuracy and Recall Scores as a function of the decision threshold\")\n",
        "    plt.plot(thresholds, accuracies, \"b--\", label=\"Accuracy\")\n",
        "    plt.plot(thresholds, recalls, \"g-\", label=\"Recall\")\n",
        "    plt.plot(thresholds, accuracies, \"o\", color = 'blue')\n",
        "    plt.plot(thresholds, recalls, \"o\", color = 'green')\n",
        "    plt.ylabel(\"Score\")\n",
        "    plt.xlabel(\"Decision Threshold\")\n",
        "    plt.legend(loc='best')\n",
        "    plt.legend()\n",
        "plot_accuracy_recall_vs_threshold(accuracies, recalls, thresholds)"
      ]
    },
    {
      "cell_type": "code",
      "execution_count": null,
      "id": "e4f9e4cb-a92f-4cbe-ad46-00a1688c1568",
      "metadata": {
        "id": "e4f9e4cb-a92f-4cbe-ad46-00a1688c1568",
        "outputId": "dfd38553-56e2-4f05-8d0a-a4832bf1f2d9"
      },
      "outputs": [
        {
          "name": "stdout",
          "output_type": "stream",
          "text": [
            "Train accuracy:  78.874225154969\n",
            "Train Recall:  76.33785942492013\n"
          ]
        }
      ],
      "source": [
        "predicted_probability = rfstack_model.predict_proba(X_train)[:,1]\n",
        "\n",
        "optimal_threshold = 0.5\n",
        "\n",
        "predicted_class = predicted_probability > optimal_threshold\n",
        "predicted_class = predicted_class.astype(int)\n",
        "\n",
        "    #Computing the accuracy\n",
        "ac = accuracy_score(y_train, predicted_class)*100\n",
        "rs = recall_score(y_train, predicted_class)*100\n",
        "   \n",
        "\n",
        "print('Train accuracy: ', ac)\n",
        "print('Train Recall: ', rs)"
      ]
    },
    {
      "cell_type": "code",
      "execution_count": null,
      "id": "08a557d2-ed45-4587-914d-f2b64ecedd26",
      "metadata": {
        "id": "08a557d2-ed45-4587-914d-f2b64ecedd26",
        "outputId": "414faed8-3ac2-44f3-f6a5-ca309d88d6b1"
      },
      "outputs": [
        {
          "name": "stdout",
          "output_type": "stream",
          "text": [
            "Test accuracy:  76.84031710079276\n",
            "Test Recall:  72.6027397260274\n"
          ]
        }
      ],
      "source": [
        "predicted_probability = rfstack_model.predict_proba(X_test)[:,1]\n",
        "\n",
        "predicted_class = predicted_probability > optimal_threshold\n",
        "predicted_class = predicted_class.astype(int)\n",
        "\n",
        "#Computing the accuracy and recall\n",
        "ac = accuracy_score(y_test,predicted_class)*100\n",
        "rs = recall_score(y_test, predicted_class)*100\n",
        "\n",
        "print('Test accuracy: ', ac)\n",
        "print('Test Recall: ', rs)"
      ]
    },
    {
      "cell_type": "code",
      "execution_count": null,
      "id": "429482e3",
      "metadata": {
        "id": "429482e3",
        "outputId": "b3433d5f-4329-4254-ce82-065227c98951"
      },
      "outputs": [
        {
          "name": "stdout",
          "output_type": "stream",
          "text": [
            "time taken =  3.0003421584765118  minutes\n",
            "max accuracy =  0.7690461907618477\n",
            "Best value of max_features=  1\n"
          ]
        }
      ],
      "source": [
        "#Tuning the random forest parameters (Margaret)\n",
        "start_time = time.time()\n",
        "oob_score = {}\n",
        "\n",
        "i=0\n",
        "for pr in range(1,5):\n",
        "    model = StackingClassifier(estimators=[('ada',model_ada),('rf',model_rf),('gb',model_gb),('xgb',model_xgb)],\n",
        "                                   final_estimator=RandomForestClassifier(n_estimators=700, max_features=pr,\n",
        "                                    random_state=1,oob_score=True),n_jobs=-1,\n",
        "                                   cv = 5).fit(X_train, y_train.values.ravel())\n",
        "    oob_score[pr] = model.final_estimator_.oob_score_\n",
        "    \n",
        "end_time = time.time()\n",
        "print(\"time taken = \", (end_time-start_time)/60, \" minutes\")\n",
        "print(\"max accuracy = \", np.max(list(oob_score.values())))\n",
        "print(\"Best value of max_features= \", np.argmax(list(oob_score.values()))+1)"
      ]
    },
    {
      "attachments": {},
      "cell_type": "markdown",
      "id": "1d586317-5e5d-463d-9ea3-92ba282823f0",
      "metadata": {
        "id": "1d586317-5e5d-463d-9ea3-92ba282823f0"
      },
      "source": [
        "This trained model output the same model as before. "
      ]
    },
    {
      "cell_type": "code",
      "execution_count": null,
      "id": "a581e0b2",
      "metadata": {
        "id": "a581e0b2",
        "outputId": "a7120d98-aae9-4d00-ce1e-eb9c89851d8b"
      },
      "outputs": [
        {
          "data": {
            "text/plain": [
              "0.7757644394110985"
            ]
          },
          "execution_count": 67,
          "metadata": {},
          "output_type": "execute_result"
        }
      ],
      "source": [
        "#Using CatBoost as the meta model (Margaret)\n",
        "catstack_model = StackingClassifier(estimators=[('ada',model_ada),('gb',model_gb),('xgb',model_xgb)],\n",
        "                                   final_estimator=CatBoostClassifier(random_state=45, verbose = False),n_jobs=-1,\n",
        "                                   cv = 5)\n",
        "catstack_model.fit(X_train,y_train.values.ravel())\n",
        "catstack_model.score(X_test, y_test.values.ravel())"
      ]
    },
    {
      "cell_type": "code",
      "execution_count": null,
      "id": "61ff50d8-0297-47cd-9e11-a16365867bb3",
      "metadata": {
        "id": "61ff50d8-0297-47cd-9e11-a16365867bb3"
      },
      "outputs": [],
      "source": [
        "cross_val_ypred = cross_val_predict(catstack_model, X_train.values, y_train_le_total, cv = 5, method = 'predict_proba')"
      ]
    },
    {
      "cell_type": "code",
      "execution_count": null,
      "id": "7b97afd4-1809-4a54-bed4-f946f239283a",
      "metadata": {
        "id": "7b97afd4-1809-4a54-bed4-f946f239283a",
        "outputId": "5e1dca5d-8e10-48ec-e07f-785e6eff28dd"
      },
      "outputs": [
        {
          "data": {
            "image/png": "[encoded data removed]",
            "text/plain": [
              "<Figure size 800x800 with 1 Axes>"
            ]
          },
          "metadata": {},
          "output_type": "display_data"
        }
      ],
      "source": [
        "accuracies = []\n",
        "recalls = []\n",
        "\n",
        "thresholds = np.arange(0,1.01,0.01)\n",
        "for threshold in thresholds:\n",
        "    predicted_class = cross_val_ypred[:,1] > threshold\n",
        "    predicted_class = predicted_class.astype(int)\n",
        "    accuracy = accuracy_score(y_train, predicted_class)\n",
        "    accuracies.append(accuracy)\n",
        "    recall = recall_score(y_train, predicted_class)\n",
        "    recalls.append(recall)\n",
        "\n",
        "\n",
        "def plot_accuracy_recall_vs_threshold(accuracies, recalls, thresholds):\n",
        "    plt.figure(figsize=(8, 8))\n",
        "    plt.title(\"Accuracy and Recall Scores as a function of the decision threshold\")\n",
        "    plt.plot(thresholds, accuracies, \"b--\", label=\"Accuracy\")\n",
        "    plt.plot(thresholds, recalls, \"g-\", label=\"Recall\")\n",
        "    plt.plot(thresholds, accuracies, \"o\", color = 'blue')\n",
        "    plt.plot(thresholds, recalls, \"o\", color = 'green')\n",
        "    plt.ylabel(\"Score\")\n",
        "    plt.xlabel(\"Decision Threshold\")\n",
        "    plt.legend(loc='best')\n",
        "    plt.legend()\n",
        "plot_accuracy_recall_vs_threshold(accuracies, recalls, thresholds)"
      ]
    },
    {
      "cell_type": "code",
      "execution_count": null,
      "id": "ba2eba00-5f1e-45d2-aceb-20921ea3ceea",
      "metadata": {
        "id": "ba2eba00-5f1e-45d2-aceb-20921ea3ceea",
        "outputId": "e1f1105f-1c67-4c53-d057-942aa3bf1c4b"
      },
      "outputs": [
        {
          "name": "stdout",
          "output_type": "stream",
          "text": [
            "Train accuracy:  79.39412117576484\n",
            "Train Recall:  73.8817891373802\n"
          ]
        }
      ],
      "source": [
        "predicted_probability = catstack_model.predict_proba(X_train)[:,1]\n",
        "\n",
        "optimal_threshold = 0.52\n",
        "\n",
        "predicted_class = predicted_probability > optimal_threshold\n",
        "predicted_class = predicted_class.astype(int)\n",
        "\n",
        "    #Computing the accuracy\n",
        "ac = accuracy_score(y_train, predicted_class)*100\n",
        "rs = recall_score(y_train, predicted_class)*100\n",
        "   \n",
        "\n",
        "print('Train accuracy: ', ac)\n",
        "print('Train Recall: ', rs)"
      ]
    },
    {
      "cell_type": "code",
      "execution_count": null,
      "id": "6e045faf-f0c3-4a08-9aea-82012b3a609b",
      "metadata": {
        "id": "6e045faf-f0c3-4a08-9aea-82012b3a609b",
        "outputId": "e48ce353-f115-4620-e804-956f535975d0"
      },
      "outputs": [
        {
          "name": "stdout",
          "output_type": "stream",
          "text": [
            "Test accuracy:  77.06681766704416\n",
            "Test Recall:  70.8904109589041\n"
          ]
        }
      ],
      "source": [
        "predicted_probability = catstack_model.predict_proba(X_test)[:,1]\n",
        "\n",
        "predicted_class = predicted_probability > optimal_threshold\n",
        "predicted_class = predicted_class.astype(int)\n",
        "\n",
        "#Computing the accuracy and recall\n",
        "ac = accuracy_score(y_test,predicted_class)*100\n",
        "rs = recall_score(y_test, predicted_class)*100\n",
        "\n",
        "print('Test accuracy: ', ac)\n",
        "print('Test Recall: ', rs)"
      ]
    }
  ],
  "metadata": {
    "colab": {
      "provenance": []
    },
    "environment": {
      "kernel": "python3",
      "name": "tf2-gpu.2-8.m108",
      "type": "gcloud",
      "uri": "gcr.io/deeplearning-platform-release/tf2-gpu.2-8:m108"
    },
    "kernelspec": {
      "display_name": "Python 3 (ipykernel)",
      "language": "python",
      "name": "python3"
    },
    "language_info": {
      "codemirror_mode": {
        "name": "ipython",
        "version": 3
      },
      "file_extension": ".py",
      "mimetype": "text/x-python",
      "name": "python",
      "nbconvert_exporter": "python",
      "pygments_lexer": "ipython3",
      "version": "3.9.13"
    }
  },
  "nbformat": 4,
  "nbformat_minor": 5
}
