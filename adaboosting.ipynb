{
 "cells": [
  {
   "cell_type": "code",
   "execution_count": 5,
   "id": "67b46ff1",
   "metadata": {},
   "outputs": [],
   "source": [
    "import pandas as pd\n",
    "import numpy as np\n",
    "import seaborn as sns\n",
    "import matplotlib.pyplot as plt\n",
    "from sklearn.metrics import mean_squared_error\n",
    "from sklearn.model_selection import cross_val_score,train_test_split, KFold, cross_val_predict\n",
    "from sklearn.metrics import mean_squared_error,r2_score,roc_curve,auc,precision_recall_curve, accuracy_score, \\\n",
    "recall_score, precision_score, confusion_matrix\n",
    "from sklearn.tree import DecisionTreeRegressor,DecisionTreeClassifier\n",
    "from sklearn.model_selection import GridSearchCV, ParameterGrid, StratifiedKFold\n",
    "from sklearn.ensemble import BaggingRegressor,BaggingClassifier,AdaBoostRegressor,AdaBoostClassifier\n",
    "from sklearn.linear_model import LinearRegression,LogisticRegression\n",
    "from sklearn.neighbors import KNeighborsRegressor\n",
    "import itertools as it\n",
    "import time as time\n",
    "import warnings\n",
    "warnings.filterwarnings('ignore')"
   ]
  },
  {
   "cell_type": "code",
   "execution_count": 17,
   "id": "9800edbf",
   "metadata": {},
   "outputs": [],
   "source": [
    "X = pd.read_csv(\"X_train.csv\")\n",
    "y = pd.read_csv(\"y_train.csv\")\n",
    "\n",
    "X_test = pd.read_csv(\"X_test.csv\")\n",
    "y_test = pd.read_csv(\"y_test.csv\")"
   ]
  },
  {
   "cell_type": "code",
   "execution_count": 18,
   "id": "0dc8a96f",
   "metadata": {},
   "outputs": [],
   "source": [
    "X = X.drop(X.columns[0], axis=1)\n",
    "y = y.drop(y.columns[0], axis=1)\n",
    "\n",
    "X_test = X_test.drop(X_test.columns[0], axis=1)\n",
    "y_test = y_test.drop(y_test.columns[0], axis=1)"
   ]
  },
  {
   "cell_type": "code",
   "execution_count": 21,
   "id": "fcaa1542",
   "metadata": {
    "scrolled": false
   },
   "outputs": [
    {
     "name": "stdout",
     "output_type": "stream",
     "text": [
      ">50 0.779 (0.009)\n",
      ">100 0.777 (0.011)\n",
      ">150 0.778 (0.010)\n",
      ">200 0.776 (0.012)\n",
      ">250 0.778 (0.011)\n",
      ">300 0.778 (0.010)\n",
      ">350 0.777 (0.009)\n",
      ">400 0.777 (0.009)\n",
      ">450 0.777 (0.009)\n",
      ">500 0.777 (0.009)\n"
     ]
    },
    {
     "data": {
      "text/plain": [
       "Text(0.5, 0, 'Number of trees')"
      ]
     },
     "execution_count": 21,
     "metadata": {},
     "output_type": "execute_result"
    },
    {
     "data": {
      "image/png": "[encoded data removed]",
      "text/plain": [
       "<Figure size 432x288 with 1 Axes>"
      ]
     },
     "metadata": {
      "needs_background": "light"
     },
     "output_type": "display_data"
    }
   ],
   "source": [
    "def get_models():\n",
    "    models = dict()\n",
    "    # define number of trees to consider\n",
    "    n_trees = list(range(50, 501, 50))\n",
    "    for n in n_trees:\n",
    "        models[str(n)] = AdaBoostClassifier(n_estimators=n,random_state=1)\n",
    "    return models\n",
    "\n",
    "# evaluate a given model using cross-validation\n",
    "def evaluate_model(model, X, y):\n",
    "    # define the evaluation procedure\n",
    "    cv = StratifiedKFold(n_splits=10, shuffle=True, random_state=1)\n",
    "    # evaluate the model and collect the results\n",
    "    scores = cross_val_score(model, X, y, scoring='accuracy', cv=cv, n_jobs=-1)\n",
    "    return scores\n",
    "\n",
    "# get the models to evaluate\n",
    "models = get_models()\n",
    "# evaluate the models and store results\n",
    "results, names = list(), list()\n",
    "for name, model in models.items():\n",
    "    # evaluate the model\n",
    "    scores = evaluate_model(model, X, y)\n",
    "    # store the results\n",
    "    results.append(scores)\n",
    "    names.append(name)\n",
    "    # summarize the performance along the way\n",
    "    print('>%s %.3f (%.3f)' % (name, np.mean(scores), np.std(scores)))\n",
    "# plot model performance for comparison\n",
    "plt.boxplot(results, labels=names, showmeans=True)\n",
    "plt.ylabel('Cross validation error',fontsize=15)\n",
    "plt.xlabel('Number of trees',fontsize=15)"
   ]
  },
  {
   "cell_type": "code",
   "execution_count": 22,
   "id": "f91c1afe",
   "metadata": {},
   "outputs": [
    {
     "name": "stdout",
     "output_type": "stream",
     "text": [
      ">1 0.779 (0.009)\n",
      ">2 0.775 (0.013)\n",
      ">3 0.767 (0.011)\n",
      ">4 0.760 (0.013)\n",
      ">5 0.744 (0.014)\n",
      ">6 0.737 (0.016)\n",
      ">7 0.726 (0.011)\n",
      ">8 0.718 (0.010)\n",
      ">9 0.728 (0.015)\n",
      ">10 0.726 (0.010)\n",
      ">11 0.724 (0.012)\n",
      ">12 0.730 (0.009)\n",
      ">13 0.734 (0.012)\n",
      ">14 0.736 (0.012)\n",
      ">15 0.730 (0.011)\n",
      ">16 0.731 (0.011)\n",
      ">17 0.734 (0.010)\n",
      ">18 0.735 (0.007)\n",
      ">19 0.731 (0.007)\n",
      ">20 0.732 (0.015)\n"
     ]
    },
    {
     "data": {
      "text/plain": [
       "Text(0.5, 0, 'Depth of each tree')"
      ]
     },
     "execution_count": 22,
     "metadata": {},
     "output_type": "execute_result"
    },
    {
     "data": {
      "image/png": "[encoded data removed]",
      "text/plain": [
       "<Figure size 432x288 with 1 Axes>"
      ]
     },
     "metadata": {
      "needs_background": "light"
     },
     "output_type": "display_data"
    }
   ],
   "source": [
    "# get a list of models to evaluate\n",
    "def get_models():\n",
    "    models = dict()\n",
    "    # explore depths from 1 to 10\n",
    "    for i in range(1,21):\n",
    "        # define base model\n",
    "        base = DecisionTreeClassifier(max_depth=i)\n",
    "        # define ensemble model\n",
    "        models[str(i)] = AdaBoostClassifier(base_estimator=base)\n",
    "    return models\n",
    "\n",
    "# evaluate a given model using cross-validation\n",
    "def evaluate_model(model, X, y):\n",
    "    # define the evaluation procedure\n",
    "    cv = StratifiedKFold(n_splits=10, shuffle=True, random_state=1)\n",
    "    # evaluate the model and collect the results\n",
    "    scores = cross_val_score(model, X, y, scoring='accuracy', cv=cv, n_jobs=-1)\n",
    "    return scores\n",
    "\n",
    "# get the models to evaluate\n",
    "models = get_models()\n",
    "# evaluate the models and store results\n",
    "results, names = list(), list()\n",
    "for name, model in models.items():\n",
    "    # evaluate the model\n",
    "    scores = evaluate_model(model, X, y)\n",
    "    # store the results\n",
    "    results.append(scores)\n",
    "    names.append(name)\n",
    "    # summarize the performance along the way\n",
    "    print('>%s %.3f (%.3f)' % (name, np.mean(scores), np.std(scores)))\n",
    "plt.boxplot(results, labels=names, showmeans=True)\n",
    "plt.ylabel('Accuracy',fontsize=15)\n",
    "plt.xlabel('Depth of each tree',fontsize=15)"
   ]
  },
  {
   "cell_type": "code",
   "execution_count": 23,
   "id": "7353c9fd",
   "metadata": {},
   "outputs": [
    {
     "name": "stdout",
     "output_type": "stream",
     "text": [
      ">0.1 0.767 (0.013)\n",
      ">0.2 0.773 (0.015)\n",
      ">0.3 0.775 (0.018)\n",
      ">0.4 0.775 (0.018)\n",
      ">0.5 0.776 (0.016)\n",
      ">0.6 0.777 (0.015)\n",
      ">0.7 0.777 (0.014)\n",
      ">0.8 0.779 (0.016)\n",
      ">0.9 0.778 (0.017)\n",
      ">1.0 0.775 (0.015)\n",
      ">1.1 0.775 (0.016)\n",
      ">1.2 0.775 (0.015)\n",
      ">1.3 0.774 (0.016)\n",
      ">1.4 0.777 (0.016)\n",
      ">1.5 0.777 (0.015)\n",
      ">1.6 0.776 (0.015)\n",
      ">1.7 0.775 (0.015)\n",
      ">1.8 0.771 (0.009)\n",
      ">1.9 0.769 (0.015)\n",
      ">2.0 0.240 (0.014)\n"
     ]
    },
    {
     "data": {
      "text/plain": [
       "Text(0.5, 0, 'Learning rate')"
      ]
     },
     "execution_count": 23,
     "metadata": {},
     "output_type": "execute_result"
    },
    {
     "data": {
      "image/png": "[encoded data removed]",
      "text/plain": [
       "<Figure size 504x504 with 1 Axes>"
      ]
     },
     "metadata": {
      "needs_background": "light"
     },
     "output_type": "display_data"
    }
   ],
   "source": [
    "def get_models():\n",
    "    models = dict()\n",
    "    # explore learning rates from 0.1 to 2 in 0.1 increments\n",
    "    for i in np.arange(0.1, 2.1, 0.1):\n",
    "        key = '%.1f' % i\n",
    "        models[key] = AdaBoostClassifier(learning_rate=i)\n",
    "    return models\n",
    "\n",
    "# evaluate a given model using cross-validation\n",
    "def evaluate_model(model, X, y):\n",
    "    # define the evaluation procedure\n",
    "    cv = KFold(n_splits=10, shuffle=True, random_state=1)\n",
    "    # evaluate the model and collect the results\n",
    "    scores = cross_val_score(model, X, y, scoring='accuracy', cv=cv, n_jobs=-1)\n",
    "    return scores\n",
    "\n",
    "# get the models to evaluate\n",
    "models = get_models()\n",
    "# evaluate the models and store results\n",
    "results, names = list(), list()\n",
    "for name, model in models.items():\n",
    "    # evaluate the model\n",
    "    scores = evaluate_model(model, X, y)\n",
    "    # store the results\n",
    "    results.append(scores)\n",
    "    names.append(name)\n",
    "    # summarize the performance along the way\n",
    "    print('>%s %.3f (%.3f)' % (name, np.mean(scores), np.std(scores)))\n",
    "# plot model performance for comparison\n",
    "plt.figure(figsize=(7, 7))\n",
    "plt.boxplot(results, labels=names, showmeans=True)\n",
    "plt.ylabel('Accuracy',fontsize=15)\n",
    "plt.xlabel('Learning rate',fontsize=15)"
   ]
  },
  {
   "cell_type": "code",
   "execution_count": 24,
   "id": "117f2918",
   "metadata": {},
   "outputs": [
    {
     "name": "stdout",
     "output_type": "stream",
     "text": [
      "Fitting 5 folds for each of 100 candidates, totalling 500 fits\n",
      "Best: 0.780843 using {'base_estimator': DecisionTreeClassifier(max_depth=2), 'learning_rate': 0.1, 'n_estimators': 500}\n"
     ]
    }
   ],
   "source": [
    "model = AdaBoostClassifier(random_state=1)\n",
    "grid = dict()\n",
    "grid['n_estimators'] = [10, 50, 100,200,500]\n",
    "grid['learning_rate'] = [0.0001, 0.001, 0.01,0.1, 1.0]\n",
    "grid['base_estimator'] = [DecisionTreeClassifier(max_depth=1), DecisionTreeClassifier(max_depth=2), \n",
    "                          DecisionTreeClassifier(max_depth=3),DecisionTreeClassifier(max_depth=4)]\n",
    "# define the evaluation procedure\n",
    "cv = StratifiedKFold(n_splits=5, shuffle=True, random_state=1)\n",
    "# define the grid search procedure\n",
    "grid_search = GridSearchCV(estimator=model, param_grid=grid, n_jobs=-1, cv=cv, \n",
    "                          verbose = True)\n",
    "# execute the grid search\n",
    "grid_result = grid_search.fit(X, y)\n",
    "# summarize the best score and configuration\n",
    "print(\"Best: %f using %s\" % (grid_result.best_score_, grid_result.best_params_))\n",
    "# summarize all scores that were evaluated\n",
    "means = grid_result.cv_results_['mean_test_score']\n",
    "stds = grid_result.cv_results_['std_test_score']\n",
    "params = grid_result.cv_results_['params']\n",
    "#for mean, stdev, param in zip(means, stds, params):\n",
    "#    print(\"%f (%f) with: %r\" % (mean, stdev, param)"
   ]
  },
  {
   "cell_type": "code",
   "execution_count": 27,
   "id": "87855f55",
   "metadata": {},
   "outputs": [
    {
     "name": "stdout",
     "output_type": "stream",
     "text": [
      "Fitting 5 folds for each of 100 candidates, totalling 500 fits\n",
      "Best: 0.780943 using {'base_estimator': DecisionTreeClassifier(max_depth=2), 'learning_rate': 0.1, 'n_estimators': 600}\n"
     ]
    }
   ],
   "source": [
    "model = AdaBoostClassifier(random_state=1)\n",
    "grid = dict()\n",
    "grid['n_estimators'] = list(range(400,601,50))\n",
    "grid['learning_rate'] = [0.08, 0.09, 0.1, 0.11, 0.12]\n",
    "grid['base_estimator'] = [DecisionTreeClassifier(max_depth=1), DecisionTreeClassifier(max_depth=2), \n",
    "                          DecisionTreeClassifier(max_depth=3),DecisionTreeClassifier(max_depth=4)]\n",
    "\n",
    "# define the evaluation procedure\n",
    "cv = StratifiedKFold(n_splits=5, shuffle=True, random_state=1)\n",
    "# define the grid search procedure\n",
    "grid_search = GridSearchCV(estimator=model, param_grid=grid, n_jobs=-1, cv=cv, \n",
    "                          verbose = True)\n",
    "# execute the grid search\n",
    "grid_result = grid_search.fit(X, y)\n",
    "# summarize the best score and configuration\n",
    "print(\"Best: %f using %s\" % (grid_result.best_score_, grid_result.best_params_))\n",
    "# summarize all scores that were evaluated\n",
    "means = grid_result.cv_results_['mean_test_score']\n",
    "stds = grid_result.cv_results_['std_test_score']\n",
    "params = grid_result.cv_results_['params']\n",
    "#for mean, stdev, param in zip(means, stds, params):\n",
    "#    print(\"%f (%f) with: %r\" % (mean, stdev, param)"
   ]
  },
  {
   "cell_type": "code",
   "execution_count": 29,
   "id": "485fd7eb",
   "metadata": {},
   "outputs": [
    {
     "name": "stdout",
     "output_type": "stream",
     "text": [
      "Fitting 5 folds for each of 100 candidates, totalling 500 fits\n",
      "Best: 0.781144 using {'base_estimator': DecisionTreeClassifier(max_depth=2), 'learning_rate': 0.08, 'n_estimators': 900}\n"
     ]
    }
   ],
   "source": [
    "model = AdaBoostClassifier(random_state=1)\n",
    "grid = dict()\n",
    "grid['n_estimators'] = list(range(800,1001,50))\n",
    "grid['learning_rate'] = [0.08, 0.09, 0.1, 0.11, 0.12]\n",
    "grid['base_estimator'] = [DecisionTreeClassifier(max_depth=1), DecisionTreeClassifier(max_depth=2), \n",
    "                          DecisionTreeClassifier(max_depth=3),DecisionTreeClassifier(max_depth=4)]\n",
    "\n",
    "# define the evaluation procedure\n",
    "cv = StratifiedKFold(n_splits=5, shuffle=True, random_state=1)\n",
    "# define the grid search procedure\n",
    "grid_search = GridSearchCV(estimator=model, param_grid=grid, n_jobs=-1, cv=cv, \n",
    "                          verbose = True)\n",
    "# execute the grid search\n",
    "grid_result = grid_search.fit(X, y)\n",
    "# summarize the best score and configuration\n",
    "print(\"Best: %f using %s\" % (grid_result.best_score_, grid_result.best_params_))\n",
    "# summarize all scores that were evaluated\n",
    "means = grid_result.cv_results_['mean_test_score']\n",
    "stds = grid_result.cv_results_['std_test_score']\n",
    "params = grid_result.cv_results_['params']\n",
    "#for mean, stdev, param in zip(means, stds, params):\n",
    "#    print(\"%f (%f) with: %r\" % (mean, stdev, param)"
   ]
  },
  {
   "cell_type": "code",
   "execution_count": 37,
   "id": "206f5734",
   "metadata": {},
   "outputs": [
    {
     "data": {
      "text/plain": [
       "(10002,)"
      ]
     },
     "execution_count": 37,
     "metadata": {},
     "output_type": "execute_result"
    }
   ],
   "source": [
    "y_1d = np.ravel(y)\n"
   ]
  },
  {
   "cell_type": "code",
   "execution_count": 49,
   "id": "01179afb",
   "metadata": {},
   "outputs": [
    {
     "data": {
      "image/png": "[encoded data removed]",
      "text/plain": [
       "<Figure size 576x576 with 1 Axes>"
      ]
     },
     "metadata": {
      "needs_background": "light"
     },
     "output_type": "display_data"
    }
   ],
   "source": [
    "#Model based on the optimal parameters\n",
    "model = AdaBoostClassifier(random_state=1,base_estimator = DecisionTreeClassifier(max_depth=2),learning_rate=0.08,\n",
    "                          n_estimators=900).fit(X,y_1d)\n",
    "\n",
    "# Note that we are using the cross-validated predicted probabilities, instead of directly using the \n",
    "# predicted probabilities on train data, as the model may be overfitting on the train data, and \n",
    "# may lead to misleading results\n",
    "cross_val_ypred = cross_val_predict(AdaBoostClassifier(random_state=1,base_estimator = DecisionTreeClassifier(max_depth=2),learning_rate=0.08,\n",
    "                          n_estimators=900), X, y_1d, cv = 5, method = 'predict_proba')\n",
    "\n",
    "p, r, thresholds = precision_recall_curve(y, cross_val_ypred[:,1])\n",
    "acc = np.ndarray(shape = (len(thresholds),))\n",
    "i = 0\n",
    "for th in thresholds:\n",
    "    y_pred = cross_val_ypred[:,1] > th\n",
    "    y_pred = y_pred.astype(int)\n",
    "    acc[i] = accuracy_score(y_pred, y)\n",
    "    i = i + 1\n",
    "def plot_precision_recall_vs_threshold(precisions, recalls, thresholds):\n",
    "    plt.figure(figsize=(8, 8))\n",
    "    plt.title(\"Precision, Recall, Accuracy Scores as a function of the decision threshold\")\n",
    "    plt.plot(thresholds, precisions[:-1], \"b--\", label=\"Precision\")\n",
    "    plt.plot(thresholds, recalls[:-1], \"g-\", label=\"Recall\")\n",
    "    plt.plot(thresholds, acc, \"r-\", label=\"Accuracy\")\n",
    "    plt.plot(thresholds, precisions[:-1], \"o\", color = 'blue')\n",
    "    plt.plot(thresholds, recalls[:-1], \"o\", color = 'green')\n",
    "    plt.plot(thresholds, acc, \"o\", color = 'red')\n",
    "    plt.ylabel(\"Score\")\n",
    "    plt.xlabel(\"Decision Threshold\")\n",
    "    plt.legend(loc='best')\n",
    "    plt.legend()\n",
    "plot_precision_recall_vs_threshold(p, r, thresholds)"
   ]
  },
  {
   "cell_type": "code",
   "execution_count": 51,
   "id": "c873364f",
   "metadata": {},
   "outputs": [
    {
     "name": "stdout",
     "output_type": "stream",
     "text": [
      "5058\n"
     ]
    }
   ],
   "source": [
    "index = np.argmax(acc)\n",
    "print(index)"
   ]
  },
  {
   "cell_type": "code",
   "execution_count": 61,
   "id": "38139641",
   "metadata": {},
   "outputs": [
    {
     "name": "stdout",
     "output_type": "stream",
     "text": [
      "threshold: 0.5002138658802937\n",
      "Train accuracy: 78.14437112577485\n",
      "Train recall: 72.84345047923323\n",
      "Train precision: 81.5195530726257\n"
     ]
    }
   ],
   "source": [
    "thres = thresholds[index]\n",
    "print(f\"threshold: {thresholds[index]}\")\n",
    "print(f\"Train accuracy: {acc[index] * 100}\")\n",
    "print(f\"Train recall: {r[index] * 100}\")\n",
    "print(f\"Train precision: {p[index] * 100}\")"
   ]
  },
  {
   "cell_type": "code",
   "execution_count": 57,
   "id": "7143da5f",
   "metadata": {},
   "outputs": [
    {
     "name": "stdout",
     "output_type": "stream",
     "text": [
      "Accuracy:  77.40656851642129\n",
      "ROC-AUC:  0.8617810784464625\n",
      "Precision:  0.807741935483871\n",
      "Recall:  0.7146118721461188\n"
     ]
    },
    {
     "data": {
      "image/png": "[encoded data removed]",
      "text/plain": [
       "<Figure size 432x288 with 2 Axes>"
      ]
     },
     "metadata": {
      "needs_background": "light"
     },
     "output_type": "display_data"
    }
   ],
   "source": [
    "# Performance metrics computation for the optimum decision threshold probability\n",
    "desired_threshold = thres\n",
    "\n",
    "y_pred_prob = model.predict_proba(X_test)[:,1] \n",
    "\n",
    "# Classifying observations in the positive class (y = 1) if the predicted probability is greater\n",
    "# than the desired decision threshold probability\n",
    "y_pred = y_pred_prob > desired_threshold\n",
    "y_pred = y_pred.astype(int)\n",
    "\n",
    "#Computing the accuracy\n",
    "print(\"Accuracy: \",accuracy_score(y_pred, y_test)*100)  \n",
    "\n",
    "#Computing the ROC-AUC\n",
    "fpr, tpr, auc_thresholds = roc_curve(y_test, y_pred_prob)\n",
    "print(\"ROC-AUC: \",auc(fpr, tpr))# AUC of ROC\n",
    "\n",
    "#Computing the precision and recall\n",
    "print(\"Precision: \", precision_score(y_test, y_pred))\n",
    "print(\"Recall: \", recall_score(y_test, y_pred))\n",
    "\n",
    "#Confusion matrix\n",
    "cm = pd.DataFrame(confusion_matrix(y_test, y_pred), \n",
    "                  columns=['Predicted 0', 'Predicted 1'], index = ['Actual 0', 'Actual 1'])\n",
    "sns.heatmap(cm, annot=True, cmap='Blues', fmt='g');"
   ]
  }
 ],
 "metadata": {
  "kernelspec": {
   "display_name": "Python 3 (ipykernel)",
   "language": "python",
   "name": "python3"
  },
  "language_info": {
   "codemirror_mode": {
    "name": "ipython",
    "version": 3
   },
   "file_extension": ".py",
   "mimetype": "text/x-python",
   "name": "python",
   "nbconvert_exporter": "python",
   "pygments_lexer": "ipython3",
   "version": "3.9.12"
  }
 },
 "nbformat": 4,
 "nbformat_minor": 5
}
