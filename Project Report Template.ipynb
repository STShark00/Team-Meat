{
 "cells": [
  {
   "cell_type": "raw",
   "id": "33dd6c4c",
   "metadata": {},
   "source": [
    "---\n",
    "title: \"Project Report\"\n",
    "subtitle: Team name\n",
    "author: Author 1, Author 2, Author 3, and Author 4 \n",
    "date: 05/23/2023\n",
    "number-sections: true\n",
    "abstract: _The ABSTRACT is to be in fully-justified italicized text at the top of the report, below the author information. The abstract section must summarise the problem statement, the developed model(s), the metric(s) optimized and the recommendations to the stakeholders based on the model (if any). You may also briefly mention any major EDA-based insights that helped develop the model or directly translated into recommendations to the stakeholders. However, the abstract must not be more than 200 words in length_.\n",
    "format: \n",
    "  html:\n",
    "    toc: true\n",
    "    toc-title: Contents\n",
    "    self-contained: true\n",
    "    font-size: 100%\n",
    "    toc-depth: 4\n",
    "    mainfont: serif\n",
    "jupyter: python3\n",
    "---"
   ]
  },
  {
   "attachments": {},
   "cell_type": "markdown",
   "id": "0116f49b",
   "metadata": {},
   "source": [
    "## Background / Motivation"
   ]
  },
  {
   "attachments": {},
   "cell_type": "markdown",
   "id": "88cc63fd",
   "metadata": {},
   "source": [
    "According to a 2019 articel by Forbes, 80% of movies lose money. We were interested in predicting movie profitbility to increase security in production companies, and for directors concerned with money (which we understand is not all of them). "
   ]
  },
  {
   "attachments": {},
   "cell_type": "markdown",
   "id": "84ff1421",
   "metadata": {
    "tags": []
   },
   "source": [
    "## Problem statement "
   ]
  },
  {
   "attachments": {},
   "cell_type": "markdown",
   "id": "2b4d5370",
   "metadata": {},
   "source": [
    "We aim to predict profitable movies so that production companies can pick them up and make money. We also aim to shed light on the important qualities of movies that make some sell better that others, so that movie makers concerned with making money can create profitable movies. "
   ]
  },
  {
   "attachments": {},
   "cell_type": "markdown",
   "id": "38c7b95f",
   "metadata": {
    "tags": []
   },
   "source": [
    "## Data sources"
   ]
  },
  {
   "attachments": {},
   "cell_type": "markdown",
   "id": "ea31db9c",
   "metadata": {},
   "source": [
    "We used The Movies Dataset on Kaggle. This dataset includes 45,466 different movies released before July 2017. The dataset has 29 columns. "
   ]
  },
  {
   "attachments": {},
   "cell_type": "markdown",
   "id": "68e91679",
   "metadata": {},
   "source": [
    "https://www.kaggle.com/datasets/rounakbanik/the-movies-dataset?resource=download&select=movies_metadata.csv"
   ]
  },
  {
   "attachments": {},
   "cell_type": "markdown",
   "id": "8c255035",
   "metadata": {},
   "source": [
    "## Stakeholders"
   ]
  },
  {
   "attachments": {},
   "cell_type": "markdown",
   "id": "277a4a75",
   "metadata": {},
   "source": [
    "Our stakeholders are movie makers and production companies concerned with making profitable movies. If we are successful, they will make more money and be able to invest in more movies."
   ]
  },
  {
   "attachments": {},
   "cell_type": "markdown",
   "id": "fe7ea9bb",
   "metadata": {},
   "source": [
    "## Data quality check / cleaning / preparation "
   ]
  },
  {
   "attachments": {},
   "cell_type": "markdown",
   "id": "2d8f1811",
   "metadata": {},
   "source": [
    "This dataset was pretty messy right off the bat. It would be unnecessary to show the information from the raw dataset. In the data quality check, we noticed many movies had zero budget and zero revenue. This is likely due to indie or privately funded movies that have no record of budget. Because of this, we decided to create our own binary column: 'profitable' based on if the movie made any money or not. There were also many highly specific categorical variables. We transforomed those into binary columns. For example, homepage had links to websites but we transformed that into a binary variable if the movie had a homepage or not. We also created the release_month column from the release_date column. \n",
    "\n",
    "Once we cleaned the dataset, we were left with 15 columns. 6 numeric and 9 categorical."
   ]
  },
  {
   "cell_type": "code",
   "execution_count": null,
   "id": "ac7a0e7e",
   "metadata": {
    "scrolled": true
   },
   "outputs": [
    {
     "name": "stdout",
     "output_type": "stream",
     "text": [
      "adult:\n",
      "Missing     0\n",
      "False    25292\n",
      "True         1\n",
      "Name: adult, dtype: int64\n",
      " \n",
      "Genre:\n",
      "Missing        758\n",
      "Drama          7337\n",
      "Comedy         5064\n",
      "Action         2854\n",
      "Documentary    1717\n",
      "Horror         1452\n",
      "Name: genres, dtype: int64\n",
      " \n",
      "Original Language:\n",
      "Missing    3\n",
      "en    19404\n",
      "fr     1340\n",
      "ja      768\n",
      "de      516\n",
      "it      442\n",
      "Name: original_language, dtype: int64\n",
      " \n",
      "Production Country:\n",
      "Missing    2437\n",
      "US    12170\n",
      "GB     1926\n",
      "FR     1624\n",
      "JP      865\n",
      "DE      839\n",
      "Name: production_countries, dtype: int64\n",
      " \n",
      "spoken languages:\n",
      "Missing    1456\n",
      "en    17061\n",
      "fr     1365\n",
      "ja      763\n",
      "de      653\n",
      "es      554\n",
      "Name: spoken_languages, dtype: int64\n",
      " \n",
      "status:\n",
      "Missing    35\n",
      "Released           25122\n",
      "Rumored              118\n",
      "Post Production       13\n",
      "In Production          3\n",
      "Planned                2\n",
      "Name: status, dtype: int64\n",
      " \n",
      "release date:\n",
      "Missing    29\n",
      "2008-01-01    76\n",
      "2007-01-01    74\n",
      "2009-01-01    72\n",
      "2006-01-01    58\n",
      "2002-01-01    57\n",
      "Name: release_date, dtype: int64\n",
      " \n",
      "release month:\n",
      "Missing    0\n",
      "1     3006\n",
      "9     3000\n",
      "10    2535\n",
      "12    2207\n",
      "5     2017\n",
      "Name: release_month, dtype: int64\n",
      " \n",
      "video:\n",
      "Missing    0\n",
      "0    25272\n",
      "1       20\n",
      "Name: video, dtype: int64\n"
     ]
    },
    {
     "data": {
      "text/html": [
       "<div>\n",
       "<style scoped>\n",
       "    .dataframe tbody tr th:only-of-type {\n",
       "        vertical-align: middle;\n",
       "    }\n",
       "\n",
       "    .dataframe tbody tr th {\n",
       "        vertical-align: top;\n",
       "    }\n",
       "\n",
       "    .dataframe thead th {\n",
       "        text-align: right;\n",
       "    }\n",
       "</style>\n",
       "<table border=\"1\" class=\"dataframe\">\n",
       "  <thead>\n",
       "    <tr style=\"text-align: right;\">\n",
       "      <th></th>\n",
       "      <th>belongs_to_collection</th>\n",
       "      <th>budget</th>\n",
       "      <th>homepage</th>\n",
       "      <th>runtime</th>\n",
       "      <th>tagline</th>\n",
       "      <th>release_month</th>\n",
       "      <th>profitable</th>\n",
       "    </tr>\n",
       "  </thead>\n",
       "  <tbody>\n",
       "    <tr>\n",
       "      <th>count</th>\n",
       "      <td>25293.000000</td>\n",
       "      <td>2.529300e+04</td>\n",
       "      <td>25293.000000</td>\n",
       "      <td>25246.000000</td>\n",
       "      <td>25293.000000</td>\n",
       "      <td>25293.000000</td>\n",
       "      <td>25292.000000</td>\n",
       "    </tr>\n",
       "    <tr>\n",
       "      <th>mean</th>\n",
       "      <td>0.115091</td>\n",
       "      <td>6.441189e+06</td>\n",
       "      <td>0.166331</td>\n",
       "      <td>99.144102</td>\n",
       "      <td>0.554580</td>\n",
       "      <td>6.565255</td>\n",
       "      <td>0.191365</td>\n",
       "    </tr>\n",
       "    <tr>\n",
       "      <th>std</th>\n",
       "      <td>0.319138</td>\n",
       "      <td>2.081651e+07</td>\n",
       "      <td>0.372385</td>\n",
       "      <td>32.976143</td>\n",
       "      <td>0.497022</td>\n",
       "      <td>3.586406</td>\n",
       "      <td>0.393383</td>\n",
       "    </tr>\n",
       "    <tr>\n",
       "      <th>min</th>\n",
       "      <td>0.000000</td>\n",
       "      <td>0.000000e+00</td>\n",
       "      <td>0.000000</td>\n",
       "      <td>0.000000</td>\n",
       "      <td>0.000000</td>\n",
       "      <td>1.000000</td>\n",
       "      <td>0.000000</td>\n",
       "    </tr>\n",
       "    <tr>\n",
       "      <th>25%</th>\n",
       "      <td>0.000000</td>\n",
       "      <td>0.000000e+00</td>\n",
       "      <td>0.000000</td>\n",
       "      <td>88.000000</td>\n",
       "      <td>0.000000</td>\n",
       "      <td>3.000000</td>\n",
       "      <td>0.000000</td>\n",
       "    </tr>\n",
       "    <tr>\n",
       "      <th>50%</th>\n",
       "      <td>0.000000</td>\n",
       "      <td>0.000000e+00</td>\n",
       "      <td>0.000000</td>\n",
       "      <td>97.000000</td>\n",
       "      <td>1.000000</td>\n",
       "      <td>7.000000</td>\n",
       "      <td>0.000000</td>\n",
       "    </tr>\n",
       "    <tr>\n",
       "      <th>75%</th>\n",
       "      <td>0.000000</td>\n",
       "      <td>2.500000e+05</td>\n",
       "      <td>0.000000</td>\n",
       "      <td>110.000000</td>\n",
       "      <td>1.000000</td>\n",
       "      <td>10.000000</td>\n",
       "      <td>0.000000</td>\n",
       "    </tr>\n",
       "    <tr>\n",
       "      <th>max</th>\n",
       "      <td>1.000000</td>\n",
       "      <td>3.800000e+08</td>\n",
       "      <td>1.000000</td>\n",
       "      <td>1256.000000</td>\n",
       "      <td>1.000000</td>\n",
       "      <td>12.000000</td>\n",
       "      <td>1.000000</td>\n",
       "    </tr>\n",
       "  </tbody>\n",
       "</table>\n",
       "</div>"
      ],
      "text/plain": [
       "       belongs_to_collection        budget      homepage       runtime  \\\n",
       "count           25293.000000  2.529300e+04  25293.000000  25246.000000   \n",
       "mean                0.115091  6.441189e+06      0.166331     99.144102   \n",
       "std                 0.319138  2.081651e+07      0.372385     32.976143   \n",
       "min                 0.000000  0.000000e+00      0.000000      0.000000   \n",
       "25%                 0.000000  0.000000e+00      0.000000     88.000000   \n",
       "50%                 0.000000  0.000000e+00      0.000000     97.000000   \n",
       "75%                 0.000000  2.500000e+05      0.000000    110.000000   \n",
       "max                 1.000000  3.800000e+08      1.000000   1256.000000   \n",
       "\n",
       "            tagline  release_month    profitable  \n",
       "count  25293.000000   25293.000000  25292.000000  \n",
       "mean       0.554580       6.565255      0.191365  \n",
       "std        0.497022       3.586406      0.393383  \n",
       "min        0.000000       1.000000      0.000000  \n",
       "25%        0.000000       3.000000      0.000000  \n",
       "50%        1.000000       7.000000      0.000000  \n",
       "75%        1.000000      10.000000      0.000000  \n",
       "max        1.000000      12.000000      1.000000  "
      ]
     },
     "execution_count": 10,
     "metadata": {},
     "output_type": "execute_result"
    }
   ],
   "source": [
    "#| echo: false\n",
    "print('adult:')\n",
    "print('Missing    ', data.adult.isna().sum())\n",
    "print(data.adult.value_counts())\n",
    "print(' ')\n",
    "print('Genre:')\n",
    "print('Missing       ', data.genres.isna().sum())\n",
    "print(data.genres.value_counts()[:5])\n",
    "print(' ')\n",
    "print('Original Language:')\n",
    "print('Missing   ', data.original_language.isna().sum())\n",
    "print(data.original_language.value_counts()[:5])\n",
    "print(' ')\n",
    "print('Production Country:')\n",
    "print('Missing   ', data.production_countries.isna().sum())\n",
    "print(data.production_countries.value_counts()[:5])\n",
    "print(' ')\n",
    "print('spoken languages:')\n",
    "print('Missing   ', data.spoken_languages.isna().sum())\n",
    "print(data.spoken_languages.value_counts()[:5])\n",
    "print(' ')\n",
    "print('status:')\n",
    "print('Missing   ', data.status.isna().sum())\n",
    "print(data.status.value_counts()[:5])\n",
    "print(' ')\n",
    "print('release date:')\n",
    "print('Missing   ', data.release_date.isna().sum())\n",
    "print(data.release_date.value_counts()[:5])\n",
    "print(' ')\n",
    "print('release month:')\n",
    "print('Missing   ', data.release_month.isna().sum())\n",
    "print(data.release_month.value_counts()[:5])\n",
    "print(' ')\n",
    "print('video:')\n",
    "print('Missing   ', data.video.isna().sum())\n",
    "print(data.video.value_counts()[:2])\n",
    "data.describe()"
   ]
  },
  {
   "cell_type": "code",
   "execution_count": null,
   "id": "5d5aa8ba",
   "metadata": {},
   "outputs": [
    {
     "data": {
      "text/plain": [
       "<AxesSubplot:xlabel='profitable', ylabel='count'>"
      ]
     },
     "execution_count": 24,
     "metadata": {},
     "output_type": "execute_result"
    },
    {
     "data": {
      "image/png": "[encoded data removed]",
      "text/plain": [
       "<Figure size 640x480 with 1 Axes>"
      ]
     },
     "metadata": {},
     "output_type": "display_data"
    }
   ],
   "source": [
    "#| echo: false\n",
    "sns.countplot(x=data[\"profitable\"])"
   ]
  },
  {
   "attachments": {},
   "cell_type": "markdown",
   "id": "9cc127f8",
   "metadata": {},
   "source": [
    "For all the missing values in the numerical variables, we imputed them with KNN. For missing values in the catgeorical variables, we imputed them with the previous non-missing row."
   ]
  },
  {
   "attachments": {},
   "cell_type": "markdown",
   "id": "fbb11c9b",
   "metadata": {},
   "source": [
    "## Exploratory data analysis"
   ]
  },
  {
   "attachments": {},
   "cell_type": "markdown",
   "id": "a5cfb633",
   "metadata": {},
   "source": [
    "As seen above in the distribution of the response variable, we had very unbalanced data. Becuase of this, we decided to undersample from the original dataset when we trained our models. This way our sample data would have 50% profitable and 50% unprofitable movies. \n",
    "\n",
    "Since this data was largely categorical, we did not eliminate outliers. "
   ]
  },
  {
   "attachments": {},
   "cell_type": "markdown",
   "id": "d39c782c",
   "metadata": {
    "tags": []
   },
   "source": [
    "## Approach"
   ]
  },
  {
   "attachments": {},
   "cell_type": "markdown",
   "id": "1d86571b",
   "metadata": {},
   "source": [
    "We used three boosting models (adaboost, gradient boosting, XGBoost) and random forest. We optimized accuracy and recall. Accuracy, so we could see how well our model was performing. Anything over 50% would be a success. Recall because production companies, by nature, are willing to assume a pretty high level of risk, and a single very profitble movie could keep a production company afloat financially. We figured a production company would be more averse to missing out on a profitable movie compared to losing a little bit of money on an unprofitable one. \n",
    "\n",
    "We neither anticipated nor ran into any major problems in the modelling process. There were no solutions to our particular predictive problem (where we used no columns that are recorded after a movie is released) posted on Kaggle. "
   ]
  },
  {
   "attachments": {},
   "cell_type": "markdown",
   "id": "acab331a",
   "metadata": {},
   "source": [
    "## Developing the model: Hyperparameter tuning"
   ]
  },
  {
   "attachments": {},
   "cell_type": "markdown",
   "id": "ae5ec4c9",
   "metadata": {},
   "source": [
    "Every person must describe their hyperparameter tuning procedure. Show the grid of hyperparameter values over which the initial search was done *(you may paste your grid search / random search / any other search code)*, and the optimal hyperparameter values obtained. After getting the initial search results, how did you make decisions *(if any)* to further fine-tune your model. Did you do another grid / random search or did you tune hyperparameters sequentially? If you think you didn't need any fine tuning after the initial results, then mention that and explain why.\n",
    "\n",
    "Put each model in a section of its name and mention the name of the team-member tuning the model. Below is an example:"
   ]
  },
  {
   "attachments": {},
   "cell_type": "markdown",
   "id": "ea422beb",
   "metadata": {
    "tags": []
   },
   "source": [
    "### Random Forest\n",
    "*By Lena Choe*"
   ]
  },
  {
   "attachments": {},
   "cell_type": "markdown",
   "id": "fecbf57d",
   "metadata": {},
   "source": [
    "I first tuned the hyperparameters over the grid shown below."
   ]
  },
  {
   "cell_type": "code",
   "execution_count": null,
   "id": "0f671ffa",
   "metadata": {},
   "outputs": [
    {
     "name": "stdout",
     "output_type": "stream",
     "text": [
      "time taken =  51.60229480266571  minutes\n",
      "max accuracy =  0.7809438112377525\n",
      "params=  (1500, 3, 8, 58)\n"
     ]
    }
   ],
   "source": [
    "start_time = time.time()\n",
    "\n",
    "params = {'n_estimators': [1000, 1500],\n",
    "          'max_features': range(1,9),\n",
    "          'max_depth': range(8, 20, 4),\n",
    "          'max_leaf_nodes': range(30, 60, 4)\n",
    "         }\n",
    "\n",
    "param_list=list(it.product(*(params[Name] for Name in list(params.keys()))))\n",
    "oob_accuracy = [0]*len(param_list)\n",
    "\n",
    "i=0\n",
    "for pr in param_list:\n",
    "    model = RandomForestClassifier(random_state=1,\n",
    "                                   oob_score=True,\n",
    "                                   verbose=False,\n",
    "                                   n_estimators = pr[0],\n",
    "                                   max_features=pr[1], \n",
    "                                   max_depth=pr[2], \n",
    "                                   max_leaf_nodes=pr[3], \n",
    "                                   n_jobs=-1).fit(X_train,y_train)\n",
    "    oob_accuracy[i] = model.oob_score_\n",
    "    i=i+1\n",
    "    \n",
    "end_time = time.time()\n",
    "print(\"time taken = \", (end_time-start_time)/60, \" minutes\")\n",
    "print(\"max accuracy = \", np.max(oob_accuracy))\n",
    "print(\"params= \", param_list[np.argmax(oob_recall)])"
   ]
  },
  {
   "attachments": {},
   "cell_type": "markdown",
   "id": "4eb57eb7",
   "metadata": {},
   "source": [
    "I did not think tuning it further would be necessary because it had an adequate accuracy, so I moved onto tuning the decision threshold."
   ]
  },
  {
   "cell_type": "code",
   "execution_count": null,
   "id": "0afbcd20-3e41-44c9-8549-7efb0145dca6",
   "metadata": {},
   "outputs": [],
   "source": [
    "model_rf = RandomForestClassifier(random_state=1,\n",
    "                                   oob_score=True,\n",
    "                                   verbose=False,\n",
    "                                   n_estimators = 1500,\n",
    "                                   max_features=3, \n",
    "                                   max_depth=8, \n",
    "                                   max_leaf_nodes=58, \n",
    "                                   n_jobs=-1).fit(X_train,y_train.values.ravel())"
   ]
  },
  {
   "cell_type": "code",
   "execution_count": null,
   "id": "ce02ae9c",
   "metadata": {},
   "outputs": [
    {
     "data": {
      "image/png": "[encoded data removed]",
      "text/plain": [
       "<Figure size 800x800 with 1 Axes>"
      ]
     },
     "metadata": {},
     "output_type": "display_data"
    }
   ],
   "source": [
    "y_pred_prob = model.oob_decision_function_[:,1]\n",
    "p, r, thresholds = precision_recall_curve(y_train, y_pred_prob)\n",
    "acc = np.ndarray(shape = (len(thresholds),))\n",
    "i = 0\n",
    "for th in thresholds:\n",
    "    y_pred = y_pred_prob > th\n",
    "    y_pred = y_pred.astype(int)\n",
    "    acc[i] = accuracy_score(y_pred, y_train)\n",
    "    i = i + 1\n",
    "def plot_precision_recall_vs_threshold(precisions, recalls, thresholds):\n",
    "    plt.figure(figsize=(8, 8))\n",
    "    plt.title(\"Precision and Recall Scores as a function of the decision threshold\")\n",
    "    plt.plot(thresholds, precisions[:-1], \"b--\", label=\"Precision\")\n",
    "    plt.plot(thresholds, recalls[:-1], \"g-\", label=\"Recall\")\n",
    "    plt.plot(thresholds, acc, \"r-\", label=\"Accuracy\")\n",
    "    plt.plot(thresholds, precisions[:-1], \"o\", color = 'blue')\n",
    "    plt.plot(thresholds, recalls[:-1], \"o\", color = 'green')\n",
    "    plt.plot(thresholds, acc, \"o\", color = 'red')\n",
    "    plt.ylabel(\"Score\")\n",
    "    plt.xlabel(\"Decision Threshold\")\n",
    "    plt.legend(loc='best')\n",
    "    plt.legend()\n",
    "plot_precision_recall_vs_threshold(p, r, thresholds)"
   ]
  },
  {
   "cell_type": "code",
   "execution_count": null,
   "id": "5eb74cac",
   "metadata": {},
   "outputs": [
    {
     "data": {
      "text/plain": [
       "array([0.65664355, 0.75794841, 0.60003994])"
      ]
     },
     "metadata": {},
     "output_type": "display_data"
    }
   ],
   "source": [
    "# Thresholds with precision and recall\n",
    "all_thresholds = np.concatenate([thresholds.reshape(-1,1), acc.reshape(-1,1), r[:-1].reshape(-1,1)], axis = 1)\n",
    "recall_more_than_60 = all_thresholds[all_thresholds[:,2]>0.6,:]\n",
    "# As the values in 'recall_more_than_80' are arranged in decreasing order of recall and increasing threshold,\n",
    "# the last value will provide the maximum threshold probabiltiy for the recall to be more than 80%\n",
    "# We wish to find the maximum threshold probability to obtain the maximum possible precision\n",
    "recall_more_than_60[recall_more_than_60.shape[0]-1]"
   ]
  },
  {
   "attachments": {},
   "cell_type": "markdown",
   "id": "d642a598",
   "metadata": {},
   "source": [
    "The desired threshold was 0.65664355 and I used it to get the stats on test data."
   ]
  },
  {
   "cell_type": "code",
   "execution_count": null,
   "id": "8a1b8594",
   "metadata": {},
   "outputs": [
    {
     "name": "stdout",
     "output_type": "stream",
     "text": [
      "Accuracy:  76.16081540203851\n",
      "ROC-AUC:  0.8614552870555641\n",
      "Precision:  0.8942807625649913\n",
      "Recall:  0.589041095890411\n"
     ]
    },
    {
     "data": {
      "image/png": "[encoded data removed]",
      "text/plain": [
       "<Figure size 640x480 with 2 Axes>"
      ]
     },
     "metadata": {},
     "output_type": "display_data"
    }
   ],
   "source": [
    "# test\n",
    "\n",
    "desired_threshold = 0.65664355\n",
    "\n",
    "y_pred_prob = model.predict_proba(X_test)[:,1] \n",
    "\n",
    "# Classifying observations in the positive class (y = 1) if the predicted probability is greater\n",
    "# than the desired decision threshold probability\n",
    "y_pred = y_pred_prob > desired_threshold\n",
    "y_pred = y_pred.astype(int)\n",
    "\n",
    "#Computing the accuracy\n",
    "print(\"Accuracy: \",accuracy_score(y_pred, y_test)*100)  \n",
    "\n",
    "#Computing the ROC-AUC\n",
    "fpr, tpr, auc_thresholds = roc_curve(y_test, y_pred_prob)\n",
    "print(\"ROC-AUC: \",auc(fpr, tpr))# AUC of ROC\n",
    "\n",
    "#Computing the precision and recall\n",
    "print(\"Precision: \", precision_score(y_test, y_pred))\n",
    "print(\"Recall: \", recall_score(y_test, y_pred))\n",
    "\n",
    "#Confusion matrix\n",
    "cm = pd.DataFrame(confusion_matrix(y_test, y_pred), \n",
    "                  columns=['Predicted 0', 'Predicted 1'], index = ['Actual 0', 'Actual 1'])\n",
    "sns.heatmap(cm, annot=True, cmap='Blues', fmt='g');"
   ]
  },
  {
   "attachments": {},
   "cell_type": "markdown",
   "id": "ff6897e4",
   "metadata": {},
   "source": [
    "This model performed with 76.16% accuracy and 58.90% recall on the test data, which was not the best performance out of our models, but acceptable because we recognized that there would be better models with better performance for our data, as shown in the rest of the report."
   ]
  },
  {
   "cell_type": "code",
   "execution_count": null,
   "id": "01e2186c-6e93-4885-908e-7d345054da3f",
   "metadata": {},
   "outputs": [
    {
     "data": {
      "text/html": [
       "<div>\n",
       "<style scoped>\n",
       "    .dataframe tbody tr th:only-of-type {\n",
       "        vertical-align: middle;\n",
       "    }\n",
       "\n",
       "    .dataframe tbody tr th {\n",
       "        vertical-align: top;\n",
       "    }\n",
       "\n",
       "    .dataframe thead th {\n",
       "        text-align: right;\n",
       "    }\n",
       "</style>\n",
       "<table border=\"1\" class=\"dataframe\">\n",
       "  <thead>\n",
       "    <tr style=\"text-align: right;\">\n",
       "      <th></th>\n",
       "      <th>Feature</th>\n",
       "      <th>importance</th>\n",
       "    </tr>\n",
       "  </thead>\n",
       "  <tbody>\n",
       "    <tr>\n",
       "      <th>1</th>\n",
       "      <td>budget</td>\n",
       "      <td>0.472273</td>\n",
       "    </tr>\n",
       "    <tr>\n",
       "      <th>4</th>\n",
       "      <td>tagline</td>\n",
       "      <td>0.200072</td>\n",
       "    </tr>\n",
       "    <tr>\n",
       "      <th>3</th>\n",
       "      <td>runtime</td>\n",
       "      <td>0.144662</td>\n",
       "    </tr>\n",
       "    <tr>\n",
       "      <th>0</th>\n",
       "      <td>belongs_to_collection</td>\n",
       "      <td>0.051776</td>\n",
       "    </tr>\n",
       "    <tr>\n",
       "      <th>2</th>\n",
       "      <td>homepage</td>\n",
       "      <td>0.039504</td>\n",
       "    </tr>\n",
       "    <tr>\n",
       "      <th>12</th>\n",
       "      <td>production_countries_US</td>\n",
       "      <td>0.026053</td>\n",
       "    </tr>\n",
       "    <tr>\n",
       "      <th>13</th>\n",
       "      <td>spoken_languages_en</td>\n",
       "      <td>0.019441</td>\n",
       "    </tr>\n",
       "    <tr>\n",
       "      <th>5</th>\n",
       "      <td>release_month</td>\n",
       "      <td>0.017205</td>\n",
       "    </tr>\n",
       "    <tr>\n",
       "      <th>8</th>\n",
       "      <td>genres_Documentary</td>\n",
       "      <td>0.008131</td>\n",
       "    </tr>\n",
       "    <tr>\n",
       "      <th>11</th>\n",
       "      <td>production_countries_IN</td>\n",
       "      <td>0.005834</td>\n",
       "    </tr>\n",
       "    <tr>\n",
       "      <th>10</th>\n",
       "      <td>genres_Horror</td>\n",
       "      <td>0.004879</td>\n",
       "    </tr>\n",
       "    <tr>\n",
       "      <th>6</th>\n",
       "      <td>genres_Action</td>\n",
       "      <td>0.003924</td>\n",
       "    </tr>\n",
       "    <tr>\n",
       "      <th>7</th>\n",
       "      <td>genres_Comedy</td>\n",
       "      <td>0.003547</td>\n",
       "    </tr>\n",
       "    <tr>\n",
       "      <th>9</th>\n",
       "      <td>genres_Drama</td>\n",
       "      <td>0.002697</td>\n",
       "    </tr>\n",
       "  </tbody>\n",
       "</table>\n",
       "</div>"
      ],
      "text/plain": [
       "                    Feature  importance\n",
       "1                    budget    0.472273\n",
       "4                   tagline    0.200072\n",
       "3                   runtime    0.144662\n",
       "0     belongs_to_collection    0.051776\n",
       "2                  homepage    0.039504\n",
       "12  production_countries_US    0.026053\n",
       "13      spoken_languages_en    0.019441\n",
       "5             release_month    0.017205\n",
       "8        genres_Documentary    0.008131\n",
       "11  production_countries_IN    0.005834\n",
       "10            genres_Horror    0.004879\n",
       "6             genres_Action    0.003924\n",
       "7             genres_Comedy    0.003547\n",
       "9              genres_Drama    0.002697"
      ]
     },
     "execution_count": 80,
     "metadata": {},
     "output_type": "execute_result"
    }
   ],
   "source": [
    "importances_rf = model_rf.feature_importances_\n",
    "importances = pd.DataFrame({'Feature':X_train.columns,'importance':importances_rf})\n",
    "importances.sort_values('importance', ascending = False)"
   ]
  },
  {
   "attachments": {},
   "cell_type": "markdown",
   "id": "b78fbd0e",
   "metadata": {},
   "source": [
    "### Adaptive Boosting\n",
    "*By Sean Park*"
   ]
  },
  {
   "cell_type": "code",
   "execution_count": 10,
   "id": "18bc666a-21e7-41c2-8c6f-e70ba13241da",
   "metadata": {},
   "outputs": [],
   "source": [
    "# adaptive Boosting\n",
    "model_ada = AdaBoostClassifier(random_state=1,base_estimator = DecisionTreeClassifier(max_depth=2),learning_rate=0.08,\n",
    "                          n_estimators=900).fit(X_train,y_train.values.ravel())"
   ]
  },
  {
   "cell_type": "code",
   "execution_count": 78,
   "id": "f4a8bf31-7ed3-4037-8cbf-b3071c143d00",
   "metadata": {},
   "outputs": [
    {
     "data": {
      "text/html": [
       "<div>\n",
       "<style scoped>\n",
       "    .dataframe tbody tr th:only-of-type {\n",
       "        vertical-align: middle;\n",
       "    }\n",
       "\n",
       "    .dataframe tbody tr th {\n",
       "        vertical-align: top;\n",
       "    }\n",
       "\n",
       "    .dataframe thead th {\n",
       "        text-align: right;\n",
       "    }\n",
       "</style>\n",
       "<table border=\"1\" class=\"dataframe\">\n",
       "  <thead>\n",
       "    <tr style=\"text-align: right;\">\n",
       "      <th></th>\n",
       "      <th>Feature</th>\n",
       "      <th>importance</th>\n",
       "    </tr>\n",
       "  </thead>\n",
       "  <tbody>\n",
       "    <tr>\n",
       "      <th>3</th>\n",
       "      <td>runtime</td>\n",
       "      <td>0.345209</td>\n",
       "    </tr>\n",
       "    <tr>\n",
       "      <th>1</th>\n",
       "      <td>budget</td>\n",
       "      <td>0.329511</td>\n",
       "    </tr>\n",
       "    <tr>\n",
       "      <th>5</th>\n",
       "      <td>release_month</td>\n",
       "      <td>0.122461</td>\n",
       "    </tr>\n",
       "    <tr>\n",
       "      <th>12</th>\n",
       "      <td>production_countries_US</td>\n",
       "      <td>0.031989</td>\n",
       "    </tr>\n",
       "    <tr>\n",
       "      <th>0</th>\n",
       "      <td>belongs_to_collection</td>\n",
       "      <td>0.022286</td>\n",
       "    </tr>\n",
       "    <tr>\n",
       "      <th>6</th>\n",
       "      <td>genres_Action</td>\n",
       "      <td>0.021387</td>\n",
       "    </tr>\n",
       "    <tr>\n",
       "      <th>2</th>\n",
       "      <td>homepage</td>\n",
       "      <td>0.020696</td>\n",
       "    </tr>\n",
       "    <tr>\n",
       "      <th>13</th>\n",
       "      <td>spoken_languages_en</td>\n",
       "      <td>0.020636</td>\n",
       "    </tr>\n",
       "    <tr>\n",
       "      <th>11</th>\n",
       "      <td>production_countries_IN</td>\n",
       "      <td>0.016929</td>\n",
       "    </tr>\n",
       "    <tr>\n",
       "      <th>4</th>\n",
       "      <td>tagline</td>\n",
       "      <td>0.016096</td>\n",
       "    </tr>\n",
       "    <tr>\n",
       "      <th>10</th>\n",
       "      <td>genres_Horror</td>\n",
       "      <td>0.015549</td>\n",
       "    </tr>\n",
       "    <tr>\n",
       "      <th>7</th>\n",
       "      <td>genres_Comedy</td>\n",
       "      <td>0.015343</td>\n",
       "    </tr>\n",
       "    <tr>\n",
       "      <th>9</th>\n",
       "      <td>genres_Drama</td>\n",
       "      <td>0.013196</td>\n",
       "    </tr>\n",
       "    <tr>\n",
       "      <th>8</th>\n",
       "      <td>genres_Documentary</td>\n",
       "      <td>0.008714</td>\n",
       "    </tr>\n",
       "  </tbody>\n",
       "</table>\n",
       "</div>"
      ],
      "text/plain": [
       "                    Feature  importance\n",
       "3                   runtime    0.345209\n",
       "1                    budget    0.329511\n",
       "5             release_month    0.122461\n",
       "12  production_countries_US    0.031989\n",
       "0     belongs_to_collection    0.022286\n",
       "6             genres_Action    0.021387\n",
       "2                  homepage    0.020696\n",
       "13      spoken_languages_en    0.020636\n",
       "11  production_countries_IN    0.016929\n",
       "4                   tagline    0.016096\n",
       "10            genres_Horror    0.015549\n",
       "7             genres_Comedy    0.015343\n",
       "9              genres_Drama    0.013196\n",
       "8        genres_Documentary    0.008714"
      ]
     },
     "execution_count": 78,
     "metadata": {},
     "output_type": "execute_result"
    }
   ],
   "source": [
    "importances_ada = model_ada.feature_importances_\n",
    "importances = pd.DataFrame({'Feature':X_train.columns,'importance':importances_ada})\n",
    "importances.sort_values('importance', ascending = False)"
   ]
  },
  {
   "attachments": {},
   "cell_type": "markdown",
   "id": "2916849c",
   "metadata": {},
   "source": [
    "### Gradient Boosting\n",
    "*By Mehmet Ali Mehmetzade*"
   ]
  },
  {
   "cell_type": "code",
   "execution_count": 11,
   "id": "7c2bbfc7-cedd-413c-a6db-ec40c534e26e",
   "metadata": {},
   "outputs": [],
   "source": [
    "# gradient Boosting\n",
    "model_gb = GradientBoostingClassifier(random_state=1,max_depth=2,learning_rate=0.1,subsample=1,\n",
    "                          n_estimators=500).fit(X_train, y_train.values.ravel())\n",
    "# 0.425721729088532"
   ]
  },
  {
   "cell_type": "code",
   "execution_count": 79,
   "id": "75d2b1f8-ab44-480a-9bf2-d0318a2fe522",
   "metadata": {},
   "outputs": [
    {
     "data": {
      "text/html": [
       "<div>\n",
       "<style scoped>\n",
       "    .dataframe tbody tr th:only-of-type {\n",
       "        vertical-align: middle;\n",
       "    }\n",
       "\n",
       "    .dataframe tbody tr th {\n",
       "        vertical-align: top;\n",
       "    }\n",
       "\n",
       "    .dataframe thead th {\n",
       "        text-align: right;\n",
       "    }\n",
       "</style>\n",
       "<table border=\"1\" class=\"dataframe\">\n",
       "  <thead>\n",
       "    <tr style=\"text-align: right;\">\n",
       "      <th></th>\n",
       "      <th>Feature</th>\n",
       "      <th>importance</th>\n",
       "    </tr>\n",
       "  </thead>\n",
       "  <tbody>\n",
       "    <tr>\n",
       "      <th>1</th>\n",
       "      <td>budget</td>\n",
       "      <td>0.688318</td>\n",
       "    </tr>\n",
       "    <tr>\n",
       "      <th>3</th>\n",
       "      <td>runtime</td>\n",
       "      <td>0.118158</td>\n",
       "    </tr>\n",
       "    <tr>\n",
       "      <th>4</th>\n",
       "      <td>tagline</td>\n",
       "      <td>0.107053</td>\n",
       "    </tr>\n",
       "    <tr>\n",
       "      <th>0</th>\n",
       "      <td>belongs_to_collection</td>\n",
       "      <td>0.026426</td>\n",
       "    </tr>\n",
       "    <tr>\n",
       "      <th>2</th>\n",
       "      <td>homepage</td>\n",
       "      <td>0.017191</td>\n",
       "    </tr>\n",
       "    <tr>\n",
       "      <th>12</th>\n",
       "      <td>production_countries_US</td>\n",
       "      <td>0.013256</td>\n",
       "    </tr>\n",
       "    <tr>\n",
       "      <th>5</th>\n",
       "      <td>release_month</td>\n",
       "      <td>0.011512</td>\n",
       "    </tr>\n",
       "    <tr>\n",
       "      <th>10</th>\n",
       "      <td>genres_Horror</td>\n",
       "      <td>0.005411</td>\n",
       "    </tr>\n",
       "    <tr>\n",
       "      <th>7</th>\n",
       "      <td>genres_Comedy</td>\n",
       "      <td>0.005194</td>\n",
       "    </tr>\n",
       "    <tr>\n",
       "      <th>11</th>\n",
       "      <td>production_countries_IN</td>\n",
       "      <td>0.004000</td>\n",
       "    </tr>\n",
       "    <tr>\n",
       "      <th>13</th>\n",
       "      <td>spoken_languages_en</td>\n",
       "      <td>0.001911</td>\n",
       "    </tr>\n",
       "    <tr>\n",
       "      <th>9</th>\n",
       "      <td>genres_Drama</td>\n",
       "      <td>0.000848</td>\n",
       "    </tr>\n",
       "    <tr>\n",
       "      <th>8</th>\n",
       "      <td>genres_Documentary</td>\n",
       "      <td>0.000428</td>\n",
       "    </tr>\n",
       "    <tr>\n",
       "      <th>6</th>\n",
       "      <td>genres_Action</td>\n",
       "      <td>0.000294</td>\n",
       "    </tr>\n",
       "  </tbody>\n",
       "</table>\n",
       "</div>"
      ],
      "text/plain": [
       "                    Feature  importance\n",
       "1                    budget    0.688318\n",
       "3                   runtime    0.118158\n",
       "4                   tagline    0.107053\n",
       "0     belongs_to_collection    0.026426\n",
       "2                  homepage    0.017191\n",
       "12  production_countries_US    0.013256\n",
       "5             release_month    0.011512\n",
       "10            genres_Horror    0.005411\n",
       "7             genres_Comedy    0.005194\n",
       "11  production_countries_IN    0.004000\n",
       "13      spoken_languages_en    0.001911\n",
       "9              genres_Drama    0.000848\n",
       "8        genres_Documentary    0.000428\n",
       "6             genres_Action    0.000294"
      ]
     },
     "execution_count": 79,
     "metadata": {},
     "output_type": "execute_result"
    }
   ],
   "source": [
    "importances_gb = model_gb.feature_importances_\n",
    "importances = pd.DataFrame({'Feature':X_train.columns,'importance':importances_gb})\n",
    "importances.sort_values('importance', ascending = False)"
   ]
  },
  {
   "attachments": {},
   "cell_type": "markdown",
   "id": "37f552ef",
   "metadata": {},
   "source": [
    "### XGBoost\n",
    "*By Margaret Pirozzolo*"
   ]
  },
  {
   "cell_type": "code",
   "execution_count": 68,
   "id": "2a6c9707-a966-4e9b-9775-3b957a174870",
   "metadata": {},
   "outputs": [
    {
     "name": "stdout",
     "output_type": "stream",
     "text": [
      "Fitting 5 folds for each of 200 candidates, totalling 1000 fits\n"
     ]
    },
    {
     "name": "stderr",
     "output_type": "stream",
     "text": [
      "/opt/conda/lib/python3.7/site-packages/joblib/externals/loky/process_executor.py:703: UserWarning: A worker stopped while some jobs were given to the executor. This can be caused by a too short worker timeout or by a memory leak.\n",
      "  \"timeout or by a memory leak.\", UserWarning\n"
     ]
    },
    {
     "name": "stdout",
     "output_type": "stream",
     "text": [
      "0.7522014911236468 {'subsample': 0.6, 'reg_lambda': 8, 'n_estimators': 1100, 'max_depth': 9, 'learning_rate': 0.01, 'gamma': 0}\n"
     ]
    }
   ],
   "source": [
    "parameters = {'max_depth':[4,5,6,7,8,9,10,11,12],\n",
    "              'n_estimators':range(100,7000,200), \n",
    "              'learning_rate':[0.01, 0.05, 0.1, 0.15, 0.2,0.25, 0.3, 0.35, 0.4, 0.45, 0.5, 0.9], \n",
    "              'subsample':[0.1,0.2,0.3,0.4,0.5,0.6, 0.7, 0.8, 0.9,1.0], \n",
    "              'reg_lambda':[0,1,2,3,4,5,6,7,8,9,10], \n",
    "              'gamma':[0,1,2,3,4,5,6,7,8,9,10]}\n",
    "model = RandomizedSearchCV(xgb.XGBClassifier(random_state=45), param_distributions = parameters, n_iter = 200, \n",
    "                           n_jobs=-1, verbose=1, cv=5, scoring=['accuracy','recall'], refit=\"recall\")\n",
    "model.fit(X_train, y_train)\n",
    "print (model.best_score_, model.best_params_) "
   ]
  },
  {
   "cell_type": "code",
   "execution_count": null,
   "id": "4fdd428d",
   "metadata": {},
   "outputs": [],
   "source": [
    "model_xgb = xgb.XGBClassifier(random_state=45, max_depth = 8 , n_estimators = 1100, \n",
    "                                  learning_rate = 0.01, subsample = 0.6, reg_lambda = 8, gamma = 0)"
   ]
  },
  {
   "attachments": {},
   "cell_type": "markdown",
   "id": "48817e6e-c3f3-4284-8242-c0b10a6b11f0",
   "metadata": {},
   "source": [
    "After this result, I tuned the decision threshold with cross validation. "
   ]
  },
  {
   "cell_type": "code",
   "execution_count": 90,
   "id": "0b661608-2e5a-42a7-91c1-b928d18a4128",
   "metadata": {},
   "outputs": [],
   "source": [
    "model_class = xgb.XGBClassifier(random_state=45, max_depth = 8 , n_estimators = 1100, \n",
    "                                  learning_rate = 0.01, subsample = 0.6, reg_lambda = 8, gamma = 0)\n",
    "cross_val_ypred = cross_val_predict(model_class, X_train.values, y_train_le_total, cv = 5, method = 'predict_proba')"
   ]
  },
  {
   "cell_type": "code",
   "execution_count": 91,
   "id": "9ea467c9-3a91-44d3-adfd-0ee9bddfc55a",
   "metadata": {},
   "outputs": [
    {
     "data": {
      "image/png": "[encoded data removed]",
      "text/plain": [
       "<Figure size 800x800 with 1 Axes>"
      ]
     },
     "metadata": {},
     "output_type": "display_data"
    }
   ],
   "source": [
    "accuracies = []\n",
    "recalls = []\n",
    "\n",
    "thresholds = np.arange(0,1.01,0.01)\n",
    "for threshold in thresholds:\n",
    "    predicted_class = cross_val_ypred[:,1] > threshold\n",
    "    predicted_class = predicted_class.astype(int)\n",
    "    accuracy = accuracy_score(y_train, predicted_class)\n",
    "    accuracies.append(accuracy)\n",
    "    recall = recall_score(y_train, predicted_class)\n",
    "    recalls.append(recall)\n",
    "\n",
    "\n",
    "def plot_accuracy_recall_vs_threshold(accuracies, recalls, thresholds):\n",
    "    plt.figure(figsize=(8, 8))\n",
    "    plt.title(\"Accuracy and Recall Scores as a function of the decision threshold\")\n",
    "    plt.plot(thresholds, accuracies, \"b--\", label=\"Accuracy\")\n",
    "    plt.plot(thresholds, recalls, \"g-\", label=\"Recall\")\n",
    "    plt.plot(thresholds, accuracies, \"o\", color = 'blue')\n",
    "    plt.plot(thresholds, recalls, \"o\", color = 'green')\n",
    "    plt.ylabel(\"Score\")\n",
    "    plt.xlabel(\"Decision Threshold\")\n",
    "    plt.legend(loc='best')\n",
    "    plt.legend()\n",
    "plot_accuracy_recall_vs_threshold(accuracies, recalls, thresholds)"
   ]
  },
  {
   "attachments": {},
   "cell_type": "markdown",
   "id": "24f02751",
   "metadata": {},
   "source": [
    "After getting these initial search results, I tried many rounds of further turning with gridsearch around the optimal values that this grid output. Interestingly, this randomized search output the best values that I was able to find. I tried splitting the data into 0 budget and positive budget and training separate models, but this led to overfitting and ultimately worse performance on test data. \n"
   ]
  },
  {
   "cell_type": "code",
   "execution_count": null,
   "id": "00b5245b-760a-46ca-b0f9-af29d30f045c",
   "metadata": {},
   "outputs": [
    {
     "data": {
      "text/html": [
       "<div>\n",
       "<style scoped>\n",
       "    .dataframe tbody tr th:only-of-type {\n",
       "        vertical-align: middle;\n",
       "    }\n",
       "\n",
       "    .dataframe tbody tr th {\n",
       "        vertical-align: top;\n",
       "    }\n",
       "\n",
       "    .dataframe thead th {\n",
       "        text-align: right;\n",
       "    }\n",
       "</style>\n",
       "<table border=\"1\" class=\"dataframe\">\n",
       "  <thead>\n",
       "    <tr style=\"text-align: right;\">\n",
       "      <th></th>\n",
       "      <th>0</th>\n",
       "    </tr>\n",
       "  </thead>\n",
       "  <tbody>\n",
       "    <tr>\n",
       "      <th>runtime</th>\n",
       "      <td>32239.0</td>\n",
       "    </tr>\n",
       "    <tr>\n",
       "      <th>release_month</th>\n",
       "      <td>17903.0</td>\n",
       "    </tr>\n",
       "    <tr>\n",
       "      <th>budget</th>\n",
       "      <td>16013.0</td>\n",
       "    </tr>\n",
       "    <tr>\n",
       "      <th>production_countries_US</th>\n",
       "      <td>3875.0</td>\n",
       "    </tr>\n",
       "    <tr>\n",
       "      <th>homepage</th>\n",
       "      <td>3509.0</td>\n",
       "    </tr>\n",
       "    <tr>\n",
       "      <th>genres_Comedy</th>\n",
       "      <td>3113.0</td>\n",
       "    </tr>\n",
       "    <tr>\n",
       "      <th>spoken_languages_en</th>\n",
       "      <td>3099.0</td>\n",
       "    </tr>\n",
       "    <tr>\n",
       "      <th>tagline</th>\n",
       "      <td>3010.0</td>\n",
       "    </tr>\n",
       "    <tr>\n",
       "      <th>belongs_to_collection</th>\n",
       "      <td>2829.0</td>\n",
       "    </tr>\n",
       "    <tr>\n",
       "      <th>genres_Drama</th>\n",
       "      <td>2696.0</td>\n",
       "    </tr>\n",
       "    <tr>\n",
       "      <th>genres_Action</th>\n",
       "      <td>2690.0</td>\n",
       "    </tr>\n",
       "    <tr>\n",
       "      <th>genres_Horror</th>\n",
       "      <td>1583.0</td>\n",
       "    </tr>\n",
       "    <tr>\n",
       "      <th>genres_Documentary</th>\n",
       "      <td>1317.0</td>\n",
       "    </tr>\n",
       "    <tr>\n",
       "      <th>production_countries_IN</th>\n",
       "      <td>835.0</td>\n",
       "    </tr>\n",
       "  </tbody>\n",
       "</table>\n",
       "</div>"
      ],
      "text/plain": [
       "                               0\n",
       "runtime                  32239.0\n",
       "release_month            17903.0\n",
       "budget                   16013.0\n",
       "production_countries_US   3875.0\n",
       "homepage                  3509.0\n",
       "genres_Comedy             3113.0\n",
       "spoken_languages_en       3099.0\n",
       "tagline                   3010.0\n",
       "belongs_to_collection     2829.0\n",
       "genres_Drama              2696.0\n",
       "genres_Action             2690.0\n",
       "genres_Horror             1583.0\n",
       "genres_Documentary        1317.0\n",
       "production_countries_IN    835.0"
      ]
     },
     "execution_count": 96,
     "metadata": {},
     "output_type": "execute_result"
    }
   ],
   "source": [
    "booster = model_xg.get_booster()\n",
    "importances_xg = booster.get_score()\n",
    "importances = pd.DataFrame.from_dict(data=importances_xg, \n",
    "                                       orient='index')\n",
    "\n",
    "importances.sort_values(0, ascending = False)"
   ]
  },
  {
   "attachments": {},
   "cell_type": "markdown",
   "id": "be2594f1",
   "metadata": {},
   "source": [
    "## Model Ensemble "
   ]
  },
  {
   "attachments": {},
   "cell_type": "markdown",
   "id": "fa68b0a5",
   "metadata": {},
   "source": [
    "Put the results of enembling individual models. Feel free to add subsections in this section to add more innovative ensembling methods."
   ]
  },
  {
   "attachments": {},
   "cell_type": "markdown",
   "id": "66c5924a",
   "metadata": {},
   "source": [
    "### Voting ensemble"
   ]
  },
  {
   "cell_type": "code",
   "execution_count": null,
   "id": "53c5d3cd",
   "metadata": {},
   "outputs": [
    {
     "data": {
      "text/plain": [
       "0.7740656851642129"
      ]
     },
     "metadata": {},
     "output_type": "display_data"
    }
   ],
   "source": [
    "# hard voting ensemble (Margaret)\n",
    "hv_model = VotingClassifier(estimators=[('ada',model_ada),('rf',model_rf),('gb',model_gb),('xgb',model_xgb)])\n",
    "hv_model.fit(X_train,y_train.values.ravel())\n",
    "hv_model.score(X_test, y_test.values.ravel())"
   ]
  },
  {
   "cell_type": "code",
   "execution_count": null,
   "id": "bc63bb1e",
   "metadata": {},
   "outputs": [
    {
     "data": {
      "text/plain": [
       "0.7774631936579841"
      ]
     },
     "metadata": {},
     "output_type": "display_data"
    }
   ],
   "source": [
    "# soft voting ensemble (Margaret)\n",
    "sv_model = VotingClassifier(estimators=[('ada',model_ada),('rf',model_rf),('gb',model_gb),('xgb',model_xgb)],\n",
    "                                 voting = 'soft')\n",
    "sv_model.fit(X_train,y_train.values.ravel())\n",
    "sv_model.score(X_test, y_test.values.ravel())"
   ]
  },
  {
   "attachments": {},
   "cell_type": "markdown",
   "id": "eade90c8",
   "metadata": {},
   "source": [
    "There was not a remarkable difference between the hard voting and soft voting ensembles, but the soft voting ensemble performed slightly better on test data. The soft voting ensemble accuracy of 77.75% still underperformed all the individual models alone."
   ]
  },
  {
   "attachments": {},
   "cell_type": "markdown",
   "id": "bcff4cda",
   "metadata": {},
   "source": [
    "### Stacking ensemble\n",
    "Try out different models as the metamodel. You may split work as follows. The person who worked on certain types of models *(say AdaBoost and MARS)* also uses those models as a metamodel in the stacking ensemble."
   ]
  },
  {
   "attachments": {},
   "cell_type": "markdown",
   "id": "397983c2",
   "metadata": {},
   "source": [
    "Below are some of the stacking ensembles we tried."
   ]
  },
  {
   "cell_type": "code",
   "execution_count": null,
   "id": "19d09162",
   "metadata": {},
   "outputs": [
    {
     "data": {
      "text/plain": [
       "0.7757644394110985"
      ]
     },
     "metadata": {},
     "output_type": "display_data"
    }
   ],
   "source": [
    "#Using CatBoost as the meta model (Margaret)\n",
    "catstack_model = StackingClassifier(estimators=[('ada',model_ada),('gb',model_gb),('xgb',model_xgb)],\n",
    "                                   final_estimator=CatBoostClassifier(random_state=45, verbose = False),n_jobs=-1,\n",
    "                                   cv = 5)\n",
    "catstack_model.fit(X_train,y_train.values.ravel())\n",
    "catstack_model.score(X_test, y_test.values.ravel())"
   ]
  },
  {
   "cell_type": "code",
   "execution_count": null,
   "id": "e6b62796",
   "metadata": {},
   "outputs": [
    {
     "data": {
      "text/plain": [
       "0.7684031710079275"
      ]
     },
     "metadata": {},
     "output_type": "display_data"
    }
   ],
   "source": [
    "#Using random forests as the meta model (final_estimator). (Margaret)\n",
    "rfstack_model = StackingClassifier(estimators=[('ada',model_ada),('rf',model_rf),('gb',model_gb),('xgb',model_xgb)],\n",
    "                                   final_estimator=RandomForestClassifier(n_estimators=700, max_features=1,\n",
    "                                                                          random_state=1,oob_score=True),n_jobs=-1,\n",
    "                                   cv = 5)\n",
    "rfstack_model.fit(X_train,y_train.values.ravel())\n",
    "rfstack_model.score(X_test, y_test.values.ravel())"
   ]
  },
  {
   "attachments": {},
   "cell_type": "markdown",
   "id": "4a763262",
   "metadata": {},
   "source": [
    "Although we tried out many stacking ensembles, only the ensemble with logistic regression as the meta model seemed to have a considerable improvement from the individual models. The stats of this model are shown below."
   ]
  },
  {
   "cell_type": "code",
   "execution_count": null,
   "id": "fdb18070",
   "metadata": {},
   "outputs": [
    {
     "data": {
      "text/plain": [
       "0.782559456398641"
      ]
     },
     "metadata": {},
     "output_type": "display_data"
    }
   ],
   "source": [
    "#Using Logistic regression as the meta model (final_estimator) (Margaret)\n",
    "logstack_model = StackingClassifier(estimators=[('ada',model_ada),('rf',model_rf),('gb',model_gb),('xgb',model_xgb)],\n",
    "                                   final_estimator=LogisticRegression(random_state=1,max_iter=10000),n_jobs=-1,\n",
    "                                   cv = 5)\n",
    "logstack_model.fit(X_train,y_train.values.ravel())\n",
    "logstack_model.score(X_test, y_test.values.ravel())"
   ]
  },
  {
   "cell_type": "code",
   "execution_count": null,
   "id": "ebdce691",
   "metadata": {},
   "outputs": [],
   "source": [
    "cross_val_ypred = cross_val_predict(logstack_model, X_train.values, y_train_le_total, cv = 5, method = 'predict_proba')"
   ]
  },
  {
   "cell_type": "code",
   "execution_count": null,
   "id": "99c29f9f",
   "metadata": {},
   "outputs": [
    {
     "data": {
      "image/png": "[encoded data removed]",
      "text/plain": [
       "<Figure size 800x800 with 1 Axes>"
      ]
     },
     "metadata": {},
     "output_type": "display_data"
    }
   ],
   "source": [
    "accuracies = []\n",
    "recalls = []\n",
    "\n",
    "thresholds = np.arange(0,1.01,0.01)\n",
    "for threshold in thresholds:\n",
    "    predicted_class = cross_val_ypred[:,1] > threshold\n",
    "    predicted_class = predicted_class.astype(int)\n",
    "    accuracy = accuracy_score(y_train, predicted_class)\n",
    "    accuracies.append(accuracy)\n",
    "    recall = recall_score(y_train, predicted_class)\n",
    "    recalls.append(recall)\n",
    "\n",
    "\n",
    "def plot_accuracy_recall_vs_threshold(accuracies, recalls, thresholds):\n",
    "    plt.figure(figsize=(8, 8))\n",
    "    plt.title(\"Accuracy and Recall Scores as a function of the decision threshold\")\n",
    "    plt.plot(thresholds, accuracies, \"b--\", label=\"Accuracy\")\n",
    "    plt.plot(thresholds, recalls, \"g-\", label=\"Recall\")\n",
    "    plt.plot(thresholds, accuracies, \"o\", color = 'blue')\n",
    "    plt.plot(thresholds, recalls, \"o\", color = 'green')\n",
    "    plt.ylabel(\"Score\")\n",
    "    plt.xlabel(\"Decision Threshold\")\n",
    "    plt.legend(loc='best')\n",
    "    plt.legend()\n",
    "plot_accuracy_recall_vs_threshold(accuracies, recalls, thresholds)"
   ]
  },
  {
   "cell_type": "code",
   "execution_count": null,
   "id": "a95b98fc",
   "metadata": {},
   "outputs": [
    {
     "name": "stdout",
     "output_type": "stream",
     "text": [
      "Test accuracy:  78.2559456398641\n",
      "Test Recall:  74.20091324200914\n"
     ]
    }
   ],
   "source": [
    "np.column_stack([thresholds,accuracies,recalls])\n",
    "\n",
    "predicted_probability = logstack_model.predict_proba(X_test)[:,1]\n",
    "\n",
    "predicted_class = predicted_probability > optimal_threshold\n",
    "predicted_class = predicted_class.astype(int)\n",
    "\n",
    "#Computing the accuracy and recall\n",
    "ac = accuracy_score(y_test,predicted_class)*100\n",
    "rs = recall_score(y_test, predicted_class)*100\n",
    "\n",
    "print('Test accuracy: ', ac)\n",
    "print('Test Recall: ', rs)"
   ]
  },
  {
   "attachments": {},
   "cell_type": "markdown",
   "id": "2b22a5f3",
   "metadata": {
    "tags": []
   },
   "source": [
    "### Ensemble of ensembled models\n",
    "\n",
    "If you are creating multiple stacking ensembles *(based on different metamodels)*, you may ensemble them."
   ]
  },
  {
   "attachments": {},
   "cell_type": "markdown",
   "id": "570f9f25",
   "metadata": {},
   "source": [
    "We created an ensemble of ensembled models but did not have any considerable imporvement in performance."
   ]
  },
  {
   "cell_type": "code",
   "execution_count": 87,
   "id": "cc6e5dd2-ddb9-42e1-8127-4f2ec4a4d85b",
   "metadata": {},
   "outputs": [
    {
     "data": {
      "text/plain": [
       "0.7763306908267271"
      ]
     },
     "execution_count": 87,
     "metadata": {},
     "output_type": "execute_result"
    }
   ],
   "source": [
    "#ensembling the ensembles (Margaret)\n",
    "metastack_model = StackingClassifier(estimators=[('sv',sv_model),('log',logstack_model),('rf',rfstack_model)],\n",
    "                                   final_estimator=CatBoostClassifier(random_state=45, verbose = False),n_jobs=-1,\n",
    "                                   cv = 5)\n",
    "metastack_model.fit(X_train,y_train.values.ravel())\n",
    "metastack_model.score(X_test, y_test.values.ravel())"
   ]
  },
  {
   "attachments": {},
   "cell_type": "markdown",
   "id": "1b46343d",
   "metadata": {},
   "source": [
    "## Limitations of the model with regard to prediction"
   ]
  },
  {
   "attachments": {},
   "cell_type": "markdown",
   "id": "016525da-9df9-4f75-803e-d7cf7213a7d6",
   "metadata": {},
   "source": [
    "Based on likelihood alone, it seems that the XGBoost model could be better tuned. However, tuning the hyperparameters over and over again led to lower performance. It is very unlikely that the random search output the optimal hyper parameters on the first try, but with our resources, we could not imporve them. \n",
    "\n",
    "It is very possible and convenient for porduction companies to collect the data relating to the predictors in our model. All of them are quite simple, especially the most important ones across models (runtime, budget, tagline, and release month). Our model can be used months in advance of release. The only real limiting predictor is runtime, as the exact runtime is often unknown until the movie is finished. However, movies do not get released until months after the movie is finished anyways. \n",
    "\n",
    "We don't forsee this model becoming obselete any time soon. However, with the rise of miniseries and short-form content, it is really hard to forsee what the movie landscape will look like in ten years. If the movie landscape shifts completely, then this model will be obsolete. "
   ]
  },
  {
   "attachments": {},
   "cell_type": "markdown",
   "id": "62a185cb",
   "metadata": {
    "tags": []
   },
   "source": [
    "## Conclusions and Recommendations to stakeholder(s)"
   ]
  },
  {
   "attachments": {},
   "cell_type": "markdown",
   "id": "3ab2af63-dcd3-411a-83d9-d1f7e247c0e6",
   "metadata": {},
   "source": [
    "Based on our models, it is clear that the two most important factors in movie porfitablilty are runtime and budget. Our best performing model (XGBoost) also puts a lot of importance on release month. Budget makes sense because higher budget movies can afford crow-pleasing features like CGI and famous actors. Runtime is a little less obvious, but it still makes sense that people won't want to pay money to see a super long or super short movie. Release month is important because there are certain times of year where people have more free time to go to the movies. \n",
    "\n",
    "Based on our models, production companies should try and invest in movies with higher budgets. We understand this is difficult for smaller production companies, but higher budgets are generally more profitable. They should also invest in movies in the sweet spot of 110-140 minutes. This range is where the most profitable movies lie. They should try to relase movies in May, June, July, November, or December as these are the most profitable months to release a movies. \n",
    "\n",
    "The only limitation we can think of in our model is it could get dated. This can be solved by periodically updating the models and datasets with recent movies. As we mentioned in the previous section, the movies landscape could shift in the wake of shorter form content. This could completely destory our model. However, this has not happened yet."
   ]
  },
  {
   "attachments": {},
   "cell_type": "markdown",
   "id": "5505da5c",
   "metadata": {},
   "source": [
    "<html>\n",
    "<style>\n",
    "table, td, th {\n",
    "  border: 1px solid black;\n",
    "}\n",
    "\n",
    "table {\n",
    "  border-collapse: collapse;\n",
    "  width: 100%;\n",
    "}\n",
    "\n",
    "th {\n",
    "  text-align: left;\n",
    "}\n",
    "    \n",
    "\n",
    "</style>\n",
    "<body>\n",
    "\n",
    "<h2>Individual contribution</h2>\n",
    "\n",
    "<table style=\"width:100%\">\n",
    "     <colgroup>\n",
    "       <col span=\"1\" style=\"width: 15%;\">\n",
    "       <col span=\"1\" style=\"width: 20%;\">\n",
    "       <col span=\"1\" style=\"width: 25%;\">\n",
    "       <col span=\"1\" style=\"width: 40%;\">\n",
    "    </colgroup>\n",
    "  <tr>\n",
    "    <th>Team member</th>\n",
    "    <th>Individual Model</th>\n",
    "    <th>Work other than individual model</th>    \n",
    "    <th>Details of work other than individual model</th>\n",
    "  </tr>\n",
    "  <tr>\n",
    "    <td>Margaret Pirozzolo</td>\n",
    "    <td>XGBoost</td>\n",
    "    <td>Data cleaning, EDA, variable selection, ensembling </td>    \n",
    "    <td>Imputed missing values, visualized data, created columns, used lasso to select features, created ensemble models</td>\n",
    "  </tr>\n",
    "  <tr>\n",
    "    <td>Lena Choe</td>\n",
    "    <td>RandomForest</td>\n",
    "    <td>ensemble analysis</td>    \n",
    "    <td>Interpreting ensemble for report</td>\n",
    "  </tr>\n",
    "    <tr>\n",
    "    <td>Sean Park</td>\n",
    "    <td>AdaBoost</td>\n",
    "    <td>Ensembling</td>    \n",
    "    <td>Stacking ensembles and voting ensemble</td>\n",
    "  </tr>\n",
    "    <tr>\n",
    "    <td>Mehmet Ali Mehmetzade</td>\n",
    "    <td>Gradient Boosting</td>\n",
    "    <td> </td>    \n",
    "    <td> </td> \n",
    "  </tr>\n",
    "</table>"
   ]
  },
  {
   "attachments": {},
   "cell_type": "markdown",
   "id": "5831751c",
   "metadata": {},
   "source": [
    "## Appendix {-}"
   ]
  },
  {
   "attachments": {},
   "cell_type": "markdown",
   "id": "d13d374d",
   "metadata": {},
   "source": [
    "You may put additional stuff here as Appendix. You may refer to the Appendix in the main report to support your arguments. However, the appendix section is unlikely to be checked while grading, unless the grader deems it necessary."
   ]
  },
  {
   "cell_type": "code",
   "execution_count": 2,
   "id": "6bef9c50",
   "metadata": {},
   "outputs": [],
   "source": [
    "import pandas as pd\n",
    "import seaborn as sns"
   ]
  },
  {
   "cell_type": "code",
   "execution_count": 6,
   "id": "d4900f66",
   "metadata": {},
   "outputs": [],
   "source": [
    "data = pd.read_csv('clean.csv')"
   ]
  },
  {
   "cell_type": "code",
   "execution_count": 7,
   "id": "d541bf04",
   "metadata": {},
   "outputs": [],
   "source": [
    "data = data.drop(['Unnamed: 0','production_companies','top_crew','top_cast','top_keyword'], axis = 1)"
   ]
  },
  {
   "cell_type": "code",
   "execution_count": null,
   "id": "207b7d66-e153-4312-a4d0-155c7458e939",
   "metadata": {},
   "outputs": [],
   "source": []
  }
 ],
 "metadata": {
  "environment": {
   "kernel": "python3",
   "name": "tf2-gpu.2-8.m108",
   "type": "gcloud",
   "uri": "gcr.io/deeplearning-platform-release/tf2-gpu.2-8:m108"
  },
  "kernelspec": {
   "display_name": "Python 3 (ipykernel)",
   "language": "python",
   "name": "python3"
  },
  "language_info": {
   "codemirror_mode": {
    "name": "ipython",
    "version": 3
   },
   "file_extension": ".py",
   "mimetype": "text/x-python",
   "name": "python",
   "nbconvert_exporter": "python",
   "pygments_lexer": "ipython3",
   "version": "3.7.12"
  }
 },
 "nbformat": 4,
 "nbformat_minor": 5
}
